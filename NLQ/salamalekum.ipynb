{
 "cells": [
  {
   "cell_type": "code",
   "execution_count": 1,
   "id": "fcacecdc",
   "metadata": {},
   "outputs": [
    {
     "name": "stderr",
     "output_type": "stream",
     "text": [
      "c:\\Users\\andre\\Documents\\University\\1st Year\\Machine Learning and Deep Learning\\Ego4D-NLQ\\.venv\\Lib\\site-packages\\tqdm\\auto.py:21: TqdmWarning: IProgress not found. Please update jupyter and ipywidgets. See https://ipywidgets.readthedocs.io/en/stable/user_install.html\n",
      "  from .autonotebook import tqdm as notebook_tqdm\n"
     ]
    }
   ],
   "source": [
    "from argparse import Namespace\n",
    "from torch.nn import ModuleDict\n",
    "from model.DeepVSLNet_cbkd import TeacherVSLNetCBDK, build_optimizer_and_scheduler\n",
    "from utils.cbkd_helpers import prune_block4, prune_block3, prune_block2\n",
    "from utils.cbkd_config import CBKDConfig\n",
    "\n",
    "from copy import deepcopy"
   ]
  },
  {
   "cell_type": "code",
   "execution_count": 2,
   "id": "728135e8",
   "metadata": {},
   "outputs": [],
   "source": [
    "def count_parameters(teacher, student):\n",
    "    def num_params(model):\n",
    "        return sum(p.numel() for p in model.parameters() if p.requires_grad)\n",
    "\n",
    "    teacher_total = num_params(teacher)\n",
    "    student_total = num_params(student)\n",
    "\n",
    "    print(f\"Teacher total parameters: {teacher_total:,}\")\n",
    "    print(f\"Student total parameters: {student_total:,}\")\n",
    "\n",
    "    reduction = 100 * (1 - student_total / teacher_total)\n",
    "    print(f\"Parameter reduction: {reduction:.2f}%\")"
   ]
  },
  {
   "cell_type": "code",
   "execution_count": 3,
   "id": "30b590f3",
   "metadata": {},
   "outputs": [],
   "source": [
    "configs = Namespace(\n",
    "    video_feature_dim=256,\n",
    "    dim=256,\n",
    "    film_mode=\"inside_encoder:multi\",\n",
    "    drop_rate=0,\n",
    "    word_size=300,\n",
    "    char_size=1000,\n",
    "    word_dim=300,\n",
    "    char_dim=50,\n",
    "    word_vectors=None,\n",
    "    num_heads=8,\n",
    "    max_pos_len=128,\n",
    "    predictor=\"glove\",\n",
    ")\n",
    "\n",
    "cbkd_config = CBKDConfig()\n",
    "\n",
    "model = TeacherVSLNetCBDK(configs=configs, word_vectors=None)\n",
    "student = deepcopy(model)"
   ]
  },
  {
   "cell_type": "code",
   "execution_count": 4,
   "id": "edee9102",
   "metadata": {},
   "outputs": [
    {
     "name": "stdout",
     "output_type": "stream",
     "text": [
      "Teacher total parameters: 964,096\n",
      "Student total parameters: 723,564\n",
      "Parameter reduction: 24.95%\n"
     ]
    }
   ],
   "source": [
    "student_2 = deepcopy(model.block2)\n",
    "pruned_block2 = prune_block2(student_2[\"feature_encoder\"], keep_ratio_ds=cbkd_config.keep_ratio_block2_ds, keep_ratio_attn=cbkd_config.keep_ratio_block2_attn)\n",
    "pruned_block2 = ModuleDict({\"feature_encoder\": pruned_block2})\n",
    "count_parameters(teacher=model.block2, student=pruned_block2)"
   ]
  },
  {
   "cell_type": "code",
   "execution_count": 5,
   "id": "d2b8350a",
   "metadata": {},
   "outputs": [
    {
     "name": "stdout",
     "output_type": "stream",
     "text": [
      "Teacher total parameters: 395,009\n",
      "Student total parameters: 198,613\n",
      "Parameter reduction: 49.72%\n"
     ]
    }
   ],
   "source": [
    "student_3 = deepcopy(model.block3)\n",
    "pruned_block3 = prune_block3(teacher_block3=student_3, keep_ratio_cqa=cbkd_config.keep_ratio_block3_cqa, keep_ratio_concat=cbkd_config.keep_ratio_block3_concat)\n",
    "count_parameters(model.block3, pruned_block3)"
   ]
  },
  {
   "cell_type": "code",
   "execution_count": 6,
   "id": "949a8dd5",
   "metadata": {},
   "outputs": [
    {
     "name": "stdout",
     "output_type": "stream",
     "text": [
      "Teacher total parameters: 1,228,290\n",
      "Student total parameters: 582,217\n",
      "Parameter reduction: 52.60%\n"
     ]
    }
   ],
   "source": [
    "student_4 = deepcopy(model.block4)\n",
    "pruned_block4 = prune_block4(teacher_block4=student_4, keep_ratio_enc=cbkd_config.keep_ratio_block4_enc, keep_ratio_pred=cbkd_config.keep_ratio_block4_pred)\n",
    "count_parameters(teacher=model.block4, student=pruned_block4)"
   ]
  },
  {
   "cell_type": "code",
   "execution_count": 7,
   "id": "2f722b32",
   "metadata": {},
   "outputs": [
    {
     "data": {
      "text/plain": [
       "ModuleDict(\n",
       "  (predictor): ConditionedPredictor(\n",
       "    (encoder): FeatureEncoder(\n",
       "      (pos_embedding): PositionalEmbedding(\n",
       "        (position_embeddings): Embedding(128, 256)\n",
       "      )\n",
       "      (conv_block): PrunedDSWrapper(\n",
       "        (down): Linear(in_features=256, out_features=25, bias=True)\n",
       "        (inner): DepthwiseSeparableConvBlock(\n",
       "          (depthwise_separable_conv): ModuleList(\n",
       "            (0-3): 4 x Sequential(\n",
       "              (0): Conv1d(25, 25, kernel_size=(7,), stride=(1,), padding=(3,), groups=25, bias=False)\n",
       "              (1): Conv1d(25, 25, kernel_size=(1,), stride=(1,))\n",
       "              (2): ReLU()\n",
       "            )\n",
       "          )\n",
       "          (layer_norms): ModuleList(\n",
       "            (0-3): 4 x LayerNorm((25,), eps=1e-06, elementwise_affine=True)\n",
       "          )\n",
       "          (dropout): Dropout(p=0, inplace=False)\n",
       "        )\n",
       "        (up): Linear(in_features=25, out_features=256, bias=True)\n",
       "      )\n",
       "      (attention_block): MultiHeadAttentionBlock(\n",
       "        (dropout): Dropout(p=0, inplace=False)\n",
       "        (query): Conv1D(\n",
       "          (conv1d): Sequential(\n",
       "            (0): Conv1d(256, 25, kernel_size=(1,), stride=(1,))\n",
       "            (1): Conv1d(25, 25, kernel_size=(1,), stride=(1,))\n",
       "            (2): Conv1d(25, 256, kernel_size=(1,), stride=(1,))\n",
       "          )\n",
       "        )\n",
       "        (key): Conv1D(\n",
       "          (conv1d): Sequential(\n",
       "            (0): Conv1d(256, 25, kernel_size=(1,), stride=(1,))\n",
       "            (1): Conv1d(25, 25, kernel_size=(1,), stride=(1,))\n",
       "            (2): Conv1d(25, 256, kernel_size=(1,), stride=(1,))\n",
       "          )\n",
       "        )\n",
       "        (value): Conv1D(\n",
       "          (conv1d): Sequential(\n",
       "            (0): Conv1d(256, 25, kernel_size=(1,), stride=(1,))\n",
       "            (1): Conv1d(25, 25, kernel_size=(1,), stride=(1,))\n",
       "            (2): Conv1d(25, 256, kernel_size=(1,), stride=(1,))\n",
       "          )\n",
       "        )\n",
       "        (layer_norm1): LayerNorm((256,), eps=1e-06, elementwise_affine=True)\n",
       "        (layer_norm2): LayerNorm((256,), eps=1e-06, elementwise_affine=True)\n",
       "        (out_layer): Conv1D(\n",
       "          (conv1d): Sequential(\n",
       "            (0): Conv1d(256, 25, kernel_size=(1,), stride=(1,))\n",
       "            (1): Conv1d(25, 25, kernel_size=(1,), stride=(1,))\n",
       "            (2): Conv1d(25, 256, kernel_size=(1,), stride=(1,))\n",
       "          )\n",
       "        )\n",
       "      )\n",
       "      (film_after_pos): FiLM(\n",
       "        (film_generator): Linear(in_features=256, out_features=512, bias=True)\n",
       "      )\n",
       "      (film_after_conv): FiLM(\n",
       "        (film_generator): Linear(in_features=256, out_features=512, bias=True)\n",
       "      )\n",
       "      (film_after_attn): FiLM(\n",
       "        (film_generator): Linear(in_features=256, out_features=512, bias=True)\n",
       "      )\n",
       "    )\n",
       "    (start_layer_norm): LayerNorm((256,), eps=1e-06, elementwise_affine=True)\n",
       "    (end_layer_norm): LayerNorm((256,), eps=1e-06, elementwise_affine=True)\n",
       "    (start_block): Sequential(\n",
       "      (0): Conv1D(\n",
       "        (conv1d): Sequential(\n",
       "          (0): Conv1d(512, 51, kernel_size=(1,), stride=(1,))\n",
       "          (1): Conv1d(51, 25, kernel_size=(1,), stride=(1,))\n",
       "          (2): Conv1d(25, 256, kernel_size=(1,), stride=(1,))\n",
       "        )\n",
       "      )\n",
       "      (1): ReLU()\n",
       "      (2): Conv1D(\n",
       "        (conv1d): Sequential(\n",
       "          (0): Conv1d(256, 25, kernel_size=(1,), stride=(1,))\n",
       "          (1): Conv1d(25, 1, kernel_size=(1,), stride=(1,))\n",
       "          (2): Conv1d(1, 1, kernel_size=(1,), stride=(1,))\n",
       "        )\n",
       "      )\n",
       "    )\n",
       "    (end_block): Sequential(\n",
       "      (0): Conv1D(\n",
       "        (conv1d): Sequential(\n",
       "          (0): Conv1d(512, 51, kernel_size=(1,), stride=(1,))\n",
       "          (1): Conv1d(51, 25, kernel_size=(1,), stride=(1,))\n",
       "          (2): Conv1d(25, 256, kernel_size=(1,), stride=(1,))\n",
       "        )\n",
       "      )\n",
       "      (1): ReLU()\n",
       "      (2): Conv1D(\n",
       "        (conv1d): Sequential(\n",
       "          (0): Conv1d(256, 25, kernel_size=(1,), stride=(1,))\n",
       "          (1): Conv1d(25, 1, kernel_size=(1,), stride=(1,))\n",
       "          (2): Conv1d(1, 1, kernel_size=(1,), stride=(1,))\n",
       "        )\n",
       "      )\n",
       "    )\n",
       "  )\n",
       ")"
      ]
     },
     "execution_count": 7,
     "metadata": {},
     "output_type": "execute_result"
    }
   ],
   "source": [
    "pruned_block4"
   ]
  },
  {
   "cell_type": "code",
   "execution_count": 8,
   "id": "380367e3",
   "metadata": {},
   "outputs": [
    {
     "data": {
      "text/plain": [
       "FeatureEncoder(\n",
       "  (pos_embedding): PositionalEmbedding(\n",
       "    (position_embeddings): Embedding(128, 256)\n",
       "  )\n",
       "  (conv_block): DepthwiseSeparableConvBlock(\n",
       "    (depthwise_separable_conv): ModuleList(\n",
       "      (0-3): 4 x Sequential(\n",
       "        (0): Conv1d(256, 256, kernel_size=(7,), stride=(1,), padding=(3,), groups=256, bias=False)\n",
       "        (1): Conv1d(256, 256, kernel_size=(1,), stride=(1,))\n",
       "        (2): ReLU()\n",
       "      )\n",
       "    )\n",
       "    (layer_norms): ModuleList(\n",
       "      (0-3): 4 x LayerNorm((256,), eps=1e-06, elementwise_affine=True)\n",
       "    )\n",
       "    (dropout): Dropout(p=0, inplace=False)\n",
       "  )\n",
       "  (attention_block): MultiHeadAttentionBlock(\n",
       "    (dropout): Dropout(p=0, inplace=False)\n",
       "    (query): Conv1D(\n",
       "      (conv1d): Conv1d(256, 256, kernel_size=(1,), stride=(1,))\n",
       "    )\n",
       "    (key): Conv1D(\n",
       "      (conv1d): Conv1d(256, 256, kernel_size=(1,), stride=(1,))\n",
       "    )\n",
       "    (value): Conv1D(\n",
       "      (conv1d): Conv1d(256, 256, kernel_size=(1,), stride=(1,))\n",
       "    )\n",
       "    (layer_norm1): LayerNorm((256,), eps=1e-06, elementwise_affine=True)\n",
       "    (layer_norm2): LayerNorm((256,), eps=1e-06, elementwise_affine=True)\n",
       "    (out_layer): Conv1D(\n",
       "      (conv1d): Conv1d(256, 256, kernel_size=(1,), stride=(1,))\n",
       "    )\n",
       "  )\n",
       "  (film_after_pos): FiLM(\n",
       "    (film_generator): Linear(in_features=256, out_features=512, bias=True)\n",
       "  )\n",
       "  (film_after_conv): FiLM(\n",
       "    (film_generator): Linear(in_features=256, out_features=512, bias=True)\n",
       "  )\n",
       "  (film_after_attn): FiLM(\n",
       "    (film_generator): Linear(in_features=256, out_features=512, bias=True)\n",
       "  )\n",
       ")"
      ]
     },
     "execution_count": 8,
     "metadata": {},
     "output_type": "execute_result"
    }
   ],
   "source": [
    "student.block2[\"feature_encoder\"]"
   ]
  },
  {
   "cell_type": "code",
   "execution_count": 9,
   "id": "64aab4f8",
   "metadata": {},
   "outputs": [
    {
     "data": {
      "text/plain": [
       "FeatureEncoder(\n",
       "  (pos_embedding): PositionalEmbedding(\n",
       "    (position_embeddings): Embedding(128, 256)\n",
       "  )\n",
       "  (conv_block): PrunedDSWrapper(\n",
       "    (down): Linear(in_features=256, out_features=76, bias=True)\n",
       "    (inner): DepthwiseSeparableConvBlock(\n",
       "      (depthwise_separable_conv): ModuleList(\n",
       "        (0-3): 4 x Sequential(\n",
       "          (0): Conv1d(76, 76, kernel_size=(7,), stride=(1,), padding=(3,), groups=76, bias=False)\n",
       "          (1): Conv1d(76, 76, kernel_size=(1,), stride=(1,))\n",
       "          (2): ReLU()\n",
       "        )\n",
       "      )\n",
       "      (layer_norms): ModuleList(\n",
       "        (0-3): 4 x LayerNorm((76,), eps=1e-06, elementwise_affine=True)\n",
       "      )\n",
       "      (dropout): Dropout(p=0, inplace=False)\n",
       "    )\n",
       "    (up): Linear(in_features=76, out_features=256, bias=True)\n",
       "  )\n",
       "  (attention_block): MultiHeadAttentionBlock(\n",
       "    (dropout): Dropout(p=0, inplace=False)\n",
       "    (query): Conv1D(\n",
       "      (conv1d): Sequential(\n",
       "        (0): Conv1d(256, 94, kernel_size=(1,), stride=(1,))\n",
       "        (1): Conv1d(94, 94, kernel_size=(1,), stride=(1,))\n",
       "        (2): Conv1d(94, 256, kernel_size=(1,), stride=(1,))\n",
       "      )\n",
       "    )\n",
       "    (key): Conv1D(\n",
       "      (conv1d): Sequential(\n",
       "        (0): Conv1d(256, 94, kernel_size=(1,), stride=(1,))\n",
       "        (1): Conv1d(94, 94, kernel_size=(1,), stride=(1,))\n",
       "        (2): Conv1d(94, 256, kernel_size=(1,), stride=(1,))\n",
       "      )\n",
       "    )\n",
       "    (value): Conv1D(\n",
       "      (conv1d): Sequential(\n",
       "        (0): Conv1d(256, 94, kernel_size=(1,), stride=(1,))\n",
       "        (1): Conv1d(94, 94, kernel_size=(1,), stride=(1,))\n",
       "        (2): Conv1d(94, 256, kernel_size=(1,), stride=(1,))\n",
       "      )\n",
       "    )\n",
       "    (layer_norm1): LayerNorm((256,), eps=1e-06, elementwise_affine=True)\n",
       "    (layer_norm2): LayerNorm((256,), eps=1e-06, elementwise_affine=True)\n",
       "    (out_layer): Conv1D(\n",
       "      (conv1d): Sequential(\n",
       "        (0): Conv1d(256, 94, kernel_size=(1,), stride=(1,))\n",
       "        (1): Conv1d(94, 94, kernel_size=(1,), stride=(1,))\n",
       "        (2): Conv1d(94, 256, kernel_size=(1,), stride=(1,))\n",
       "      )\n",
       "    )\n",
       "  )\n",
       "  (film_after_pos): FiLM(\n",
       "    (film_generator): Linear(in_features=256, out_features=512, bias=True)\n",
       "  )\n",
       "  (film_after_conv): FiLM(\n",
       "    (film_generator): Linear(in_features=256, out_features=512, bias=True)\n",
       "  )\n",
       "  (film_after_attn): FiLM(\n",
       "    (film_generator): Linear(in_features=256, out_features=512, bias=True)\n",
       "  )\n",
       ")"
      ]
     },
     "execution_count": 9,
     "metadata": {},
     "output_type": "execute_result"
    }
   ],
   "source": [
    "student.block2 = pruned_block2\n",
    "student.block2[\"feature_encoder\"]"
   ]
  },
  {
   "cell_type": "code",
   "execution_count": 10,
   "id": "a2e8125a",
   "metadata": {},
   "outputs": [
    {
     "name": "stdout",
     "output_type": "stream",
     "text": [
      "4\n"
     ]
    },
    {
     "ename": "TypeError",
     "evalue": "object of type 'NoneType' has no len()",
     "output_type": "error",
     "traceback": [
      "\u001b[31m---------------------------------------------------------------------------\u001b[39m",
      "\u001b[31mTypeError\u001b[39m                                 Traceback (most recent call last)",
      "\u001b[36mCell\u001b[39m\u001b[36m \u001b[39m\u001b[32mIn[10]\u001b[39m\u001b[32m, line 11\u001b[39m\n\u001b[32m      9\u001b[39m \u001b[38;5;28;01mfor\u001b[39;00m stage_idx \u001b[38;5;129;01min\u001b[39;00m [\u001b[32m4\u001b[39m, \u001b[32m3\u001b[39m, \u001b[32m2\u001b[39m, \u001b[32m1\u001b[39m]:\n\u001b[32m     10\u001b[39m     \u001b[38;5;28mprint\u001b[39m(stage_idx)\n\u001b[32m---> \u001b[39m\u001b[32m11\u001b[39m     pruned_block_i, student_i = \u001b[43mrun_cbkd_stage\u001b[49m\u001b[43m(\u001b[49m\n\u001b[32m     12\u001b[39m \u001b[43m        \u001b[49m\u001b[43mteacher\u001b[49m\u001b[43m           \u001b[49m\u001b[43m=\u001b[49m\u001b[43m \u001b[49m\u001b[43mteacher\u001b[49m\u001b[43m,\u001b[49m\n\u001b[32m     13\u001b[39m \u001b[43m        \u001b[49m\u001b[43mdistilled_blocks\u001b[49m\u001b[43m  \u001b[49m\u001b[43m=\u001b[49m\u001b[43m \u001b[49m\u001b[43mdistilled_blocks\u001b[49m\u001b[43m,\u001b[49m\n\u001b[32m     14\u001b[39m \u001b[43m        \u001b[49m\u001b[43mstage_idx\u001b[49m\u001b[43m         \u001b[49m\u001b[43m=\u001b[49m\u001b[43m \u001b[49m\u001b[43mstage_idx\u001b[49m\u001b[43m,\u001b[49m\n\u001b[32m     15\u001b[39m \u001b[43m        \u001b[49m\u001b[43mconfigs\u001b[49m\u001b[43m           \u001b[49m\u001b[43m=\u001b[49m\u001b[43m \u001b[49m\u001b[43mconfigs\u001b[49m\u001b[43m,\u001b[49m\n\u001b[32m     16\u001b[39m \u001b[43m        \u001b[49m\u001b[43mcbkd_cfg\u001b[49m\u001b[43m          \u001b[49m\u001b[43m=\u001b[49m\u001b[43m \u001b[49m\u001b[43mcbkd_config\u001b[49m\u001b[43m,\u001b[49m\u001b[43m   \u001b[49m\u001b[38;5;66;43;03m# renamed\u001b[39;49;00m\n\u001b[32m     17\u001b[39m \u001b[43m        \u001b[49m\u001b[43mtrain_loader\u001b[49m\u001b[43m      \u001b[49m\u001b[43m=\u001b[49m\u001b[43m \u001b[49m\u001b[38;5;28;43;01mNone\u001b[39;49;00m\u001b[43m,\u001b[49m\n\u001b[32m     18\u001b[39m \u001b[43m        \u001b[49m\u001b[43mtotal_blocks\u001b[49m\u001b[43m      \u001b[49m\u001b[43m=\u001b[49m\u001b[43m \u001b[49m\u001b[43mtotal_blocks\u001b[49m\u001b[43m,\u001b[49m\n\u001b[32m     19\u001b[39m \u001b[43m        \u001b[49m\u001b[43mdevice\u001b[49m\u001b[43m            \u001b[49m\u001b[43m=\u001b[49m\u001b[43m \u001b[49m\u001b[33;43m\"\u001b[39;49m\u001b[33;43mcpu\u001b[39;49m\u001b[33;43m\"\u001b[39;49m\n\u001b[32m     20\u001b[39m \u001b[43m    \u001b[49m\u001b[43m)\u001b[49m\n\u001b[32m     21\u001b[39m     \u001b[38;5;66;03m# Save the newly‐pruned block into our dict\u001b[39;00m\n\u001b[32m     22\u001b[39m     distilled_blocks[stage_idx] = pruned_block_i\n",
      "\u001b[36mFile \u001b[39m\u001b[32mc:\\Users\\andre\\Documents\\University\\1st Year\\Machine Learning and Deep Learning\\Ego4D-NLQ\\NLQ\\utils\\cbkd_helpers.py:386\u001b[39m, in \u001b[36mrun_cbkd_stage\u001b[39m\u001b[34m(teacher, distilled_blocks, stage_idx, configs, cbkd_cfg, train_loader, total_blocks, device)\u001b[39m\n\u001b[32m    377\u001b[39m optimizer = torch.optim.AdamW(\n\u001b[32m    378\u001b[39m     [\n\u001b[32m    379\u001b[39m         {\u001b[33m\"\u001b[39m\u001b[33mparams\u001b[39m\u001b[33m\"\u001b[39m: decay_params,   \u001b[33m\"\u001b[39m\u001b[33mweight_decay\u001b[39m\u001b[33m\"\u001b[39m: \u001b[32m0.01\u001b[39m},\n\u001b[32m   (...)\u001b[39m\u001b[32m    382\u001b[39m     lr = \u001b[38;5;28mgetattr\u001b[39m(cbkd_cfg, \u001b[33mf\u001b[39m\u001b[33m\"\u001b[39m\u001b[33mlr_block\u001b[39m\u001b[38;5;132;01m{\u001b[39;00mstage_idx\u001b[38;5;132;01m}\u001b[39;00m\u001b[33m\"\u001b[39m)\n\u001b[32m    383\u001b[39m )\n\u001b[32m    385\u001b[39m \u001b[38;5;66;03m# 5.1) Build a linear‐warmup scheduler\u001b[39;00m\n\u001b[32m--> \u001b[39m\u001b[32m386\u001b[39m num_steps = \u001b[38;5;28mgetattr\u001b[39m(cbkd_cfg, \u001b[33mf\u001b[39m\u001b[33m\"\u001b[39m\u001b[33mepochs_block\u001b[39m\u001b[38;5;132;01m{\u001b[39;00mstage_idx\u001b[38;5;132;01m}\u001b[39;00m\u001b[33m\"\u001b[39m) * \u001b[38;5;28;43mlen\u001b[39;49m\u001b[43m(\u001b[49m\u001b[43mtrain_loader\u001b[49m\u001b[43m)\u001b[49m\n\u001b[32m    387\u001b[39m \u001b[38;5;28;01mif\u001b[39;00m \u001b[38;5;28mhasattr\u001b[39m(cbkd_cfg, \u001b[33m\"\u001b[39m\u001b[33mwarmup_proportion\u001b[39m\u001b[33m\"\u001b[39m):\n\u001b[32m    388\u001b[39m     scheduler = get_linear_schedule_with_warmup(\n\u001b[32m    389\u001b[39m         optimizer,\n\u001b[32m    390\u001b[39m         num_warmup_steps = \u001b[38;5;28mint\u001b[39m(num_steps * configs.warmup_proportion),\n\u001b[32m    391\u001b[39m         num_training_steps= num_steps\n\u001b[32m    392\u001b[39m     )\n",
      "\u001b[31mTypeError\u001b[39m: object of type 'NoneType' has no len()"
     ]
    }
   ],
   "source": [
    "from utils.cbkd_helpers import run_cbkd_stage\n",
    "\n",
    "# Bottom‐up Stage‐by‐stage distillation\n",
    "cbkd_config = CBKDConfig()\n",
    "distilled_blocks = {}\n",
    "total_blocks    = 4\n",
    "teacher = deepcopy(model)\n",
    "student_i = None\n",
    "for stage_idx in [4, 3, 2, 1]:\n",
    "    print(stage_idx)\n",
    "    pruned_block_i, student_i = run_cbkd_stage(\n",
    "        teacher           = teacher,\n",
    "        distilled_blocks  = distilled_blocks,\n",
    "        stage_idx         = stage_idx,\n",
    "        configs           = configs,\n",
    "        cbkd_cfg          = cbkd_config,   # renamed\n",
    "        train_loader      = None,\n",
    "        total_blocks      = total_blocks,\n",
    "        device            = \"cpu\"\n",
    "    )\n",
    "    # Save the newly‐pruned block into our dict\n",
    "    distilled_blocks[stage_idx] = pruned_block_i"
   ]
  },
  {
   "cell_type": "code",
   "execution_count": null,
   "id": "59af61ee",
   "metadata": {},
   "outputs": [],
   "source": []
  }
 ],
 "metadata": {
  "kernelspec": {
   "display_name": "Ego4D-NLQ",
   "language": "python",
   "name": "python3"
  },
  "language_info": {
   "codemirror_mode": {
    "name": "ipython",
    "version": 3
   },
   "file_extension": ".py",
   "mimetype": "text/x-python",
   "name": "python",
   "nbconvert_exporter": "python",
   "pygments_lexer": "ipython3",
   "version": "3.13.2"
  }
 },
 "nbformat": 4,
 "nbformat_minor": 5
}
