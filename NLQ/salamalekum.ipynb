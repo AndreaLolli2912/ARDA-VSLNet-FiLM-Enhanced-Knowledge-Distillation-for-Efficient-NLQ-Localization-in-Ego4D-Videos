{
 "cells": [
  {
   "cell_type": "code",
   "execution_count": 17,
   "id": "fcacecdc",
   "metadata": {},
   "outputs": [],
   "source": [
    "from argparse import Namespace\n",
    "from torch.nn import ModuleDict\n",
    "from model.DeepVSLNet_cbkd import TeacherVSLNetCBDK, build_optimizer_and_scheduler\n",
    "from utils.cbkd_helpers import prune_block4, prune_block3, prune_block2\n",
    "from utils.cbkd_config import CBKDConfig\n",
    "\n",
    "from copy import deepcopy"
   ]
  },
  {
   "cell_type": "code",
   "execution_count": 18,
   "id": "728135e8",
   "metadata": {},
   "outputs": [],
   "source": [
    "def count_params(model, trainable=False):\n",
    "    total = sum(p.numel() for p in model.parameters()\n",
    "                               if (p.requires_grad or not trainable))\n",
    "    return total"
   ]
  },
  {
   "cell_type": "code",
   "execution_count": 19,
   "id": "30b590f3",
   "metadata": {},
   "outputs": [],
   "source": [
    "configs = Namespace(\n",
    "    video_feature_dim=256,\n",
    "    dim=256,\n",
    "    film_mode=\"inside_encoder:multi\",\n",
    "    drop_rate=0,\n",
    "    word_size=300,\n",
    "    char_size=1000,\n",
    "    word_dim=300,\n",
    "    char_dim=50,\n",
    "    word_vectors=None,\n",
    "    num_heads=8,\n",
    "    max_pos_len=128,\n",
    "    predictor=\"glove\",\n",
    ")\n",
    "\n",
    "cbkd_config = CBKDConfig()\n",
    "\n",
    "model = TeacherVSLNetCBDK(configs=configs, word_vectors=None)\n",
    "student = deepcopy(model)"
   ]
  },
  {
   "cell_type": "code",
   "execution_count": 20,
   "id": "de899f18",
   "metadata": {},
   "outputs": [
    {
     "name": "stdout",
     "output_type": "stream",
     "text": [
      "Teacher :   0.324 M params (1.2 MB fp32)\n",
      "Student :   0.324 M params (1.2 MB fp32)\n",
      "Parameter reduction: 0.00%\n"
     ]
    }
   ],
   "source": [
    "teacher_params  = count_params(model.block1, trainable=False)\n",
    "student_params  = count_params(model.block1,  trainable=False)\n",
    "\n",
    "print(f\"Teacher : {teacher_params/1e6:7.3f} M params \"\n",
    "      f\"({teacher_params*4/1024**2:.1f} MB fp32)\")\n",
    "print(f\"Student : {student_params/1e6:7.3f} M params \"\n",
    "      f\"({student_params*4/1024**2:.1f} MB fp32)\")\n",
    "\n",
    "reduction = 100 * (1 - student_params / teacher_params)\n",
    "print(f\"Parameter reduction: {reduction:.2f}%\")"
   ]
  },
  {
   "cell_type": "code",
   "execution_count": 21,
   "id": "edee9102",
   "metadata": {},
   "outputs": [
    {
     "name": "stdout",
     "output_type": "stream",
     "text": [
      "Teacher :   0.964 M params (3.7 MB fp32)\n",
      "Student :   0.500 M params (1.9 MB fp32)\n",
      "Parameter reduction: 48.13%\n"
     ]
    }
   ],
   "source": [
    "student_2 = deepcopy(model.block2)\n",
    "pruned_block2 = prune_block2(student_2[\"feature_encoder\"], keep_ratio_ds=cbkd_config.keep_ratio_block2_ds, keep_ratio_attn=cbkd_config.keep_ratio_block2_attn)\n",
    "C = ModuleDict({\"feature_encoder\": pruned_block2})\n",
    "\n",
    "teacher_params  = count_params(student_2, trainable=False)\n",
    "student_params  = count_params(pruned_block2,  trainable=False)\n",
    "\n",
    "print(f\"Teacher : {teacher_params/1e6:7.3f} M params \"\n",
    "      f\"({teacher_params*4/1024**2:.1f} MB fp32)\")\n",
    "print(f\"Student : {student_params/1e6:7.3f} M params \"\n",
    "      f\"({student_params*4/1024**2:.1f} MB fp32)\")\n",
    "\n",
    "reduction = 100 * (1 - student_params / teacher_params)\n",
    "print(f\"Parameter reduction: {reduction:.2f}%\")"
   ]
  },
  {
   "cell_type": "code",
   "execution_count": 22,
   "id": "d2b8350a",
   "metadata": {},
   "outputs": [
    {
     "name": "stdout",
     "output_type": "stream",
     "text": [
      "Teacher :   0.395 M params (1.5 MB fp32)\n",
      "Student :   0.199 M params (0.8 MB fp32)\n",
      "Parameter reduction: 49.72%\n"
     ]
    }
   ],
   "source": [
    "student_3 = deepcopy(model.block3)\n",
    "pruned_block3 = prune_block3(teacher_block3=student_3, keep_ratio_cqa=cbkd_config.keep_ratio_block3_cqa, keep_ratio_concat=cbkd_config.keep_ratio_block3_concat)\n",
    "\n",
    "teacher_params  = count_params(student_3, trainable=False)\n",
    "student_params  = count_params(pruned_block3,  trainable=False)\n",
    "\n",
    "print(f\"Teacher : {teacher_params/1e6:7.3f} M params \"\n",
    "      f\"({teacher_params*4/1024**2:.1f} MB fp32)\")\n",
    "print(f\"Student : {student_params/1e6:7.3f} M params \"\n",
    "      f\"({student_params*4/1024**2:.1f} MB fp32)\")\n",
    "\n",
    "reduction = 100 * (1 - student_params / teacher_params)\n",
    "print(f\"Parameter reduction: {reduction:.2f}%\")"
   ]
  },
  {
   "cell_type": "code",
   "execution_count": 23,
   "id": "949a8dd5",
   "metadata": {},
   "outputs": [
    {
     "name": "stdout",
     "output_type": "stream",
     "text": [
      "Teacher :   1.228 M params (4.7 MB fp32)\n",
      "Student :   0.502 M params (1.9 MB fp32)\n",
      "Parameter reduction: 59.09%\n"
     ]
    }
   ],
   "source": [
    "student_4 = deepcopy(model.block4)\n",
    "pruned_block4 = prune_block4(teacher_block4=student_4, keep_ratio_enc=cbkd_config.keep_ratio_block4_enc, keep_ratio_pred=cbkd_config.keep_ratio_block4_pred)\n",
    "\n",
    "teacher_params  = count_params(student_4, trainable=False)\n",
    "student_params  = count_params(pruned_block4,  trainable=False)\n",
    "\n",
    "print(f\"Teacher : {teacher_params/1e6:7.3f} M params \"\n",
    "      f\"({teacher_params*4/1024**2:.1f} MB fp32)\")\n",
    "print(f\"Student : {student_params/1e6:7.3f} M params \"\n",
    "      f\"({student_params*4/1024**2:.1f} MB fp32)\")\n",
    "\n",
    "reduction = 100 * (1 - student_params / teacher_params)\n",
    "print(f\"Parameter reduction: {reduction:.2f}%\")"
   ]
  },
  {
   "cell_type": "code",
   "execution_count": 24,
   "id": "86fbaffb",
   "metadata": {},
   "outputs": [
    {
     "name": "stdout",
     "output_type": "stream",
     "text": [
      "Teacher :   2.911 M params (11.1 MB fp32)\n",
      "Student :   1.525 M params (5.8 MB fp32)\n",
      "Parameter reduction: 47.62%\n"
     ]
    }
   ],
   "source": [
    "student.block2 = pruned_block2\n",
    "student.block3 = pruned_block3\n",
    "student.block4 = pruned_block4\n",
    "\n",
    "teacher_params  = count_params(model, trainable=False)\n",
    "student_params  = count_params(student,  trainable=False)\n",
    "\n",
    "print(f\"Teacher : {teacher_params/1e6:7.3f} M params \"\n",
    "      f\"({teacher_params*4/1024**2:.1f} MB fp32)\")\n",
    "print(f\"Student : {student_params/1e6:7.3f} M params \"\n",
    "      f\"({student_params*4/1024**2:.1f} MB fp32)\")\n",
    "\n",
    "reduction = 100 * (1 - student_params / teacher_params)\n",
    "print(f\"Parameter reduction: {reduction:.2f}%\")"
   ]
  },
  {
   "cell_type": "markdown",
   "id": "e189643f",
   "metadata": {},
   "source": [
    "STANDARD DISTILLATION"
   ]
  },
  {
   "cell_type": "code",
   "execution_count": 38,
   "id": "5370cb79",
   "metadata": {},
   "outputs": [],
   "source": [
    "from argparse import Namespace\n",
    "from torch.nn import ModuleDict\n",
    "from model.DeepVSLNet_cbkd import TeacherVSLNetCBDK, build_optimizer_and_scheduler\n",
    "from model.DeepVSLNet import DeepVSLNet\n",
    "from model.LightVSLNet import LightVSLNet\n",
    "from utils.cbkd_helpers import prune_block4, prune_block3, prune_block2\n",
    "from utils.cbkd_config import CBKDConfig\n",
    "\n",
    "from copy import deepcopy"
   ]
  },
  {
   "cell_type": "code",
   "execution_count": 39,
   "id": "a8a5a48f",
   "metadata": {},
   "outputs": [],
   "source": [
    "def count_params(model, trainable=False):\n",
    "    total = sum(p.numel() for p in model.parameters()\n",
    "                               if (p.requires_grad or not trainable))\n",
    "    return total"
   ]
  },
  {
   "cell_type": "code",
   "execution_count": 40,
   "id": "818cda0b",
   "metadata": {},
   "outputs": [],
   "source": [
    "configs_teacher = Namespace(\n",
    "    video_feature_dim=256,\n",
    "    dim=256,\n",
    "    film_mode=\"inside_encoder:multi\",\n",
    "    drop_rate=0,\n",
    "    word_size=300,\n",
    "    char_size=1000,\n",
    "    word_dim=300,\n",
    "    char_dim=50,\n",
    "    word_vectors=None,\n",
    "    num_heads=8,\n",
    "    max_pos_len=128,\n",
    "    predictor=\"glove\",\n",
    ")\n",
    "\n",
    "configs_student = Namespace(\n",
    "    video_feature_dim=256,\n",
    "    dim=256,\n",
    "    film_mode=\"inside_encoder:multi\",\n",
    "    drop_rate=0,\n",
    "    word_size=300,\n",
    "    char_size=1000,\n",
    "    word_dim=300,\n",
    "    char_dim=50,\n",
    "    word_vectors=None,\n",
    "    num_heads=8,\n",
    "    max_pos_len=128,\n",
    "    predictor=\"glove\",\n",
    "    dim_student=16,\n",
    "    num_heads_student=2\n",
    ")\n",
    "\n",
    "cbkd_config = CBKDConfig()\n",
    "\n",
    "model = DeepVSLNet(configs=configs_teacher, word_vectors=None)\n",
    "student = LightVSLNet(configs=configs_student, word_vectors=None)"
   ]
  },
  {
   "cell_type": "code",
   "execution_count": 41,
   "id": "e00b1a11",
   "metadata": {},
   "outputs": [
    {
     "name": "stdout",
     "output_type": "stream",
     "text": [
      "Teacher :   3.043 M params (11.6 MB fp32)\n",
      "Student :   0.311 M params (1.2 MB fp32)\n",
      "Parameter reduction: 89.79%\n"
     ]
    }
   ],
   "source": [
    "teacher_params  = count_params(model, trainable=False)\n",
    "student_params  = count_params(student,  trainable=False)\n",
    "\n",
    "print(f\"Teacher : {teacher_params/1e6:7.3f} M params \"\n",
    "      f\"({teacher_params*4/1024**2:.1f} MB fp32)\")\n",
    "print(f\"Student : {student_params/1e6:7.3f} M params \"\n",
    "      f\"({student_params*4/1024**2:.1f} MB fp32)\")\n",
    "\n",
    "reduction = 100 * (1 - student_params / teacher_params)\n",
    "print(f\"Parameter reduction: {reduction:.2f}%\")"
   ]
  }
 ],
 "metadata": {
  "kernelspec": {
   "display_name": "Ego4D-NLQ",
   "language": "python",
   "name": "python3"
  },
  "language_info": {
   "codemirror_mode": {
    "name": "ipython",
    "version": 3
   },
   "file_extension": ".py",
   "mimetype": "text/x-python",
   "name": "python",
   "nbconvert_exporter": "python",
   "pygments_lexer": "ipython3",
   "version": "3.13.2"
  }
 },
 "nbformat": 4,
 "nbformat_minor": 5
}
