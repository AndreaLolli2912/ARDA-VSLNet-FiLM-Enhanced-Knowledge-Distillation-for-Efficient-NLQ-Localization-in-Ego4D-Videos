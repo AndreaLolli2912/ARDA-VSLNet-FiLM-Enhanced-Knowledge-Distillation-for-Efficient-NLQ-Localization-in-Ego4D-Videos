{
 "cells": [
  {
   "cell_type": "code",
   "execution_count": 1,
   "id": "fcacecdc",
   "metadata": {},
   "outputs": [
    {
     "name": "stderr",
     "output_type": "stream",
     "text": [
      "c:\\Users\\andre\\Documents\\University\\1st Year\\Machine Learning and Deep Learning\\Ego4D-NLQ\\.venv\\Lib\\site-packages\\tqdm\\auto.py:21: TqdmWarning: IProgress not found. Please update jupyter and ipywidgets. See https://ipywidgets.readthedocs.io/en/stable/user_install.html\n",
      "  from .autonotebook import tqdm as notebook_tqdm\n"
     ]
    }
   ],
   "source": [
    "from argparse import Namespace\n",
    "from model.DeepVSLNet_cbkd import TeacherVSLNetCBDK\n",
    "from utils.cbkd_helpers import prune_block4, prune_block3, prune_block2\n",
    "from utils.cbkd_config import CBKDConfig\n",
    "\n",
    "from copy import deepcopy"
   ]
  },
  {
   "cell_type": "code",
   "execution_count": 2,
   "id": "728135e8",
   "metadata": {},
   "outputs": [],
   "source": [
    "def count_parameters(teacher, student):\n",
    "    def num_params(model):\n",
    "        return sum(p.numel() for p in model.parameters() if p.requires_grad)\n",
    "\n",
    "    teacher_total = num_params(teacher)\n",
    "    student_total = num_params(student)\n",
    "\n",
    "    print(f\"Teacher total parameters: {teacher_total:,}\")\n",
    "    print(f\"Student total parameters: {student_total:,}\")\n",
    "\n",
    "    reduction = 100 * (1 - student_total / teacher_total)\n",
    "    print(f\"Parameter reduction: {reduction:.2f}%\")"
   ]
  },
  {
   "cell_type": "code",
   "execution_count": 3,
   "id": "30b590f3",
   "metadata": {},
   "outputs": [],
   "source": [
    "configs = Namespace(\n",
    "    video_feature_dim=256,\n",
    "    dim=256,\n",
    "    film_mode=\"inside_encoder:multi\",\n",
    "    drop_rate=0,\n",
    "    word_size=300,\n",
    "    char_size=1000,\n",
    "    word_dim=300,\n",
    "    char_dim=50,\n",
    "    word_vectors=None,\n",
    "    num_heads=8,\n",
    "    max_pos_len=128,\n",
    "    predictor=\"glove\",\n",
    ")\n",
    "\n",
    "cbkd_config = CBKDConfig()\n",
    "\n",
    "model = TeacherVSLNetCBDK(configs=configs, word_vectors=None)"
   ]
  },
  {
   "cell_type": "code",
   "execution_count": 4,
   "id": "edee9102",
   "metadata": {},
   "outputs": [
    {
     "name": "stdout",
     "output_type": "stream",
     "text": [
      "Teacher total parameters: 964,096\n",
      "Student total parameters: 723,564\n",
      "Parameter reduction: 24.95%\n"
     ]
    }
   ],
   "source": [
    "student_2 = deepcopy(model.block2)\n",
    "pruned_block2 = prune_block2(teacher_featenc=student_2.feature_encoder, keep_ratio_ds=cbkd_config.keep_ratio_block2_ds, keep_ratio_attn=cbkd_config.keep_ratio_block2_attn)\n",
    "count_parameters(teacher=model.block2, student=pruned_block2)"
   ]
  },
  {
   "cell_type": "code",
   "execution_count": 5,
   "id": "d2b8350a",
   "metadata": {},
   "outputs": [
    {
     "name": "stdout",
     "output_type": "stream",
     "text": [
      "Teacher total parameters: 395,009\n",
      "Student total parameters: 198,613\n",
      "Parameter reduction: 49.72%\n"
     ]
    }
   ],
   "source": [
    "student_3 = deepcopy(model.block3)\n",
    "pruned_block3 = prune_block3(teacher_block3=student_3, keep_ratio_cqa=cbkd_config.keep_ratio_block3_cqa, keep_ratio_concat=cbkd_config.keep_ratio_block3_concat)\n",
    "count_parameters(model.block3, pruned_block3)"
   ]
  },
  {
   "cell_type": "code",
   "execution_count": 6,
   "id": "949a8dd5",
   "metadata": {},
   "outputs": [
    {
     "name": "stdout",
     "output_type": "stream",
     "text": [
      "Teacher total parameters: 1,228,290\n",
      "Student total parameters: 436,041\n",
      "Parameter reduction: 64.50%\n"
     ]
    }
   ],
   "source": [
    "student_4 = deepcopy(model.block4)\n",
    "pruned_block4 = prune_block4(teacher_block4=student_4, keep_ratio_enc=cbkd_config.keep_ratio_block4_enc, keep_ratio_pred=cbkd_config.keep_ratio_block4_pred)\n",
    "count_parameters(teacher=model.block4, student=pruned_block4)"
   ]
  },
  {
   "cell_type": "code",
   "execution_count": 7,
   "id": "a2e8125a",
   "metadata": {},
   "outputs": [
    {
     "name": "stdout",
     "output_type": "stream",
     "text": [
      "4\n",
      "1\n",
      "2\n",
      "3\n",
      "NON E' questo\n",
      "3\n",
      "1\n",
      "2\n",
      "NON E' questo\n",
      "2\n",
      "1\n",
      "NON E' questo\n",
      "1\n",
      "NON E' questo\n"
     ]
    }
   ],
   "source": [
    "from utils.cbkd_helpers import run_cbkd_stage\n",
    "\n",
    "# Bottom‐up Stage‐by‐stage distillation\n",
    "cbkd_config = CBKDConfig()\n",
    "distilled_blocks = {}\n",
    "total_blocks    = 4\n",
    "teacher = deepcopy(model)\n",
    "student_i = None\n",
    "for stage_idx in [4, 3, 2, 1]:\n",
    "    print(stage_idx)\n",
    "    pruned_block_i, student_i = run_cbkd_stage(\n",
    "        teacher           = teacher,\n",
    "        distilled_blocks  = distilled_blocks,\n",
    "        stage_idx         = stage_idx,\n",
    "        configs           = configs,\n",
    "        cbkd_cfg          = cbkd_config,   # renamed\n",
    "        train_loader      = None,\n",
    "        total_blocks      = total_blocks,\n",
    "        device            = \"cpu\"\n",
    "    )\n",
    "    # Save the newly‐pruned block into our dict\n",
    "    distilled_blocks[stage_idx] = pruned_block_i"
   ]
  },
  {
   "cell_type": "code",
   "execution_count": null,
   "id": "59af61ee",
   "metadata": {},
   "outputs": [],
   "source": []
  }
 ],
 "metadata": {
  "kernelspec": {
   "display_name": "Ego4D-NLQ",
   "language": "python",
   "name": "python3"
  },
  "language_info": {
   "codemirror_mode": {
    "name": "ipython",
    "version": 3
   },
   "file_extension": ".py",
   "mimetype": "text/x-python",
   "name": "python",
   "nbconvert_exporter": "python",
   "pygments_lexer": "ipython3",
   "version": "3.13.2"
  }
 },
 "nbformat": 4,
 "nbformat_minor": 5
}
