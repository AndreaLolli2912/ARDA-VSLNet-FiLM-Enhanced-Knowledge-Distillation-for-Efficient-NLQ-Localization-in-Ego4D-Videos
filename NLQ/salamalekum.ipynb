{
 "cells": [
  {
   "cell_type": "code",
   "execution_count": 1,
   "id": "fcacecdc",
   "metadata": {},
   "outputs": [
    {
     "name": "stderr",
     "output_type": "stream",
     "text": [
      "c:\\Users\\andre\\Documents\\University\\1st Year\\Machine Learning and Deep Learning\\Ego4D-NLQ\\.venv\\Lib\\site-packages\\tqdm\\auto.py:21: TqdmWarning: IProgress not found. Please update jupyter and ipywidgets. See https://ipywidgets.readthedocs.io/en/stable/user_install.html\n",
      "  from .autonotebook import tqdm as notebook_tqdm\n"
     ]
    }
   ],
   "source": [
    "from argparse import Namespace\n",
    "from torch.nn import ModuleDict\n",
    "from model.DeepVSLNet_cbkd import TeacherVSLNetCBDK, build_optimizer_and_scheduler\n",
    "from utils.cbkd_helpers import prune_block4, prune_block3, prune_block2\n",
    "from utils.cbkd_config import CBKDConfig\n",
    "\n",
    "from copy import deepcopy"
   ]
  },
  {
   "cell_type": "code",
   "execution_count": 2,
   "id": "728135e8",
   "metadata": {},
   "outputs": [],
   "source": [
    "def count_parameters(teacher, student):\n",
    "    def num_params(model):\n",
    "        return sum(p.numel() for p in model.parameters() if p.requires_grad)\n",
    "\n",
    "    teacher_total = num_params(teacher)\n",
    "    student_total = num_params(student)\n",
    "\n",
    "    print(f\"Teacher total parameters: {teacher_total:,}\")\n",
    "    print(f\"Student total parameters: {student_total:,}\")\n",
    "\n",
    "    reduction = 100 * (1 - student_total / teacher_total)\n",
    "    print(f\"Parameter reduction: {reduction:.2f}%\")"
   ]
  },
  {
   "cell_type": "code",
   "execution_count": 3,
   "id": "30b590f3",
   "metadata": {},
   "outputs": [],
   "source": [
    "configs = Namespace(\n",
    "    video_feature_dim=256,\n",
    "    dim=256,\n",
    "    film_mode=\"inside_encoder:multi\",\n",
    "    drop_rate=0,\n",
    "    word_size=300,\n",
    "    char_size=1000,\n",
    "    word_dim=300,\n",
    "    char_dim=50,\n",
    "    word_vectors=None,\n",
    "    num_heads=8,\n",
    "    max_pos_len=128,\n",
    "    predictor=\"glove\",\n",
    ")\n",
    "\n",
    "cbkd_config = CBKDConfig()\n",
    "\n",
    "model = TeacherVSLNetCBDK(configs=configs, word_vectors=None)\n",
    "student = deepcopy(model)"
   ]
  },
  {
   "cell_type": "code",
   "execution_count": 4,
   "id": "de899f18",
   "metadata": {},
   "outputs": [
    {
     "name": "stdout",
     "output_type": "stream",
     "text": [
      "Teacher total parameters: 323,548\n",
      "Student total parameters: 323,548\n",
      "Parameter reduction: 0.00%\n"
     ]
    }
   ],
   "source": [
    "count_parameters(model.block1, model.block1)"
   ]
  },
  {
   "cell_type": "code",
   "execution_count": 5,
   "id": "edee9102",
   "metadata": {},
   "outputs": [
    {
     "name": "stdout",
     "output_type": "stream",
     "text": [
      "Teacher total parameters: 964,096\n",
      "Student total parameters: 723,564\n",
      "Parameter reduction: 24.95%\n"
     ]
    }
   ],
   "source": [
    "student_2 = deepcopy(model.block2)\n",
    "pruned_block2 = prune_block2(student_2[\"feature_encoder\"], keep_ratio_ds=cbkd_config.keep_ratio_block2_ds, keep_ratio_attn=cbkd_config.keep_ratio_block2_attn)\n",
    "pruned_block2 = ModuleDict({\"feature_encoder\": pruned_block2})\n",
    "count_parameters(teacher=model.block2, student=pruned_block2)"
   ]
  },
  {
   "cell_type": "code",
   "execution_count": 6,
   "id": "d2b8350a",
   "metadata": {},
   "outputs": [
    {
     "name": "stdout",
     "output_type": "stream",
     "text": [
      "Teacher total parameters: 395,009\n",
      "Student total parameters: 198,613\n",
      "Parameter reduction: 49.72%\n"
     ]
    }
   ],
   "source": [
    "student_3 = deepcopy(model.block3)\n",
    "pruned_block3 = prune_block3(teacher_block3=student_3, keep_ratio_cqa=cbkd_config.keep_ratio_block3_cqa, keep_ratio_concat=cbkd_config.keep_ratio_block3_concat)\n",
    "count_parameters(model.block3, pruned_block3)"
   ]
  },
  {
   "cell_type": "code",
   "execution_count": 7,
   "id": "949a8dd5",
   "metadata": {},
   "outputs": [
    {
     "name": "stdout",
     "output_type": "stream",
     "text": [
      "Teacher total parameters: 1,228,290\n",
      "Student total parameters: 502,436\n",
      "Parameter reduction: 59.09%\n"
     ]
    }
   ],
   "source": [
    "student_4 = deepcopy(model.block4)\n",
    "pruned_block4 = prune_block4(teacher_block4=student_4, keep_ratio_enc=cbkd_config.keep_ratio_block4_enc, keep_ratio_pred=cbkd_config.keep_ratio_block4_pred)\n",
    "count_parameters(teacher=model.block4, student=pruned_block4)"
   ]
  },
  {
   "cell_type": "code",
   "execution_count": 8,
   "id": "acb04895",
   "metadata": {},
   "outputs": [
    {
     "data": {
      "text/plain": [
       "ModuleDict(\n",
       "  (predictor): ConditionedPredictor(\n",
       "    (encoder): FeatureEncoder(\n",
       "      (pos_embedding): PositionalEmbedding(\n",
       "        (position_embeddings): Embedding(128, 256)\n",
       "      )\n",
       "      (conv_block): PrunedDSWrapper(\n",
       "        (down): Linear(in_features=256, out_features=12, bias=True)\n",
       "        (inner): DepthwiseSeparableConvBlock(\n",
       "          (depthwise_separable_conv): ModuleList(\n",
       "            (0-3): 4 x Sequential(\n",
       "              (0): Conv1d(12, 12, kernel_size=(7,), stride=(1,), padding=(3,), groups=12, bias=False)\n",
       "              (1): Conv1d(12, 12, kernel_size=(1,), stride=(1,))\n",
       "              (2): ReLU()\n",
       "            )\n",
       "          )\n",
       "          (layer_norms): ModuleList(\n",
       "            (0-3): 4 x LayerNorm((12,), eps=1e-06, elementwise_affine=True)\n",
       "          )\n",
       "          (dropout): Dropout(p=0, inplace=False)\n",
       "        )\n",
       "        (up): Linear(in_features=12, out_features=256, bias=True)\n",
       "      )\n",
       "      (attention_block): MultiHeadAttentionBlock(\n",
       "        (dropout): Dropout(p=0, inplace=False)\n",
       "        (query): Conv1D(\n",
       "          (conv1d): Sequential(\n",
       "            (0): Conv1d(256, 12, kernel_size=(1,), stride=(1,))\n",
       "            (1): Conv1d(12, 12, kernel_size=(1,), stride=(1,))\n",
       "            (2): Conv1d(12, 256, kernel_size=(1,), stride=(1,))\n",
       "          )\n",
       "        )\n",
       "        (key): Conv1D(\n",
       "          (conv1d): Sequential(\n",
       "            (0): Conv1d(256, 12, kernel_size=(1,), stride=(1,))\n",
       "            (1): Conv1d(12, 12, kernel_size=(1,), stride=(1,))\n",
       "            (2): Conv1d(12, 256, kernel_size=(1,), stride=(1,))\n",
       "          )\n",
       "        )\n",
       "        (value): Conv1D(\n",
       "          (conv1d): Sequential(\n",
       "            (0): Conv1d(256, 12, kernel_size=(1,), stride=(1,))\n",
       "            (1): Conv1d(12, 12, kernel_size=(1,), stride=(1,))\n",
       "            (2): Conv1d(12, 256, kernel_size=(1,), stride=(1,))\n",
       "          )\n",
       "        )\n",
       "        (layer_norm1): LayerNorm((256,), eps=1e-06, elementwise_affine=True)\n",
       "        (layer_norm2): LayerNorm((256,), eps=1e-06, elementwise_affine=True)\n",
       "        (out_layer): Conv1D(\n",
       "          (conv1d): Sequential(\n",
       "            (0): Conv1d(256, 12, kernel_size=(1,), stride=(1,))\n",
       "            (1): Conv1d(12, 12, kernel_size=(1,), stride=(1,))\n",
       "            (2): Conv1d(12, 256, kernel_size=(1,), stride=(1,))\n",
       "          )\n",
       "        )\n",
       "      )\n",
       "      (film_after_pos): FiLM(\n",
       "        (film_generator): Linear(in_features=256, out_features=512, bias=True)\n",
       "      )\n",
       "      (film_after_conv): FiLM(\n",
       "        (film_generator): Linear(in_features=256, out_features=512, bias=True)\n",
       "      )\n",
       "      (film_after_attn): FiLM(\n",
       "        (film_generator): Linear(in_features=256, out_features=512, bias=True)\n",
       "      )\n",
       "    )\n",
       "    (start_layer_norm): LayerNorm((256,), eps=1e-06, elementwise_affine=True)\n",
       "    (end_layer_norm): LayerNorm((256,), eps=1e-06, elementwise_affine=True)\n",
       "    (start_block): Sequential(\n",
       "      (0): Conv1D(\n",
       "        (conv1d): Sequential(\n",
       "          (0): Conv1d(512, 25, kernel_size=(1,), stride=(1,))\n",
       "          (1): Conv1d(25, 12, kernel_size=(1,), stride=(1,))\n",
       "          (2): Conv1d(12, 256, kernel_size=(1,), stride=(1,))\n",
       "        )\n",
       "      )\n",
       "      (1): ReLU()\n",
       "      (2): Conv1D(\n",
       "        (conv1d): Sequential(\n",
       "          (0): Conv1d(256, 12, kernel_size=(1,), stride=(1,))\n",
       "          (1): Conv1d(12, 1, kernel_size=(1,), stride=(1,))\n",
       "          (2): Conv1d(1, 1, kernel_size=(1,), stride=(1,))\n",
       "        )\n",
       "      )\n",
       "    )\n",
       "    (end_block): Sequential(\n",
       "      (0): Conv1D(\n",
       "        (conv1d): Sequential(\n",
       "          (0): Conv1d(512, 25, kernel_size=(1,), stride=(1,))\n",
       "          (1): Conv1d(25, 12, kernel_size=(1,), stride=(1,))\n",
       "          (2): Conv1d(12, 256, kernel_size=(1,), stride=(1,))\n",
       "        )\n",
       "      )\n",
       "      (1): ReLU()\n",
       "      (2): Conv1D(\n",
       "        (conv1d): Sequential(\n",
       "          (0): Conv1d(256, 12, kernel_size=(1,), stride=(1,))\n",
       "          (1): Conv1d(12, 1, kernel_size=(1,), stride=(1,))\n",
       "          (2): Conv1d(1, 1, kernel_size=(1,), stride=(1,))\n",
       "        )\n",
       "      )\n",
       "    )\n",
       "  )\n",
       ")"
      ]
     },
     "execution_count": 8,
     "metadata": {},
     "output_type": "execute_result"
    }
   ],
   "source": [
    "pruned_block4"
   ]
  }
 ],
 "metadata": {
  "kernelspec": {
   "display_name": "Ego4D-NLQ",
   "language": "python",
   "name": "python3"
  },
  "language_info": {
   "codemirror_mode": {
    "name": "ipython",
    "version": 3
   },
   "file_extension": ".py",
   "mimetype": "text/x-python",
   "name": "python",
   "nbconvert_exporter": "python",
   "pygments_lexer": "ipython3",
   "version": "3.13.2"
  }
 },
 "nbformat": 4,
 "nbformat_minor": 5
}
