{
 "cells": [
  {
   "cell_type": "code",
   "execution_count": 1,
   "id": "fcacecdc",
   "metadata": {},
   "outputs": [
    {
     "name": "stderr",
     "output_type": "stream",
     "text": [
      "c:\\Users\\andre\\Documents\\University\\1st Year\\Machine Learning and Deep Learning\\Ego4D-NLQ\\.venv\\Lib\\site-packages\\tqdm\\auto.py:21: TqdmWarning: IProgress not found. Please update jupyter and ipywidgets. See https://ipywidgets.readthedocs.io/en/stable/user_install.html\n",
      "  from .autonotebook import tqdm as notebook_tqdm\n"
     ]
    }
   ],
   "source": [
    "from argparse import Namespace\n",
    "from torch.nn import ModuleDict\n",
    "from model.DeepVSLNet_cbkd import TeacherVSLNetCBDK, build_optimizer_and_scheduler\n",
    "from utils.cbkd_helpers import prune_block4, prune_block3, prune_block2\n",
    "from utils.cbkd_config import CBKDConfig\n",
    "\n",
    "from copy import deepcopy"
   ]
  },
  {
   "cell_type": "code",
   "execution_count": 2,
   "id": "728135e8",
   "metadata": {},
   "outputs": [],
   "source": [
    "def count_params(model, trainable=False):\n",
    "    total = sum(p.numel() for p in model.parameters()\n",
    "                               if (p.requires_grad or not trainable))\n",
    "    return total"
   ]
  },
  {
   "cell_type": "code",
   "execution_count": 3,
   "id": "30b590f3",
   "metadata": {},
   "outputs": [],
   "source": [
    "configs = Namespace(\n",
    "    video_feature_dim=256,\n",
    "    dim=256,\n",
    "    film_mode=\"inside_encoder:multi\",\n",
    "    drop_rate=0,\n",
    "    word_size=300,\n",
    "    char_size=1000,\n",
    "    word_dim=300,\n",
    "    char_dim=50,\n",
    "    word_vectors=None,\n",
    "    num_heads=8,\n",
    "    max_pos_len=128,\n",
    "    predictor=\"glove\",\n",
    ")\n",
    "\n",
    "cbkd_config = CBKDConfig()\n",
    "\n",
    "model = TeacherVSLNetCBDK(configs=configs, word_vectors=None)\n",
    "student = deepcopy(model)"
   ]
  },
  {
   "cell_type": "code",
   "execution_count": 4,
   "id": "de899f18",
   "metadata": {},
   "outputs": [
    {
     "name": "stdout",
     "output_type": "stream",
     "text": [
      "Teacher Block 1:   0.324 M params (1.2 MB fp32)\n",
      "Student Block 1:   0.324 M params (1.2 MB fp32)\n",
      "Parameter reduction: 0.00%\n"
     ]
    }
   ],
   "source": [
    "teacher_params  = count_params(model.block1, trainable=False)\n",
    "student_params  = count_params(model.block1,  trainable=False)\n",
    "\n",
    "print(f\"Teacher Block 1: {teacher_params/1e6:7.3f} M params \"\n",
    "      f\"({teacher_params*4/1024**2:.1f} MB fp32)\")\n",
    "print(f\"Student Block 1: {student_params/1e6:7.3f} M params \"\n",
    "      f\"({student_params*4/1024**2:.1f} MB fp32)\")\n",
    "\n",
    "reduction = 100 * (1 - student_params / teacher_params)\n",
    "print(f\"Parameter reduction: {reduction:.2f}%\")"
   ]
  },
  {
   "cell_type": "code",
   "execution_count": 5,
   "id": "edee9102",
   "metadata": {},
   "outputs": [
    {
     "name": "stdout",
     "output_type": "stream",
     "text": [
      "Teacher Block 2:   0.964 M params (3.7 MB fp32)\n",
      "Student Block 2:   0.500 M params (1.9 MB fp32)\n",
      "Parameter reduction: 48.13%\n"
     ]
    }
   ],
   "source": [
    "student_2 = deepcopy(model.block2)\n",
    "pruned_block2 = prune_block2(student_2[\"feature_encoder\"], keep_ratio_ds=cbkd_config.keep_ratio_block2_ds, keep_ratio_attn=cbkd_config.keep_ratio_block2_attn)\n",
    "C = ModuleDict({\"feature_encoder\": pruned_block2})\n",
    "\n",
    "teacher_params  = count_params(student_2, trainable=False)\n",
    "student_params  = count_params(pruned_block2,  trainable=False)\n",
    "\n",
    "print(f\"Teacher Block 2: {teacher_params/1e6:7.3f} M params \"\n",
    "      f\"({teacher_params*4/1024**2:.1f} MB fp32)\")\n",
    "print(f\"Student Block 2: {student_params/1e6:7.3f} M params \"\n",
    "      f\"({student_params*4/1024**2:.1f} MB fp32)\")\n",
    "\n",
    "reduction = 100 * (1 - student_params / teacher_params)\n",
    "print(f\"Parameter reduction: {reduction:.2f}%\")"
   ]
  },
  {
   "cell_type": "code",
   "execution_count": 15,
   "id": "7d41f507",
   "metadata": {},
   "outputs": [
    {
     "data": {
      "text/plain": [
       "FeatureEncoder(\n",
       "  (pos_embedding): PositionalEmbedding(\n",
       "    (position_embeddings): Embedding(128, 256)\n",
       "  )\n",
       "  (conv_block): PrunedDSWrapper(\n",
       "    (down): Linear(in_features=256, out_features=25, bias=True)\n",
       "    (inner): DepthwiseSeparableConvBlock(\n",
       "      (depthwise_separable_conv): ModuleList(\n",
       "        (0-3): 4 x Sequential(\n",
       "          (0): Conv1d(25, 25, kernel_size=(7,), stride=(1,), padding=(3,), groups=25, bias=False)\n",
       "          (1): Conv1d(25, 25, kernel_size=(1,), stride=(1,))\n",
       "          (2): ReLU()\n",
       "        )\n",
       "      )\n",
       "      (layer_norms): ModuleList(\n",
       "        (0-3): 4 x LayerNorm((25,), eps=1e-06, elementwise_affine=True)\n",
       "      )\n",
       "      (dropout): Dropout(p=0, inplace=False)\n",
       "    )\n",
       "    (up): Linear(in_features=25, out_features=256, bias=True)\n",
       "  )\n",
       "  (attention_block): MultiHeadAttentionBlock(\n",
       "    (dropout): Dropout(p=0, inplace=False)\n",
       "    (query): Conv1D(\n",
       "      (conv1d): Sequential(\n",
       "        (0): Conv1d(256, 25, kernel_size=(1,), stride=(1,))\n",
       "        (1): Conv1d(25, 25, kernel_size=(1,), stride=(1,))\n",
       "        (2): Conv1d(25, 256, kernel_size=(1,), stride=(1,))\n",
       "      )\n",
       "    )\n",
       "    (key): Conv1D(\n",
       "      (conv1d): Sequential(\n",
       "        (0): Conv1d(256, 25, kernel_size=(1,), stride=(1,))\n",
       "        (1): Conv1d(25, 25, kernel_size=(1,), stride=(1,))\n",
       "        (2): Conv1d(25, 256, kernel_size=(1,), stride=(1,))\n",
       "      )\n",
       "    )\n",
       "    (value): Conv1D(\n",
       "      (conv1d): Sequential(\n",
       "        (0): Conv1d(256, 25, kernel_size=(1,), stride=(1,))\n",
       "        (1): Conv1d(25, 25, kernel_size=(1,), stride=(1,))\n",
       "        (2): Conv1d(25, 256, kernel_size=(1,), stride=(1,))\n",
       "      )\n",
       "    )\n",
       "    (layer_norm1): LayerNorm((256,), eps=1e-06, elementwise_affine=True)\n",
       "    (layer_norm2): LayerNorm((256,), eps=1e-06, elementwise_affine=True)\n",
       "    (out_layer): Conv1D(\n",
       "      (conv1d): Sequential(\n",
       "        (0): Conv1d(256, 25, kernel_size=(1,), stride=(1,))\n",
       "        (1): Conv1d(25, 25, kernel_size=(1,), stride=(1,))\n",
       "        (2): Conv1d(25, 256, kernel_size=(1,), stride=(1,))\n",
       "      )\n",
       "    )\n",
       "  )\n",
       "  (film_after_pos): FiLM(\n",
       "    (film_generator): Linear(in_features=256, out_features=512, bias=True)\n",
       "  )\n",
       "  (film_after_conv): FiLM(\n",
       "    (film_generator): Linear(in_features=256, out_features=512, bias=True)\n",
       "  )\n",
       "  (film_after_attn): FiLM(\n",
       "    (film_generator): Linear(in_features=256, out_features=512, bias=True)\n",
       "  )\n",
       ")"
      ]
     },
     "execution_count": 15,
     "metadata": {},
     "output_type": "execute_result"
    }
   ],
   "source": [
    "pruned_block2"
   ]
  },
  {
   "cell_type": "code",
   "execution_count": 6,
   "id": "d2b8350a",
   "metadata": {},
   "outputs": [
    {
     "name": "stdout",
     "output_type": "stream",
     "text": [
      "Teacher Block 3:   0.395 M params (1.5 MB fp32)\n",
      "Student Block 3:   0.199 M params (0.8 MB fp32)\n",
      "Parameter reduction: 49.72%\n"
     ]
    }
   ],
   "source": [
    "student_3 = deepcopy(model.block3)\n",
    "pruned_block3 = prune_block3(teacher_block3=student_3, keep_ratio_cqa=cbkd_config.keep_ratio_block3_cqa, keep_ratio_concat=cbkd_config.keep_ratio_block3_concat)\n",
    "\n",
    "teacher_params  = count_params(student_3, trainable=False)\n",
    "student_params  = count_params(pruned_block3,  trainable=False)\n",
    "\n",
    "print(f\"Teacher Block 3: {teacher_params/1e6:7.3f} M params \"\n",
    "      f\"({teacher_params*4/1024**2:.1f} MB fp32)\")\n",
    "print(f\"Student Block 3: {student_params/1e6:7.3f} M params \"\n",
    "      f\"({student_params*4/1024**2:.1f} MB fp32)\")\n",
    "\n",
    "reduction = 100 * (1 - student_params / teacher_params)\n",
    "print(f\"Parameter reduction: {reduction:.2f}%\")"
   ]
  },
  {
   "cell_type": "code",
   "execution_count": 7,
   "id": "949a8dd5",
   "metadata": {},
   "outputs": [
    {
     "name": "stdout",
     "output_type": "stream",
     "text": [
      "Teacher Block 4:   1.228 M params (4.7 MB fp32)\n",
      "Student Block 4:   0.502 M params (1.9 MB fp32)\n",
      "Parameter reduction: 59.09%\n"
     ]
    }
   ],
   "source": [
    "student_4 = deepcopy(model.block4)\n",
    "pruned_block4 = prune_block4(teacher_block4=student_4, keep_ratio_enc=cbkd_config.keep_ratio_block4_enc, keep_ratio_pred=cbkd_config.keep_ratio_block4_pred)\n",
    "\n",
    "teacher_params  = count_params(student_4, trainable=False)\n",
    "student_params  = count_params(pruned_block4,  trainable=False)\n",
    "\n",
    "print(f\"Teacher Block 4: {teacher_params/1e6:7.3f} M params \"\n",
    "      f\"({teacher_params*4/1024**2:.1f} MB fp32)\")\n",
    "print(f\"Student Block 4: {student_params/1e6:7.3f} M params \"\n",
    "      f\"({student_params*4/1024**2:.1f} MB fp32)\")\n",
    "\n",
    "reduction = 100 * (1 - student_params / teacher_params)\n",
    "print(f\"Parameter reduction: {reduction:.2f}%\")"
   ]
  },
  {
   "cell_type": "code",
   "execution_count": 8,
   "id": "86fbaffb",
   "metadata": {},
   "outputs": [
    {
     "name": "stdout",
     "output_type": "stream",
     "text": [
      "Teacher :   2.911 M params (11.1 MB fp32)\n",
      "Student :   1.525 M params (5.8 MB fp32)\n",
      "Parameter reduction: 47.62%\n"
     ]
    }
   ],
   "source": [
    "student.block2 = pruned_block2\n",
    "student.block3 = pruned_block3\n",
    "student.block4 = pruned_block4\n",
    "\n",
    "teacher_params  = count_params(model, trainable=False)\n",
    "student_params  = count_params(student,  trainable=False)\n",
    "\n",
    "print(f\"Teacher : {teacher_params/1e6:7.3f} M params \"\n",
    "      f\"({teacher_params*4/1024**2:.1f} MB fp32)\")\n",
    "print(f\"Student : {student_params/1e6:7.3f} M params \"\n",
    "      f\"({student_params*4/1024**2:.1f} MB fp32)\")\n",
    "\n",
    "reduction = 100 * (1 - student_params / teacher_params)\n",
    "print(f\"Parameter reduction: {reduction:.2f}%\")"
   ]
  },
  {
   "cell_type": "markdown",
   "id": "e189643f",
   "metadata": {},
   "source": [
    "STANDARD DISTILLATION"
   ]
  },
  {
   "cell_type": "code",
   "execution_count": 9,
   "id": "5370cb79",
   "metadata": {},
   "outputs": [],
   "source": [
    "from argparse import Namespace\n",
    "from torch.nn import ModuleDict\n",
    "from model.DeepVSLNet_cbkd import TeacherVSLNetCBDK, build_optimizer_and_scheduler\n",
    "from model.DeepVSLNet import DeepVSLNet\n",
    "from model.LightVSLNet import LightVSLNet\n",
    "from utils.cbkd_helpers import prune_block4, prune_block3, prune_block2\n",
    "from utils.cbkd_config import CBKDConfig\n",
    "\n",
    "from copy import deepcopy"
   ]
  },
  {
   "cell_type": "code",
   "execution_count": 10,
   "id": "a8a5a48f",
   "metadata": {},
   "outputs": [],
   "source": [
    "def count_params(model, trainable=False):\n",
    "    total = sum(p.numel() for p in model.parameters()\n",
    "                               if (p.requires_grad or not trainable))\n",
    "    return total"
   ]
  },
  {
   "cell_type": "code",
   "execution_count": 11,
   "id": "818cda0b",
   "metadata": {},
   "outputs": [],
   "source": [
    "configs_teacher = Namespace(\n",
    "    video_feature_dim=256,\n",
    "    dim=256,\n",
    "    film_mode=\"inside_encoder:multi\",\n",
    "    drop_rate=0,\n",
    "    word_size=300,\n",
    "    char_size=1000,\n",
    "    word_dim=300,\n",
    "    char_dim=50,\n",
    "    word_vectors=None,\n",
    "    num_heads=8,\n",
    "    max_pos_len=128,\n",
    "    predictor=\"glove\",\n",
    ")\n",
    "\n",
    "configs_student = Namespace(\n",
    "    video_feature_dim=256,\n",
    "    dim=256,\n",
    "    film_mode=\"inside_encoder:multi\",\n",
    "    drop_rate=0,\n",
    "    word_size=300,\n",
    "    char_size=1000,\n",
    "    word_dim=300,\n",
    "    char_dim=50,\n",
    "    word_vectors=None,\n",
    "    num_heads=8,\n",
    "    max_pos_len=128,\n",
    "    predictor=\"glove\",\n",
    "    dim_student=16,\n",
    "    num_heads_student=2\n",
    ")\n",
    "\n",
    "cbkd_config = CBKDConfig()\n",
    "\n",
    "model = DeepVSLNet(configs=configs_teacher, word_vectors=None)\n",
    "student = LightVSLNet(configs=configs_student, word_vectors=None)"
   ]
  },
  {
   "cell_type": "code",
   "execution_count": 12,
   "id": "e00b1a11",
   "metadata": {},
   "outputs": [
    {
     "name": "stdout",
     "output_type": "stream",
     "text": [
      "Teacher :   3.043 M params (11.6 MB fp32)\n",
      "Student :   0.312 M params (1.2 MB fp32)\n",
      "Parameter reduction: 89.75%\n"
     ]
    }
   ],
   "source": [
    "teacher_params  = count_params(model, trainable=False)\n",
    "student_params  = count_params(student,  trainable=False)\n",
    "\n",
    "print(f\"Teacher : {teacher_params/1e6:7.3f} M params \"\n",
    "      f\"({teacher_params*4/1024**2:.1f} MB fp32)\")\n",
    "print(f\"Student : {student_params/1e6:7.3f} M params \"\n",
    "      f\"({student_params*4/1024**2:.1f} MB fp32)\")\n",
    "\n",
    "reduction = 100 * (1 - student_params / teacher_params)\n",
    "print(f\"Parameter reduction: {reduction:.2f}%\")"
   ]
  },
  {
   "cell_type": "code",
   "execution_count": 13,
   "id": "8ab898e9",
   "metadata": {},
   "outputs": [],
   "source": [
    "import matplotlib.pyplot as plt\n",
    "\n",
    "def kd_tradeoff_plot(gflops, accs, params_m, labels,\n",
    "                     title=\"Model trade-off\", xlim=None, ylim=None):\n",
    "    palette = [\"dodgerblue\",\"mediumturquoise\",\"gold\",\"crimson\",\n",
    "               \"orchid\",\"steelblue\",\"limegreen\",\"lightsalmon\"]\n",
    "    sizes   = [p * 500 for p in params_m]\n",
    "\n",
    "    plt.figure(figsize=(7,5))\n",
    "    for i,(x,y,s,p,lab) in enumerate(zip(gflops, accs, sizes, params_m, labels)):\n",
    "        plt.scatter(x, y, s=s, color=palette[i%len(palette)],\n",
    "                    alpha=0.7, edgecolors='none', label=lab)\n",
    "        plt.text(x, y+0.22, f\"{p:.2f}M\", ha='center', va='bottom', fontsize=16)\n",
    "\n",
    "    \n",
    "    plt.xlabel(\"GFLOPs\", fontsize=18, fontname='Times New Roman')\n",
    "    plt.ylabel(\"mIoU@0.3 r@1\", fontsize=18, fontname='Times New Roman')\n",
    "    if xlim: plt.xlim(*xlim)\n",
    "    if ylim: plt.ylim(*ylim)\n",
    "    plt.xticks(fontsize=20, color='black', fontname='Times New Roman')\n",
    "    plt.yticks(fontsize=20, color='black', fontname='Times New Roman')\n",
    "\n",
    "    lgd = plt.legend(fontsize=16)\n",
    "    # Robust bubble-resize across matplotlib versions\n",
    "    handles = getattr(lgd, \"legendHandles\",\n",
    "                      getattr(lgd, \"legend_handles\", []))\n",
    "    for h in handles:\n",
    "        h.set_sizes([80])\n",
    "\n",
    "    plt.grid()\n",
    "    plt.tight_layout()\n",
    "    plt.savefig(\"figs/model_dimensions.pdf\", bbox_inches=\"tight\")\n",
    "    plt.show()\n"
   ]
  },
  {
   "cell_type": "code",
   "execution_count": 14,
   "id": "5a2eb1b9",
   "metadata": {},
   "outputs": [
    {
     "ename": "FileNotFoundError",
     "evalue": "[Errno 2] No such file or directory: 'figs/model_dimensions.pdf'",
     "output_type": "error",
     "traceback": [
      "\u001b[31m---------------------------------------------------------------------------\u001b[39m",
      "\u001b[31mFileNotFoundError\u001b[39m                         Traceback (most recent call last)",
      "\u001b[36mCell\u001b[39m\u001b[36m \u001b[39m\u001b[32mIn[14]\u001b[39m\u001b[32m, line 6\u001b[39m\n\u001b[32m      3\u001b[39m params_m = [\u001b[32m3.043\u001b[39m, \u001b[32m0.351\u001b[39m, \u001b[32m0.311\u001b[39m, \u001b[32m1.784\u001b[39m, \u001b[32m1.525\u001b[39m]\n\u001b[32m      4\u001b[39m labels   = [\u001b[33m\"\u001b[39m\u001b[33mTeacher\u001b[39m\u001b[33m\"\u001b[39m, \u001b[33m\"\u001b[39m\u001b[33mPolicy 1\u001b[39m\u001b[33m\"\u001b[39m, \u001b[33m\"\u001b[39m\u001b[33mPolicy 2\u001b[39m\u001b[33m\"\u001b[39m, \u001b[33m\"\u001b[39m\u001b[33mPolicy 3\u001b[39m\u001b[33m\"\u001b[39m, \u001b[33m\"\u001b[39m\u001b[33mPolicy 4\u001b[39m\u001b[33m\"\u001b[39m]\n\u001b[32m----> \u001b[39m\u001b[32m6\u001b[39m \u001b[43mkd_tradeoff_plot\u001b[49m\u001b[43m(\u001b[49m\u001b[43mgflops\u001b[49m\u001b[43m,\u001b[49m\u001b[43m \u001b[49m\u001b[43maccs\u001b[49m\u001b[43m,\u001b[49m\u001b[43m \u001b[49m\u001b[43mparams_m\u001b[49m\u001b[43m,\u001b[49m\u001b[43m \u001b[49m\u001b[43mlabels\u001b[49m\u001b[43m,\u001b[49m\n\u001b[32m      7\u001b[39m \u001b[43m                 \u001b[49m\u001b[43mtitle\u001b[49m\u001b[43m=\u001b[49m\u001b[33;43m\"\u001b[39;49m\u001b[33;43mEgo4D-NLQ • Teacher vs CBKD\u001b[39;49m\u001b[33;43m\"\u001b[39;49m\u001b[43m,\u001b[49m\n\u001b[32m      8\u001b[39m \u001b[43m                 \u001b[49m\u001b[43mxlim\u001b[49m\u001b[43m=\u001b[49m\u001b[43m(\u001b[49m\u001b[43m-\u001b[49m\u001b[32;43m0.05\u001b[39;49m\u001b[43m,\u001b[49m\u001b[32;43m0.7\u001b[39;49m\u001b[43m)\u001b[49m\u001b[43m,\u001b[49m\u001b[43m \u001b[49m\u001b[43mylim\u001b[49m\u001b[43m=\u001b[49m\u001b[43m(\u001b[49m\u001b[32;43m4\u001b[39;49m\u001b[43m,\u001b[49m\u001b[32;43m10.5\u001b[39;49m\u001b[43m)\u001b[49m\u001b[43m)\u001b[49m\n",
      "\u001b[36mCell\u001b[39m\u001b[36m \u001b[39m\u001b[32mIn[13]\u001b[39m\u001b[32m, line 32\u001b[39m, in \u001b[36mkd_tradeoff_plot\u001b[39m\u001b[34m(gflops, accs, params_m, labels, title, xlim, ylim)\u001b[39m\n\u001b[32m     30\u001b[39m plt.grid()\n\u001b[32m     31\u001b[39m plt.tight_layout()\n\u001b[32m---> \u001b[39m\u001b[32m32\u001b[39m \u001b[43mplt\u001b[49m\u001b[43m.\u001b[49m\u001b[43msavefig\u001b[49m\u001b[43m(\u001b[49m\u001b[33;43m\"\u001b[39;49m\u001b[33;43mfigs/model_dimensions.pdf\u001b[39;49m\u001b[33;43m\"\u001b[39;49m\u001b[43m,\u001b[49m\u001b[43m \u001b[49m\u001b[43mbbox_inches\u001b[49m\u001b[43m=\u001b[49m\u001b[33;43m\"\u001b[39;49m\u001b[33;43mtight\u001b[39;49m\u001b[33;43m\"\u001b[39;49m\u001b[43m)\u001b[49m\n\u001b[32m     33\u001b[39m plt.show()\n",
      "\u001b[36mFile \u001b[39m\u001b[32mc:\\Users\\andre\\Documents\\University\\1st Year\\Machine Learning and Deep Learning\\Ego4D-NLQ\\.venv\\Lib\\site-packages\\matplotlib\\pyplot.py:1243\u001b[39m, in \u001b[36msavefig\u001b[39m\u001b[34m(*args, **kwargs)\u001b[39m\n\u001b[32m   1240\u001b[39m fig = gcf()\n\u001b[32m   1241\u001b[39m \u001b[38;5;66;03m# savefig default implementation has no return, so mypy is unhappy\u001b[39;00m\n\u001b[32m   1242\u001b[39m \u001b[38;5;66;03m# presumably this is here because subclasses can return?\u001b[39;00m\n\u001b[32m-> \u001b[39m\u001b[32m1243\u001b[39m res = \u001b[43mfig\u001b[49m\u001b[43m.\u001b[49m\u001b[43msavefig\u001b[49m\u001b[43m(\u001b[49m\u001b[43m*\u001b[49m\u001b[43margs\u001b[49m\u001b[43m,\u001b[49m\u001b[43m \u001b[49m\u001b[43m*\u001b[49m\u001b[43m*\u001b[49m\u001b[43mkwargs\u001b[49m\u001b[43m)\u001b[49m  \u001b[38;5;66;03m# type: ignore[func-returns-value]\u001b[39;00m\n\u001b[32m   1244\u001b[39m fig.canvas.draw_idle()  \u001b[38;5;66;03m# Need this if 'transparent=True', to reset colors.\u001b[39;00m\n\u001b[32m   1245\u001b[39m \u001b[38;5;28;01mreturn\u001b[39;00m res\n",
      "\u001b[36mFile \u001b[39m\u001b[32mc:\\Users\\andre\\Documents\\University\\1st Year\\Machine Learning and Deep Learning\\Ego4D-NLQ\\.venv\\Lib\\site-packages\\matplotlib\\figure.py:3490\u001b[39m, in \u001b[36mFigure.savefig\u001b[39m\u001b[34m(self, fname, transparent, **kwargs)\u001b[39m\n\u001b[32m   3488\u001b[39m     \u001b[38;5;28;01mfor\u001b[39;00m ax \u001b[38;5;129;01min\u001b[39;00m \u001b[38;5;28mself\u001b[39m.axes:\n\u001b[32m   3489\u001b[39m         _recursively_make_axes_transparent(stack, ax)\n\u001b[32m-> \u001b[39m\u001b[32m3490\u001b[39m \u001b[38;5;28;43mself\u001b[39;49m\u001b[43m.\u001b[49m\u001b[43mcanvas\u001b[49m\u001b[43m.\u001b[49m\u001b[43mprint_figure\u001b[49m\u001b[43m(\u001b[49m\u001b[43mfname\u001b[49m\u001b[43m,\u001b[49m\u001b[43m \u001b[49m\u001b[43m*\u001b[49m\u001b[43m*\u001b[49m\u001b[43mkwargs\u001b[49m\u001b[43m)\u001b[49m\n",
      "\u001b[36mFile \u001b[39m\u001b[32mc:\\Users\\andre\\Documents\\University\\1st Year\\Machine Learning and Deep Learning\\Ego4D-NLQ\\.venv\\Lib\\site-packages\\matplotlib\\backend_bases.py:2184\u001b[39m, in \u001b[36mFigureCanvasBase.print_figure\u001b[39m\u001b[34m(self, filename, dpi, facecolor, edgecolor, orientation, format, bbox_inches, pad_inches, bbox_extra_artists, backend, **kwargs)\u001b[39m\n\u001b[32m   2180\u001b[39m \u001b[38;5;28;01mtry\u001b[39;00m:\n\u001b[32m   2181\u001b[39m     \u001b[38;5;66;03m# _get_renderer may change the figure dpi (as vector formats\u001b[39;00m\n\u001b[32m   2182\u001b[39m     \u001b[38;5;66;03m# force the figure dpi to 72), so we need to set it again here.\u001b[39;00m\n\u001b[32m   2183\u001b[39m     \u001b[38;5;28;01mwith\u001b[39;00m cbook._setattr_cm(\u001b[38;5;28mself\u001b[39m.figure, dpi=dpi):\n\u001b[32m-> \u001b[39m\u001b[32m2184\u001b[39m         result = \u001b[43mprint_method\u001b[49m\u001b[43m(\u001b[49m\n\u001b[32m   2185\u001b[39m \u001b[43m            \u001b[49m\u001b[43mfilename\u001b[49m\u001b[43m,\u001b[49m\n\u001b[32m   2186\u001b[39m \u001b[43m            \u001b[49m\u001b[43mfacecolor\u001b[49m\u001b[43m=\u001b[49m\u001b[43mfacecolor\u001b[49m\u001b[43m,\u001b[49m\n\u001b[32m   2187\u001b[39m \u001b[43m            \u001b[49m\u001b[43medgecolor\u001b[49m\u001b[43m=\u001b[49m\u001b[43medgecolor\u001b[49m\u001b[43m,\u001b[49m\n\u001b[32m   2188\u001b[39m \u001b[43m            \u001b[49m\u001b[43morientation\u001b[49m\u001b[43m=\u001b[49m\u001b[43morientation\u001b[49m\u001b[43m,\u001b[49m\n\u001b[32m   2189\u001b[39m \u001b[43m            \u001b[49m\u001b[43mbbox_inches_restore\u001b[49m\u001b[43m=\u001b[49m\u001b[43m_bbox_inches_restore\u001b[49m\u001b[43m,\u001b[49m\n\u001b[32m   2190\u001b[39m \u001b[43m            \u001b[49m\u001b[43m*\u001b[49m\u001b[43m*\u001b[49m\u001b[43mkwargs\u001b[49m\u001b[43m)\u001b[49m\n\u001b[32m   2191\u001b[39m \u001b[38;5;28;01mfinally\u001b[39;00m:\n\u001b[32m   2192\u001b[39m     \u001b[38;5;28;01mif\u001b[39;00m bbox_inches \u001b[38;5;129;01mand\u001b[39;00m restore_bbox:\n",
      "\u001b[36mFile \u001b[39m\u001b[32mc:\\Users\\andre\\Documents\\University\\1st Year\\Machine Learning and Deep Learning\\Ego4D-NLQ\\.venv\\Lib\\site-packages\\matplotlib\\backend_bases.py:2040\u001b[39m, in \u001b[36mFigureCanvasBase._switch_canvas_and_return_print_method.<locals>.<lambda>\u001b[39m\u001b[34m(*args, **kwargs)\u001b[39m\n\u001b[32m   2036\u001b[39m     optional_kws = {  \u001b[38;5;66;03m# Passed by print_figure for other renderers.\u001b[39;00m\n\u001b[32m   2037\u001b[39m         \u001b[33m\"\u001b[39m\u001b[33mdpi\u001b[39m\u001b[33m\"\u001b[39m, \u001b[33m\"\u001b[39m\u001b[33mfacecolor\u001b[39m\u001b[33m\"\u001b[39m, \u001b[33m\"\u001b[39m\u001b[33medgecolor\u001b[39m\u001b[33m\"\u001b[39m, \u001b[33m\"\u001b[39m\u001b[33morientation\u001b[39m\u001b[33m\"\u001b[39m,\n\u001b[32m   2038\u001b[39m         \u001b[33m\"\u001b[39m\u001b[33mbbox_inches_restore\u001b[39m\u001b[33m\"\u001b[39m}\n\u001b[32m   2039\u001b[39m     skip = optional_kws - {*inspect.signature(meth).parameters}\n\u001b[32m-> \u001b[39m\u001b[32m2040\u001b[39m     print_method = functools.wraps(meth)(\u001b[38;5;28;01mlambda\u001b[39;00m *args, **kwargs: \u001b[43mmeth\u001b[49m\u001b[43m(\u001b[49m\n\u001b[32m   2041\u001b[39m \u001b[43m        \u001b[49m\u001b[43m*\u001b[49m\u001b[43margs\u001b[49m\u001b[43m,\u001b[49m\u001b[43m \u001b[49m\u001b[43m*\u001b[49m\u001b[43m*\u001b[49m\u001b[43m{\u001b[49m\u001b[43mk\u001b[49m\u001b[43m:\u001b[49m\u001b[43m \u001b[49m\u001b[43mv\u001b[49m\u001b[43m \u001b[49m\u001b[38;5;28;43;01mfor\u001b[39;49;00m\u001b[43m \u001b[49m\u001b[43mk\u001b[49m\u001b[43m,\u001b[49m\u001b[43m \u001b[49m\u001b[43mv\u001b[49m\u001b[43m \u001b[49m\u001b[38;5;129;43;01min\u001b[39;49;00m\u001b[43m \u001b[49m\u001b[43mkwargs\u001b[49m\u001b[43m.\u001b[49m\u001b[43mitems\u001b[49m\u001b[43m(\u001b[49m\u001b[43m)\u001b[49m\u001b[43m \u001b[49m\u001b[38;5;28;43;01mif\u001b[39;49;00m\u001b[43m \u001b[49m\u001b[43mk\u001b[49m\u001b[43m \u001b[49m\u001b[38;5;129;43;01mnot\u001b[39;49;00m\u001b[43m \u001b[49m\u001b[38;5;129;43;01min\u001b[39;49;00m\u001b[43m \u001b[49m\u001b[43mskip\u001b[49m\u001b[43m}\u001b[49m\u001b[43m)\u001b[49m)\n\u001b[32m   2042\u001b[39m \u001b[38;5;28;01melse\u001b[39;00m:  \u001b[38;5;66;03m# Let third-parties do as they see fit.\u001b[39;00m\n\u001b[32m   2043\u001b[39m     print_method = meth\n",
      "\u001b[36mFile \u001b[39m\u001b[32mc:\\Users\\andre\\Documents\\University\\1st Year\\Machine Learning and Deep Learning\\Ego4D-NLQ\\.venv\\Lib\\site-packages\\matplotlib\\backends\\backend_pdf.py:2779\u001b[39m, in \u001b[36mFigureCanvasPdf.print_pdf\u001b[39m\u001b[34m(self, filename, bbox_inches_restore, metadata)\u001b[39m\n\u001b[32m   2777\u001b[39m     file = filename._ensure_file()\n\u001b[32m   2778\u001b[39m \u001b[38;5;28;01melse\u001b[39;00m:\n\u001b[32m-> \u001b[39m\u001b[32m2779\u001b[39m     file = \u001b[43mPdfFile\u001b[49m\u001b[43m(\u001b[49m\u001b[43mfilename\u001b[49m\u001b[43m,\u001b[49m\u001b[43m \u001b[49m\u001b[43mmetadata\u001b[49m\u001b[43m=\u001b[49m\u001b[43mmetadata\u001b[49m\u001b[43m)\u001b[49m\n\u001b[32m   2780\u001b[39m \u001b[38;5;28;01mtry\u001b[39;00m:\n\u001b[32m   2781\u001b[39m     file.newPage(width, height)\n",
      "\u001b[36mFile \u001b[39m\u001b[32mc:\\Users\\andre\\Documents\\University\\1st Year\\Machine Learning and Deep Learning\\Ego4D-NLQ\\.venv\\Lib\\site-packages\\matplotlib\\backends\\backend_pdf.py:687\u001b[39m, in \u001b[36mPdfFile.__init__\u001b[39m\u001b[34m(self, filename, metadata)\u001b[39m\n\u001b[32m    685\u001b[39m \u001b[38;5;28mself\u001b[39m.original_file_like = \u001b[38;5;28;01mNone\u001b[39;00m\n\u001b[32m    686\u001b[39m \u001b[38;5;28mself\u001b[39m.tell_base = \u001b[32m0\u001b[39m\n\u001b[32m--> \u001b[39m\u001b[32m687\u001b[39m fh, opened = \u001b[43mcbook\u001b[49m\u001b[43m.\u001b[49m\u001b[43mto_filehandle\u001b[49m\u001b[43m(\u001b[49m\u001b[43mfilename\u001b[49m\u001b[43m,\u001b[49m\u001b[43m \u001b[49m\u001b[33;43m\"\u001b[39;49m\u001b[33;43mwb\u001b[39;49m\u001b[33;43m\"\u001b[39;49m\u001b[43m,\u001b[49m\u001b[43m \u001b[49m\u001b[43mreturn_opened\u001b[49m\u001b[43m=\u001b[49m\u001b[38;5;28;43;01mTrue\u001b[39;49;00m\u001b[43m)\u001b[49m\n\u001b[32m    688\u001b[39m \u001b[38;5;28;01mif\u001b[39;00m \u001b[38;5;129;01mnot\u001b[39;00m opened:\n\u001b[32m    689\u001b[39m     \u001b[38;5;28;01mtry\u001b[39;00m:\n",
      "\u001b[36mFile \u001b[39m\u001b[32mc:\\Users\\andre\\Documents\\University\\1st Year\\Machine Learning and Deep Learning\\Ego4D-NLQ\\.venv\\Lib\\site-packages\\matplotlib\\cbook.py:546\u001b[39m, in \u001b[36mto_filehandle\u001b[39m\u001b[34m(fname, flag, return_opened, encoding)\u001b[39m\n\u001b[32m    544\u001b[39m         fh = bz2.BZ2File(fname, flag)\n\u001b[32m    545\u001b[39m     \u001b[38;5;28;01melse\u001b[39;00m:\n\u001b[32m--> \u001b[39m\u001b[32m546\u001b[39m         fh = \u001b[38;5;28;43mopen\u001b[39;49m\u001b[43m(\u001b[49m\u001b[43mfname\u001b[49m\u001b[43m,\u001b[49m\u001b[43m \u001b[49m\u001b[43mflag\u001b[49m\u001b[43m,\u001b[49m\u001b[43m \u001b[49m\u001b[43mencoding\u001b[49m\u001b[43m=\u001b[49m\u001b[43mencoding\u001b[49m\u001b[43m)\u001b[49m\n\u001b[32m    547\u001b[39m     opened = \u001b[38;5;28;01mTrue\u001b[39;00m\n\u001b[32m    548\u001b[39m \u001b[38;5;28;01melif\u001b[39;00m \u001b[38;5;28mhasattr\u001b[39m(fname, \u001b[33m'\u001b[39m\u001b[33mseek\u001b[39m\u001b[33m'\u001b[39m):\n",
      "\u001b[31mFileNotFoundError\u001b[39m: [Errno 2] No such file or directory: 'figs/model_dimensions.pdf'"
     ]
    },
    {
     "data": {
      "image/png": "[encoded data removed]",
      "text/plain": [
       "<Figure size 700x500 with 1 Axes>"
      ]
     },
     "metadata": {},
     "output_type": "display_data"
    }
   ],
   "source": [
    "gflops   = [0.62, 0.02, 0.01, 0.18, 0.12]\n",
    "accs     = [9.68, 8.18, 5.83, 9.27, 9.11]\n",
    "params_m = [3.043, 0.351, 0.311, 1.784, 1.525]\n",
    "labels   = [\"Teacher\", \"Policy 1\", \"Policy 2\", \"Policy 3\", \"Policy 4\"]\n",
    "\n",
    "kd_tradeoff_plot(gflops, accs, params_m, labels,\n",
    "                 title=\"Ego4D-NLQ • Teacher vs CBKD\",\n",
    "                 xlim=(-0.05,0.7), ylim=(4,10.5))\n"
   ]
  }
 ],
 "metadata": {
  "kernelspec": {
   "display_name": "Ego4D-NLQ",
   "language": "python",
   "name": "python3"
  },
  "language_info": {
   "codemirror_mode": {
    "name": "ipython",
    "version": 3
   },
   "file_extension": ".py",
   "mimetype": "text/x-python",
   "name": "python",
   "nbconvert_exporter": "python",
   "pygments_lexer": "ipython3",
   "version": "3.13.2"
  }
 },
 "nbformat": 4,
 "nbformat_minor": 5
}
