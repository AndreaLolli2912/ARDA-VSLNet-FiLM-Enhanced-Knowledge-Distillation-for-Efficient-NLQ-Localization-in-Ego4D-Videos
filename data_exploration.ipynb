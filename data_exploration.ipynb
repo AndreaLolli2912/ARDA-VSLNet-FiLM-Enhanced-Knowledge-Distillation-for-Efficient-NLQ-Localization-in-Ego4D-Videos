{
 "cells": [
  {
   "cell_type": "markdown",
   "id": "f5b374e1",
   "metadata": {},
   "source": [
    "# Ego4D Data"
   ]
  },
  {
   "cell_type": "markdown",
   "id": "7eca77f4",
   "metadata": {},
   "source": [
    "## NLQ Annotations"
   ]
  },
  {
   "cell_type": "markdown",
   "id": "a6e0cf8b",
   "metadata": {},
   "source": [
    "## Omnivore"
   ]
  },
  {
   "cell_type": "markdown",
   "id": "6a1cd7cf",
   "metadata": {},
   "source": [
    "# EgoVLP Data"
   ]
  }
 ],
 "metadata": {
  "kernelspec": {
   "display_name": ".venv",
   "language": "python",
   "name": "python3"
  },
  "language_info": {
   "codemirror_mode": {
    "name": "ipython",
    "version": 3
   },
   "file_extension": ".py",
   "mimetype": "text/x-python",
   "name": "python",
   "nbconvert_exporter": "python",
   "pygments_lexer": "ipython3",
   "version": "3.13.2"
  }
 },
 "nbformat": 4,
 "nbformat_minor": 5
}
