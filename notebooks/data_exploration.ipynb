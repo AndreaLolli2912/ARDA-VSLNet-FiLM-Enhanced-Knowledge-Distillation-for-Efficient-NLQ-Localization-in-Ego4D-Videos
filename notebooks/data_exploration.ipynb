{
 "cells": [
  {
   "cell_type": "code",
   "execution_count": 6,
   "id": "9e727401",
   "metadata": {},
   "outputs": [],
   "source": [
    "import os\n",
    "import json"
   ]
  },
  {
   "cell_type": "markdown",
   "id": "f5b374e1",
   "metadata": {},
   "source": [
    "# Ego4D Data"
   ]
  },
  {
   "cell_type": "code",
   "execution_count": 7,
   "id": "eb03cce1",
   "metadata": {},
   "outputs": [],
   "source": [
    "EGO4D_DATA_PATH = os.path.join(\"..\", \"ego4d_data\", \"v1\")"
   ]
  },
  {
   "cell_type": "markdown",
   "id": "7eca77f4",
   "metadata": {},
   "source": [
    "## NLQ Annotations"
   ]
  },
  {
   "cell_type": "code",
   "execution_count": 8,
   "id": "d47379a2",
   "metadata": {},
   "outputs": [
    {
     "name": "stdout",
     "output_type": "stream",
     "text": [
      "File name: nlq_test_unannotated.json\n",
      "File name: nlq_train.json\n",
      "File name: nlq_val.json\n",
      "Annotations split: dict_keys(['test', 'train', 'val'])\n"
     ]
    }
   ],
   "source": [
    "nlq_annotations = dict()\n",
    "\n",
    "NLQ_ANNOTATIONS_PATH = os.path.join(EGO4D_DATA_PATH, \"annotations\")\n",
    "\n",
    "for file_name in os.listdir(NLQ_ANNOTATIONS_PATH):\n",
    "    if file_name.startswith(\"nlq\"):\n",
    "        print(\"File name:\", file_name)\n",
    "        split = \"train\" if \"train\" in file_name else \"test\" if \"test\" in file_name else \"val\"\n",
    "        \n",
    "        file_path = os.path.join(NLQ_ANNOTATIONS_PATH, file_name)\n",
    "        \n",
    "        with open(file_path, \"r\") as f:\n",
    "            raw_data = json.load(f)\n",
    "        \n",
    "        nlq_annotations[split] = raw_data\n",
    "\n",
    "print(\"Annotations split:\", nlq_annotations.keys())"
   ]
  },
  {
   "cell_type": "markdown",
   "id": "f6e5f131",
   "metadata": {},
   "source": [
    "### Data Structure Exploration"
   ]
  },
  {
   "cell_type": "markdown",
   "id": "f1759154",
   "metadata": {},
   "source": [
    "#### Train\n"
   ]
  },
  {
   "cell_type": "markdown",
   "id": "0f29187d",
   "metadata": {},
   "source": [
    "Train annotations are characterized by:\n",
    "- version: which in this case is v1 as we have chosen \n",
    "- date: date of the data last revision (I guess)\n",
    "- description: refers to the data benchmark (NLQ) and split (train)\n",
    "- manifest: path to the split manifest"
   ]
  },
  {
   "cell_type": "code",
   "execution_count": 9,
   "id": "bf626d0c",
   "metadata": {},
   "outputs": [
    {
     "name": "stdout",
     "output_type": "stream",
     "text": [
      "nlq_annotations_train.keys() dict_keys(['version', 'date', 'description', 'manifest', 'videos'])\n"
     ]
    }
   ],
   "source": [
    "nlq_annotations_train = nlq_annotations[\"train\"]\n",
    "print(\"nlq_annotations_train.keys()\", nlq_annotations_train.keys())"
   ]
  },
  {
   "cell_type": "code",
   "execution_count": 10,
   "id": "c755e5da",
   "metadata": {},
   "outputs": [
    {
     "name": "stdout",
     "output_type": "stream",
     "text": [
      "nlq_annotations_train['version'] 1\n",
      "nlq_annotations_train['date'] 220216\n",
      "nlq_annotations_train['description'] NLQ Annotations (train)\n",
      "nlq_annotations_train['manifest'] s3://ego4d-consortium-sharing/public/v1/full_scale/manifest.csv\n"
     ]
    }
   ],
   "source": [
    "print(\"nlq_annotations_train['version']\", nlq_annotations_train[\"version\"])\n",
    "print(\"nlq_annotations_train['date']\", nlq_annotations_train[\"date\"])\n",
    "print(\"nlq_annotations_train['description']\", nlq_annotations_train[\"description\"])\n",
    "print(\"nlq_annotations_train['manifest']\", nlq_annotations_train[\"manifest\"])"
   ]
  },
  {
   "cell_type": "markdown",
   "id": "13b777bd",
   "metadata": {},
   "source": [
    "Each item of the videos list contains informations about a specific video\n",
    "- video uid: unique identifier of the videos\n",
    "- clips: \n",
    "- split: train as we are working with the train annotations"
   ]
  },
  {
   "cell_type": "code",
   "execution_count": 11,
   "id": "e5c316f7",
   "metadata": {},
   "outputs": [
    {
     "name": "stdout",
     "output_type": "stream",
     "text": [
      "type(nlq_annotations_train_videos): <class 'list'>\n",
      "len(nlq_annotations_train_videos): 754\n"
     ]
    }
   ],
   "source": [
    "# explore videos data\n",
    "nlq_annotations_train_videos = nlq_annotations_train[\"videos\"]\n",
    "\n",
    "print(f\"type(nlq_annotations_train_videos): {type(nlq_annotations_train_videos)}\")\n",
    "print(f\"len(nlq_annotations_train_videos): {len(nlq_annotations_train_videos)}\")"
   ]
  },
  {
   "cell_type": "code",
   "execution_count": 12,
   "id": "95ff788d",
   "metadata": {},
   "outputs": [
    {
     "name": "stdout",
     "output_type": "stream",
     "text": [
      "type(video_0): <class 'dict'>\n",
      "video_0.keys(): dict_keys(['video_uid', 'clips', 'split'])\n"
     ]
    }
   ],
   "source": [
    "# video data structure\n",
    "video_0 = nlq_annotations_train_videos[0]\n",
    "print(f\"type(video_0): {type(video_0)}\")\n",
    "print(f\"video_0.keys(): {video_0.keys()}\")"
   ]
  },
  {
   "cell_type": "code",
   "execution_count": 13,
   "id": "cb9d3036",
   "metadata": {},
   "outputs": [
    {
     "name": "stdout",
     "output_type": "stream",
     "text": [
      "d250521e-5197-44aa-8baa-2f42b24444d2\n"
     ]
    }
   ],
   "source": [
    "# videop unique identifier\n",
    "video_0_uid = video_0[\"video_uid\"]\n",
    "print(video_0_uid)"
   ]
  },
  {
   "cell_type": "code",
   "execution_count": 14,
   "id": "94ce1e37",
   "metadata": {},
   "outputs": [
    {
     "name": "stdout",
     "output_type": "stream",
     "text": [
      "train\n"
     ]
    }
   ],
   "source": [
    "# video split group\n",
    "video_0_split = video_0[\"split\"]\n",
    "print(video_0_split)"
   ]
  },
  {
   "cell_type": "markdown",
   "id": "79dfd99c",
   "metadata": {},
   "source": [
    "Question:\n",
    "- By how many clips is every video characterized by?"
   ]
  },
  {
   "cell_type": "code",
   "execution_count": 15,
   "id": "578f2b45",
   "metadata": {},
   "outputs": [
    {
     "name": "stdout",
     "output_type": "stream",
     "text": [
      "type(video_0_clips) <class 'list'>\n",
      "len(video_0_clips) 1\n"
     ]
    }
   ],
   "source": [
    "video_0_clips = video_0[\"clips\"]\n",
    "print(\"type(video_0_clips)\", type(video_0_clips))\n",
    "print(\"len(video_0_clips)\", len(video_0_clips))"
   ]
  },
  {
   "cell_type": "code",
   "execution_count": 16,
   "id": "6f46857a",
   "metadata": {},
   "outputs": [
    {
     "name": "stdout",
     "output_type": "stream",
     "text": [
      "type(video_0_clips_0) <class 'dict'>\n",
      "video_0_clips_0.keys() dict_keys(['clip_uid', 'video_start_sec', 'video_end_sec', 'video_start_frame', 'video_end_frame', 'clip_start_sec', 'clip_end_sec', 'clip_start_frame', 'clip_end_frame', 'source_clip_uid', 'annotations'])\n"
     ]
    }
   ],
   "source": [
    "video_0_clips_0 = video_0_clips[0]\n",
    "print(\"type(video_0_clips_0)\", type(video_0_clips_0))\n",
    "print(\"video_0_clips_0.keys()\", video_0_clips_0.keys())"
   ]
  },
  {
   "cell_type": "code",
   "execution_count": 17,
   "id": "aa9dff88",
   "metadata": {},
   "outputs": [
    {
     "name": "stdout",
     "output_type": "stream",
     "text": [
      "video_0_clips_0['clip_uid'] fae92e70-88aa-4b77-b41a-5879b74c804c\n",
      "video_0_clips_0['source_clip_uid'] 51e04dae-3ad0-48c1-b94b-c3ba0edaa99e\n"
     ]
    }
   ],
   "source": [
    "print(\"video_0_clips_0['clip_uid']\", video_0_clips_0[\"clip_uid\"])\n",
    "print(\"video_0_clips_0['source_clip_uid']\", video_0_clips_0[\"source_clip_uid\"])"
   ]
  },
  {
   "cell_type": "markdown",
   "id": "ffcddaa6",
   "metadata": {},
   "source": [
    "Exploration of video/clips timesteps and frame indices.\n",
    "\n",
    "Interesting fact, there is a delay in the start of the **video**, which is not present in the clip itself.\n",
    "\n",
    "**Question:**\n",
    "- What is this the origin of this delay?"
   ]
  },
  {
   "cell_type": "code",
   "execution_count": 18,
   "id": "cb128f21",
   "metadata": {},
   "outputs": [
    {
     "name": "stdout",
     "output_type": "stream",
     "text": [
      ">> Video timesteps:\n",
      "  >> video_0_clips_0['video_start_sec']: 0.0210286\n",
      "  >> video_0_clips_0['video_end_sec']: 480.0210286\n",
      "\n",
      ">> Clip timesteps:\n",
      "  >> video_0_clips_0['clip_start_sec']: 0\n",
      "  >> video_0_clips_0['clip_end_sec']: 480.0\n"
     ]
    }
   ],
   "source": [
    "print(\">> Video timesteps:\")\n",
    "print(f\"  >> video_0_clips_0['video_start_sec']: {video_0_clips_0[\"video_start_sec\"]}\")\n",
    "print(f\"  >> video_0_clips_0['video_end_sec']: {video_0_clips_0[\"video_end_sec\"]}\\n\")\n",
    "\n",
    "print(\">> Clip timesteps:\")\n",
    "print(f\"  >> video_0_clips_0['clip_start_sec']: {video_0_clips_0[\"clip_start_sec\"]}\")\n",
    "print(f\"  >> video_0_clips_0['clip_end_sec']: {video_0_clips_0[\"clip_end_sec\"]}\")"
   ]
  },
  {
   "cell_type": "code",
   "execution_count": 19,
   "id": "9038e60b",
   "metadata": {},
   "outputs": [
    {
     "name": "stdout",
     "output_type": "stream",
     "text": [
      ">> Video frames:\n",
      "  >> video_0_clips_0['video_start_frame']: 1\n",
      "  >> video_0_clips_0['video_end_frame']: 14401\n",
      "\n",
      ">> Clip frames:\n",
      "  >> video_0_clips_0['clip_start_frame']: 0\n",
      "  >> video_0_clips_0['clip_end_frame']: 14400\n"
     ]
    }
   ],
   "source": [
    "print(\">> Video frames:\")\n",
    "print(f\"  >> video_0_clips_0['video_start_frame']: {video_0_clips_0[\"video_start_frame\"]}\")\n",
    "print(f\"  >> video_0_clips_0['video_end_frame']: {video_0_clips_0[\"video_end_frame\"]}\\n\")\n",
    "\n",
    "print(\">> Clip frames:\")\n",
    "print(f\"  >> video_0_clips_0['clip_start_frame']: {video_0_clips_0[\"clip_start_frame\"]}\")\n",
    "print(f\"  >> video_0_clips_0['clip_end_frame']: {video_0_clips_0[\"clip_end_frame\"]}\")"
   ]
  },
  {
   "cell_type": "markdown",
   "id": "8aeca043",
   "metadata": {},
   "source": [
    "Clips annotations exploration\n",
    "\n",
    "**Question:**\n",
    "- How many annotations per clip?"
   ]
  },
  {
   "cell_type": "code",
   "execution_count": 20,
   "id": "389b286d",
   "metadata": {},
   "outputs": [
    {
     "name": "stdout",
     "output_type": "stream",
     "text": [
      "type(video_0_clips_0_annotations) <class 'list'>\n",
      "len(video_0_clips_0_annotations) 2\n"
     ]
    }
   ],
   "source": [
    "video_0_clips_0_annotations = video_0_clips_0[\"annotations\"]\n",
    "print(\"type(video_0_clips_0_annotations)\", type(video_0_clips_0_annotations))\n",
    "print(\"len(video_0_clips_0_annotations)\", len(video_0_clips_0_annotations))"
   ]
  },
  {
   "cell_type": "code",
   "execution_count": 21,
   "id": "3a1845fe",
   "metadata": {},
   "outputs": [
    {
     "name": "stdout",
     "output_type": "stream",
     "text": [
      "type(video_0_clips_0_annotations_0) <class 'dict'>\n",
      "video_0_clips_0_annotations_0.keys() dict_keys(['language_queries', 'annotation_uid'])\n"
     ]
    }
   ],
   "source": [
    "video_0_clips_0_annotations_0 = video_0_clips_0_annotations[0]\n",
    "print(\"type(video_0_clips_0_annotations_0)\", type(video_0_clips_0_annotations_0))\n",
    "print(\"video_0_clips_0_annotations_0.keys()\", video_0_clips_0_annotations_0.keys())"
   ]
  },
  {
   "cell_type": "code",
   "execution_count": 22,
   "id": "4298d37c",
   "metadata": {},
   "outputs": [
    {
     "name": "stdout",
     "output_type": "stream",
     "text": [
      "type(video_0_clips_0_annotations_0_language_queries) <class 'list'>\n",
      "len(video_0_clips_0_annotations_0_language_queries) 8\n"
     ]
    }
   ],
   "source": [
    "video_0_clips_0_annotations_0_language_queries = video_0_clips_0_annotations_0[\"language_queries\"]\n",
    "print(\"type(video_0_clips_0_annotations_0_language_queries)\", type(video_0_clips_0_annotations_0_language_queries))\n",
    "print(\"len(video_0_clips_0_annotations_0_language_queries)\", len(video_0_clips_0_annotations_0_language_queries))"
   ]
  },
  {
   "cell_type": "code",
   "execution_count": 23,
   "id": "31afe06f",
   "metadata": {},
   "outputs": [
    {
     "data": {
      "text/plain": [
       "{'clip_start_sec': 0.0,\n",
       " 'clip_end_sec': 43.6657,\n",
       " 'video_start_sec': 0.0210286,\n",
       " 'video_end_sec': 43.6867286,\n",
       " 'video_start_frame': 1,\n",
       " 'video_end_frame': 1311,\n",
       " 'template': 'Objects: How many X’s? (quantity question)',\n",
       " 'query': 'How many frying pans can i see on the shelf?',\n",
       " 'slot_x': 'frying pans',\n",
       " 'verb_x': '[verb_not_applicable]',\n",
       " 'slot_y': 'i See on the shelf',\n",
       " 'verb_y': 'see',\n",
       " 'raw_tags': ['Objects: How many X’s? (quantity question)',\n",
       "  'How many frying pans can i see on the shelf?',\n",
       "  'frying pans',\n",
       "  '[verb_not_applicable]',\n",
       "  'i See on the shelf',\n",
       "  'see']}"
      ]
     },
     "execution_count": 23,
     "metadata": {},
     "output_type": "execute_result"
    }
   ],
   "source": [
    "video_0_clips_0_annotations_0_language_queries_0 = video_0_clips_0_annotations_0_language_queries[0]\n",
    "video_0_clips_0_annotations_0_language_queries_0"
   ]
  },
  {
   "cell_type": "markdown",
   "id": "36e7f5b0",
   "metadata": {},
   "source": [
    "#### Validation"
   ]
  },
  {
   "cell_type": "code",
   "execution_count": 27,
   "id": "3976b0d9",
   "metadata": {},
   "outputs": [
    {
     "name": "stdout",
     "output_type": "stream",
     "text": [
      "nlq_annotations_val.keys() dict_keys(['version', 'date', 'description', 'manifest', 'videos'])\n"
     ]
    }
   ],
   "source": [
    "nlq_annotations_val = nlq_annotations[\"val\"]\n",
    "print(\"nlq_annotations_val.keys()\", nlq_annotations_val.keys())"
   ]
  },
  {
   "cell_type": "code",
   "execution_count": 28,
   "id": "d20efbdf",
   "metadata": {},
   "outputs": [
    {
     "name": "stdout",
     "output_type": "stream",
     "text": [
      "nlq_annotations_val['version'] 1\n",
      "nlq_annotations_val['date'] 220216\n",
      "nlq_annotations_val['description'] NLQ Annotations (val)\n",
      "nlq_annotations_val['manifest'] s3://ego4d-consortium-sharing/public/v1/full_scale/manifest.csv\n"
     ]
    }
   ],
   "source": [
    "print(\"nlq_annotations_val['version']\", nlq_annotations_val[\"version\"])\n",
    "print(\"nlq_annotations_val['date']\", nlq_annotations_val[\"date\"])\n",
    "print(\"nlq_annotations_val['description']\", nlq_annotations_val[\"description\"])\n",
    "print(\"nlq_annotations_val['manifest']\", nlq_annotations_val[\"manifest\"])"
   ]
  },
  {
   "cell_type": "code",
   "execution_count": 29,
   "id": "4f4ad753",
   "metadata": {},
   "outputs": [
    {
     "name": "stdout",
     "output_type": "stream",
     "text": [
      "type(nlq_annotations_train_videos): <class 'list'>\n",
      "len(nlq_annotations_train_videos): 247\n"
     ]
    }
   ],
   "source": [
    "# explore videos data\n",
    "nlq_annotations_val_videos = nlq_annotations_val[\"videos\"]\n",
    "\n",
    "print(f\"type(nlq_annotations_train_videos): {type(nlq_annotations_val_videos)}\")\n",
    "print(f\"len(nlq_annotations_train_videos): {len(nlq_annotations_val_videos)}\")"
   ]
  },
  {
   "cell_type": "code",
   "execution_count": 30,
   "id": "2b7b271b",
   "metadata": {},
   "outputs": [
    {
     "name": "stdout",
     "output_type": "stream",
     "text": [
      "type(video_0): <class 'dict'>\n",
      "video_0.keys(): dict_keys(['video_uid', 'clips', 'split'])\n"
     ]
    }
   ],
   "source": [
    "# video data structure\n",
    "video_0 = nlq_annotations_val_videos[0]\n",
    "print(f\"type(video_0): {type(video_0)}\")\n",
    "print(f\"video_0.keys(): {video_0.keys()}\")"
   ]
  },
  {
   "cell_type": "code",
   "execution_count": 31,
   "id": "f5f96c01",
   "metadata": {},
   "outputs": [
    {
     "name": "stdout",
     "output_type": "stream",
     "text": [
      "38737402-19bd-4689-9e74-3af391b15feb\n"
     ]
    }
   ],
   "source": [
    "# videop unique identifier\n",
    "video_0_uid = video_0[\"video_uid\"]\n",
    "print(video_0_uid)"
   ]
  },
  {
   "cell_type": "code",
   "execution_count": 32,
   "id": "ab968865",
   "metadata": {},
   "outputs": [
    {
     "name": "stdout",
     "output_type": "stream",
     "text": [
      "val\n"
     ]
    }
   ],
   "source": [
    "# video split group\n",
    "video_0_split = video_0[\"split\"]\n",
    "print(video_0_split)"
   ]
  },
  {
   "cell_type": "code",
   "execution_count": 33,
   "id": "d1d51344",
   "metadata": {},
   "outputs": [
    {
     "name": "stdout",
     "output_type": "stream",
     "text": [
      "type(video_0_clips) <class 'list'>\n",
      "len(video_0_clips) 1\n"
     ]
    }
   ],
   "source": [
    "video_0_clips = video_0[\"clips\"]\n",
    "print(\"type(video_0_clips)\", type(video_0_clips))\n",
    "print(\"len(video_0_clips)\", len(video_0_clips))"
   ]
  },
  {
   "cell_type": "code",
   "execution_count": 34,
   "id": "dbcdbd16",
   "metadata": {},
   "outputs": [
    {
     "name": "stdout",
     "output_type": "stream",
     "text": [
      "type(video_0_clips_0) <class 'dict'>\n",
      "video_0_clips_0.keys() dict_keys(['clip_uid', 'video_start_sec', 'video_end_sec', 'video_start_frame', 'video_end_frame', 'clip_start_sec', 'clip_end_sec', 'clip_start_frame', 'clip_end_frame', 'source_clip_uid', 'annotations'])\n"
     ]
    }
   ],
   "source": [
    "video_0_clips_0 = video_0_clips[0]\n",
    "print(\"type(video_0_clips_0)\", type(video_0_clips_0))\n",
    "print(\"video_0_clips_0.keys()\", video_0_clips_0.keys())"
   ]
  },
  {
   "cell_type": "code",
   "execution_count": 35,
   "id": "d2675103",
   "metadata": {},
   "outputs": [
    {
     "name": "stdout",
     "output_type": "stream",
     "text": [
      "video_0_clips_0['clip_uid'] 93231c7e-1cf4-4a20-b1f8-9cc9428915b2\n",
      "video_0_clips_0['source_clip_uid'] cb3bf9d7-7f6b-4567-9446-45c6b493d721\n"
     ]
    }
   ],
   "source": [
    "print(\"video_0_clips_0['clip_uid']\", video_0_clips_0[\"clip_uid\"])\n",
    "print(\"video_0_clips_0['source_clip_uid']\", video_0_clips_0[\"source_clip_uid\"])"
   ]
  },
  {
   "cell_type": "code",
   "execution_count": 36,
   "id": "f3481813",
   "metadata": {},
   "outputs": [
    {
     "name": "stdout",
     "output_type": "stream",
     "text": [
      ">> Video timesteps:\n",
      "  >> video_0_clips_0['video_start_sec']: 630.0\n",
      "  >> video_0_clips_0['video_end_sec']: 1110.0366739908854\n",
      "\n",
      ">> Clip timesteps:\n",
      "  >> video_0_clips_0['clip_start_sec']: 0\n",
      "  >> video_0_clips_0['clip_end_sec']: 480.03667399088545\n"
     ]
    }
   ],
   "source": [
    "print(\">> Video timesteps:\")\n",
    "print(f\"  >> video_0_clips_0['video_start_sec']: {video_0_clips_0[\"video_start_sec\"]}\")\n",
    "print(f\"  >> video_0_clips_0['video_end_sec']: {video_0_clips_0[\"video_end_sec\"]}\\n\")\n",
    "\n",
    "print(\">> Clip timesteps:\")\n",
    "print(f\"  >> video_0_clips_0['clip_start_sec']: {video_0_clips_0[\"clip_start_sec\"]}\")\n",
    "print(f\"  >> video_0_clips_0['clip_end_sec']: {video_0_clips_0[\"clip_end_sec\"]}\")"
   ]
  },
  {
   "cell_type": "code",
   "execution_count": 37,
   "id": "b3f0c1a9",
   "metadata": {},
   "outputs": [
    {
     "name": "stdout",
     "output_type": "stream",
     "text": [
      ">> Video frames:\n",
      "  >> video_0_clips_0['video_start_frame']: 35999\n",
      "  >> video_0_clips_0['video_end_frame']: 35999\n",
      "\n",
      ">> Clip frames:\n",
      "  >> video_0_clips_0['clip_start_frame']: 0\n",
      "  >> video_0_clips_0['clip_end_frame']: 14401\n"
     ]
    }
   ],
   "source": [
    "print(\">> Video frames:\")\n",
    "print(f\"  >> video_0_clips_0['video_start_frame']: {video_0_clips_0[\"video_start_frame\"]}\")\n",
    "print(f\"  >> video_0_clips_0['video_end_frame']: {video_0_clips_0[\"video_end_frame\"]}\\n\")\n",
    "\n",
    "print(\">> Clip frames:\")\n",
    "print(f\"  >> video_0_clips_0['clip_start_frame']: {video_0_clips_0[\"clip_start_frame\"]}\")\n",
    "print(f\"  >> video_0_clips_0['clip_end_frame']: {video_0_clips_0[\"clip_end_frame\"]}\")"
   ]
  },
  {
   "cell_type": "code",
   "execution_count": 38,
   "id": "8bd65ed3",
   "metadata": {},
   "outputs": [
    {
     "name": "stdout",
     "output_type": "stream",
     "text": [
      "type(video_0_clips_0_annotations) <class 'list'>\n",
      "len(video_0_clips_0_annotations) 2\n"
     ]
    }
   ],
   "source": [
    "video_0_clips_0_annotations = video_0_clips_0[\"annotations\"]\n",
    "print(\"type(video_0_clips_0_annotations)\", type(video_0_clips_0_annotations))\n",
    "print(\"len(video_0_clips_0_annotations)\", len(video_0_clips_0_annotations))"
   ]
  },
  {
   "cell_type": "code",
   "execution_count": 39,
   "id": "2d5604ee",
   "metadata": {},
   "outputs": [
    {
     "name": "stdout",
     "output_type": "stream",
     "text": [
      "type(video_0_clips_0_annotations_0) <class 'dict'>\n",
      "video_0_clips_0_annotations_0.keys() dict_keys(['language_queries', 'annotation_uid'])\n"
     ]
    }
   ],
   "source": [
    "video_0_clips_0_annotations_0 = video_0_clips_0_annotations[0]\n",
    "print(\"type(video_0_clips_0_annotations_0)\", type(video_0_clips_0_annotations_0))\n",
    "print(\"video_0_clips_0_annotations_0.keys()\", video_0_clips_0_annotations_0.keys())"
   ]
  },
  {
   "cell_type": "code",
   "execution_count": 41,
   "id": "ec932e29",
   "metadata": {},
   "outputs": [
    {
     "name": "stdout",
     "output_type": "stream",
     "text": [
      "type(video_0_clips_0_annotations_0_language_queries) <class 'list'>\n",
      "len(video_0_clips_0_annotations_0_language_queries) 4\n"
     ]
    }
   ],
   "source": [
    "video_0_clips_0_annotations_0_language_queries = video_0_clips_0_annotations_0[\"language_queries\"]\n",
    "print(\"type(video_0_clips_0_annotations_0_language_queries)\", type(video_0_clips_0_annotations_0_language_queries))\n",
    "print(\"len(video_0_clips_0_annotations_0_language_queries)\", len(video_0_clips_0_annotations_0_language_queries))"
   ]
  },
  {
   "cell_type": "code",
   "execution_count": 42,
   "id": "4a3b13a2",
   "metadata": {},
   "outputs": [
    {
     "data": {
      "text/plain": [
       "{'clip_start_sec': 425.0,\n",
       " 'clip_end_sec': 431.0,\n",
       " 'video_start_sec': 1055.0,\n",
       " 'video_end_sec': 1061.0,\n",
       " 'video_start_frame': 35999,\n",
       " 'video_end_frame': 35999,\n",
       " 'template': 'Objects: What did I put in X?',\n",
       " 'query': 'what did I put in the black dustbin?',\n",
       " 'slot_x': 'back dustbin',\n",
       " 'verb_x': 'put',\n",
       " 'raw_tags': ['Objects: What did I put in X?',\n",
       "  'what did I put in the black dustbin?',\n",
       "  'back dustbin',\n",
       "  'put']}"
      ]
     },
     "execution_count": 42,
     "metadata": {},
     "output_type": "execute_result"
    }
   ],
   "source": [
    "video_0_clips_0_annotations_0_language_queries_0 = video_0_clips_0_annotations_0_language_queries[0]\n",
    "video_0_clips_0_annotations_0_language_queries_0"
   ]
  },
  {
   "cell_type": "markdown",
   "id": "5a6c2a6f",
   "metadata": {},
   "source": [
    "#### Test"
   ]
  },
  {
   "cell_type": "code",
   "execution_count": 44,
   "id": "6db0e44f",
   "metadata": {},
   "outputs": [
    {
     "name": "stdout",
     "output_type": "stream",
     "text": [
      "nlq_annotations_test.keys() dict_keys(['version', 'date', 'description', 'manifest', 'videos'])\n"
     ]
    }
   ],
   "source": [
    "nlq_annotations_test = nlq_annotations[\"test\"]\n",
    "print(\"nlq_annotations_test.keys()\", nlq_annotations_test.keys())"
   ]
  },
  {
   "cell_type": "code",
   "execution_count": 45,
   "id": "5ab0502e",
   "metadata": {},
   "outputs": [
    {
     "name": "stdout",
     "output_type": "stream",
     "text": [
      "nlq_annotations_test['version'] 1\n",
      "nlq_annotations_test['date'] 220216\n",
      "nlq_annotations_test['description'] NLQ Annotations (test unannotated)\n",
      "nlq_annotations_test['manifest'] s3://ego4d-consortium-sharing/public/v1/full_scale/manifest.csv\n"
     ]
    }
   ],
   "source": [
    "print(\"nlq_annotations_test['version']\", nlq_annotations_test[\"version\"])\n",
    "print(\"nlq_annotations_test['date']\", nlq_annotations_test[\"date\"])\n",
    "print(\"nlq_annotations_test['description']\", nlq_annotations_test[\"description\"])\n",
    "print(\"nlq_annotations_test['manifest']\", nlq_annotations_test[\"manifest\"])"
   ]
  },
  {
   "cell_type": "code",
   "execution_count": 46,
   "id": "f4eac538",
   "metadata": {},
   "outputs": [
    {
     "name": "stdout",
     "output_type": "stream",
     "text": [
      "type(nlq_annotations_test_videos): <class 'list'>\n",
      "len(nlq_annotations_test_videos): 258\n"
     ]
    }
   ],
   "source": [
    "# explore videos data\n",
    "nlq_annotations_test_videos = nlq_annotations_test[\"videos\"]\n",
    "\n",
    "print(f\"type(nlq_annotations_test_videos): {type(nlq_annotations_test_videos)}\")\n",
    "print(f\"len(nlq_annotations_test_videos): {len(nlq_annotations_test_videos)}\")"
   ]
  },
  {
   "cell_type": "code",
   "execution_count": 47,
   "id": "3aad9354",
   "metadata": {},
   "outputs": [
    {
     "name": "stdout",
     "output_type": "stream",
     "text": [
      "type(video_0): <class 'dict'>\n",
      "video_0.keys(): dict_keys(['video_uid', 'clips', 'split'])\n"
     ]
    }
   ],
   "source": [
    "# video data structure\n",
    "video_0 = nlq_annotations_test_videos[0]\n",
    "print(f\"type(video_0): {type(video_0)}\")\n",
    "print(f\"video_0.keys(): {video_0.keys()}\")"
   ]
  },
  {
   "cell_type": "code",
   "execution_count": 48,
   "id": "1ac868ba",
   "metadata": {},
   "outputs": [
    {
     "name": "stdout",
     "output_type": "stream",
     "text": [
      "c9c44dea-c37b-461d-aa14-20e934126df5\n"
     ]
    }
   ],
   "source": [
    "# videop unique identifier\n",
    "video_0_uid = video_0[\"video_uid\"]\n",
    "print(video_0_uid)"
   ]
  },
  {
   "cell_type": "code",
   "execution_count": 49,
   "id": "506372a1",
   "metadata": {},
   "outputs": [
    {
     "name": "stdout",
     "output_type": "stream",
     "text": [
      "test\n"
     ]
    }
   ],
   "source": [
    "# video split group\n",
    "video_0_split = video_0[\"split\"]\n",
    "print(video_0_split)"
   ]
  },
  {
   "cell_type": "code",
   "execution_count": 50,
   "id": "da1ae466",
   "metadata": {},
   "outputs": [
    {
     "name": "stdout",
     "output_type": "stream",
     "text": [
      "type(video_0_clips) <class 'list'>\n",
      "len(video_0_clips) 3\n"
     ]
    }
   ],
   "source": [
    "video_0_clips = video_0[\"clips\"]\n",
    "print(\"type(video_0_clips)\", type(video_0_clips))\n",
    "print(\"len(video_0_clips)\", len(video_0_clips))"
   ]
  },
  {
   "cell_type": "code",
   "execution_count": 51,
   "id": "ff0737a5",
   "metadata": {},
   "outputs": [
    {
     "name": "stdout",
     "output_type": "stream",
     "text": [
      "type(video_0_clips_0) <class 'dict'>\n",
      "video_0_clips_0.keys() dict_keys(['clip_uid', 'video_start_sec', 'video_end_sec', 'video_start_frame', 'video_end_frame', 'clip_start_sec', 'clip_end_sec', 'clip_start_frame', 'clip_end_frame', 'source_clip_uid', 'annotations'])\n"
     ]
    }
   ],
   "source": [
    "video_0_clips_0 = video_0_clips[0]\n",
    "print(\"type(video_0_clips_0)\", type(video_0_clips_0))\n",
    "print(\"video_0_clips_0.keys()\", video_0_clips_0.keys())"
   ]
  },
  {
   "cell_type": "code",
   "execution_count": 52,
   "id": "eb1e8753",
   "metadata": {},
   "outputs": [
    {
     "name": "stdout",
     "output_type": "stream",
     "text": [
      "video_0_clips_0['clip_uid'] a603669a-57f9-4db4-8a81-0a6720946d45\n",
      "video_0_clips_0['source_clip_uid'] 4ee7dc88-3d7f-4607-a110-9419fb0eb93d\n"
     ]
    }
   ],
   "source": [
    "print(\"video_0_clips_0['clip_uid']\", video_0_clips_0[\"clip_uid\"])\n",
    "print(\"video_0_clips_0['source_clip_uid']\", video_0_clips_0[\"source_clip_uid\"])"
   ]
  },
  {
   "cell_type": "code",
   "execution_count": 53,
   "id": "73d2ecdb",
   "metadata": {},
   "outputs": [
    {
     "name": "stdout",
     "output_type": "stream",
     "text": [
      ">> Video timesteps:\n",
      "  >> video_0_clips_0['video_start_sec']: 1489.0943619333332\n",
      "  >> video_0_clips_0['video_end_sec']: 1969.1310359242186\n",
      "\n",
      ">> Clip timesteps:\n",
      "  >> video_0_clips_0['clip_start_sec']: 0\n",
      "  >> video_0_clips_0['clip_end_sec']: 480.03667399088545\n"
     ]
    }
   ],
   "source": [
    "print(\">> Video timesteps:\")\n",
    "print(f\"  >> video_0_clips_0['video_start_sec']: {video_0_clips_0[\"video_start_sec\"]}\")\n",
    "print(f\"  >> video_0_clips_0['video_end_sec']: {video_0_clips_0[\"video_end_sec\"]}\\n\")\n",
    "\n",
    "print(\">> Clip timesteps:\")\n",
    "print(f\"  >> video_0_clips_0['clip_start_sec']: {video_0_clips_0[\"clip_start_sec\"]}\")\n",
    "print(f\"  >> video_0_clips_0['clip_end_sec']: {video_0_clips_0[\"clip_end_sec\"]}\")"
   ]
  },
  {
   "cell_type": "code",
   "execution_count": 54,
   "id": "33d8d1df",
   "metadata": {},
   "outputs": [
    {
     "name": "stdout",
     "output_type": "stream",
     "text": [
      ">> Video frames:\n",
      "  >> video_0_clips_0['video_start_frame']: 66429\n",
      "  >> video_0_clips_0['video_end_frame']: 66429\n",
      "\n",
      ">> Clip frames:\n",
      "  >> video_0_clips_0['clip_start_frame']: 0\n",
      "  >> video_0_clips_0['clip_end_frame']: 14401\n"
     ]
    }
   ],
   "source": [
    "print(\">> Video frames:\")\n",
    "print(f\"  >> video_0_clips_0['video_start_frame']: {video_0_clips_0[\"video_start_frame\"]}\")\n",
    "print(f\"  >> video_0_clips_0['video_end_frame']: {video_0_clips_0[\"video_end_frame\"]}\\n\")\n",
    "\n",
    "print(\">> Clip frames:\")\n",
    "print(f\"  >> video_0_clips_0['clip_start_frame']: {video_0_clips_0[\"clip_start_frame\"]}\")\n",
    "print(f\"  >> video_0_clips_0['clip_end_frame']: {video_0_clips_0[\"clip_end_frame\"]}\")"
   ]
  },
  {
   "cell_type": "code",
   "execution_count": 55,
   "id": "7dd74ee6",
   "metadata": {},
   "outputs": [
    {
     "name": "stdout",
     "output_type": "stream",
     "text": [
      "type(video_0_clips_0_annotations) <class 'list'>\n",
      "len(video_0_clips_0_annotations) 2\n"
     ]
    }
   ],
   "source": [
    "video_0_clips_0_annotations = video_0_clips_0[\"annotations\"]\n",
    "print(\"type(video_0_clips_0_annotations)\", type(video_0_clips_0_annotations))\n",
    "print(\"len(video_0_clips_0_annotations)\", len(video_0_clips_0_annotations))"
   ]
  },
  {
   "cell_type": "code",
   "execution_count": 56,
   "id": "e8c0d1d3",
   "metadata": {},
   "outputs": [
    {
     "name": "stdout",
     "output_type": "stream",
     "text": [
      "type(video_0_clips_0_annotations_0) <class 'dict'>\n",
      "video_0_clips_0_annotations_0.keys() dict_keys(['language_queries', 'annotation_uid'])\n"
     ]
    }
   ],
   "source": [
    "video_0_clips_0_annotations_0 = video_0_clips_0_annotations[0]\n",
    "print(\"type(video_0_clips_0_annotations_0)\", type(video_0_clips_0_annotations_0))\n",
    "print(\"video_0_clips_0_annotations_0.keys()\", video_0_clips_0_annotations_0.keys())"
   ]
  },
  {
   "cell_type": "code",
   "execution_count": 57,
   "id": "d95e8d41",
   "metadata": {},
   "outputs": [
    {
     "name": "stdout",
     "output_type": "stream",
     "text": [
      "type(video_0_clips_0_annotations_0_language_queries) <class 'list'>\n",
      "len(video_0_clips_0_annotations_0_language_queries) 5\n"
     ]
    }
   ],
   "source": [
    "video_0_clips_0_annotations_0_language_queries = video_0_clips_0_annotations_0[\"language_queries\"]\n",
    "print(\"type(video_0_clips_0_annotations_0_language_queries)\", type(video_0_clips_0_annotations_0_language_queries))\n",
    "print(\"len(video_0_clips_0_annotations_0_language_queries)\", len(video_0_clips_0_annotations_0_language_queries))"
   ]
  },
  {
   "cell_type": "code",
   "execution_count": 58,
   "id": "e15a67bb",
   "metadata": {},
   "outputs": [
    {
     "data": {
      "text/plain": [
       "{'query': 'What did in put in the sack?'}"
      ]
     },
     "execution_count": 58,
     "metadata": {},
     "output_type": "execute_result"
    }
   ],
   "source": [
    "video_0_clips_0_annotations_0_language_queries_0 = video_0_clips_0_annotations_0_language_queries[0]\n",
    "video_0_clips_0_annotations_0_language_queries_0"
   ]
  },
  {
   "cell_type": "markdown",
   "id": "0bd6879f",
   "metadata": {},
   "source": [
    "### Exploratory Data Analysis"
   ]
  },
  {
   "cell_type": "code",
   "execution_count": null,
   "id": "c43543d3",
   "metadata": {},
   "outputs": [],
   "source": [
    "# Explore number of videos per split\n",
    "n_videos_train = nlq_annotations[\"train\"]\n",
    "n_videos_val = nlq_annotations[\"val\"]\n",
    "n_videos_test = nlq_annotations[\"test\"]"
   ]
  },
  {
   "cell_type": "markdown",
   "id": "a6e0cf8b",
   "metadata": {},
   "source": [
    "## Omnivore"
   ]
  },
  {
   "cell_type": "code",
   "execution_count": 25,
   "id": "4214b569",
   "metadata": {},
   "outputs": [],
   "source": [
    "OMNIVORE_DATA_PATH = os.path.join(EGO4D_DATA_PATH, \"omnivore_video_swinl_fp16\")"
   ]
  },
  {
   "cell_type": "markdown",
   "id": "6a1cd7cf",
   "metadata": {},
   "source": [
    "# EgoVLP Data"
   ]
  },
  {
   "cell_type": "code",
   "execution_count": 26,
   "id": "a3bd4fbb",
   "metadata": {},
   "outputs": [],
   "source": [
    "EGOVLP_DATA = os.path.join(\"egovlp_data\")"
   ]
  }
 ],
 "metadata": {
  "kernelspec": {
   "display_name": ".venv",
   "language": "python",
   "name": "python3"
  },
  "language_info": {
   "codemirror_mode": {
    "name": "ipython",
    "version": 3
   },
   "file_extension": ".py",
   "mimetype": "text/x-python",
   "name": "python",
   "nbconvert_exporter": "python",
   "pygments_lexer": "ipython3",
   "version": "3.13.2"
  }
 },
 "nbformat": 4,
 "nbformat_minor": 5
}
