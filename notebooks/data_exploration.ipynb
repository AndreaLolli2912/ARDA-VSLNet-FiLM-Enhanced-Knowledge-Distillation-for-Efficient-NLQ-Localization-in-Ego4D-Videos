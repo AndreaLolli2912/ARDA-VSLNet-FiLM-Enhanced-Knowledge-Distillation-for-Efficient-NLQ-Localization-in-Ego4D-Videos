{
 "cells": [
  {
   "cell_type": "code",
   "execution_count": 1,
   "id": "9e727401",
   "metadata": {},
   "outputs": [],
   "source": [
    "import os\n",
    "import json\n",
    "\n",
    "import numpy as np\n",
    "import matplotlib.pyplot as plt"
   ]
  },
  {
   "cell_type": "markdown",
   "id": "f5b374e1",
   "metadata": {},
   "source": [
    "# Ego4D Data"
   ]
  },
  {
   "cell_type": "code",
   "execution_count": 2,
   "id": "eb03cce1",
   "metadata": {},
   "outputs": [],
   "source": [
    "EGO4D_DATA_PATH = os.path.join(\"..\", \"ego4d_data\", \"v2\")"
   ]
  },
  {
   "cell_type": "markdown",
   "id": "7eca77f4",
   "metadata": {},
   "source": [
    "## NLQ Annotations"
   ]
  },
  {
   "cell_type": "code",
   "execution_count": 3,
   "id": "d47379a2",
   "metadata": {},
   "outputs": [
    {
     "name": "stdout",
     "output_type": "stream",
     "text": [
      "File name: nlq_test_unannotated.json\n",
      "File name: nlq_train.json\n",
      "File name: nlq_val.json\n",
      "Annotations split: dict_keys(['test', 'train', 'val'])\n"
     ]
    }
   ],
   "source": [
    "nlq_annotations = dict()\n",
    "\n",
    "NLQ_ANNOTATIONS_PATH = os.path.join(EGO4D_DATA_PATH, \"annotations\")\n",
    "\n",
    "for file_name in os.listdir(NLQ_ANNOTATIONS_PATH):\n",
    "    if file_name.startswith(\"nlq\"):\n",
    "        print(\"File name:\", file_name)\n",
    "        split = \"train\" if \"train\" in file_name else \"test\" if \"test\" in file_name else \"val\"\n",
    "        \n",
    "        file_path = os.path.join(NLQ_ANNOTATIONS_PATH, file_name)\n",
    "        \n",
    "        with open(file_path, \"r\") as f:\n",
    "            raw_data = json.load(f)\n",
    "        \n",
    "        nlq_annotations[split] = raw_data\n",
    "\n",
    "print(\"Annotations split:\", nlq_annotations.keys())"
   ]
  },
  {
   "cell_type": "markdown",
   "id": "f6e5f131",
   "metadata": {},
   "source": [
    "### Data Structure Exploration"
   ]
  },
  {
   "cell_type": "markdown",
   "id": "f1759154",
   "metadata": {},
   "source": [
    "#### Train\n"
   ]
  },
  {
   "cell_type": "markdown",
   "id": "0f29187d",
   "metadata": {},
   "source": [
    "Train annotations are characterized by:\n",
    "- version: which in this case is v2 as we have chosen \n",
    "- date: date of the data last revision (I guess)\n",
    "- description: refers to the data benchmark (NLQ) and split (train)\n",
    "- manifest: path to the split manifest"
   ]
  },
  {
   "cell_type": "code",
   "execution_count": 4,
   "id": "bf626d0c",
   "metadata": {},
   "outputs": [
    {
     "name": "stdout",
     "output_type": "stream",
     "text": [
      "nlq_annotations_train.keys() dict_keys(['version', 'date', 'description', 'metadata', 'videos'])\n"
     ]
    }
   ],
   "source": [
    "nlq_annotations_train = nlq_annotations[\"train\"]\n",
    "print(\"nlq_annotations_train.keys()\", nlq_annotations_train.keys())"
   ]
  },
  {
   "cell_type": "code",
   "execution_count": 5,
   "id": "c755e5da",
   "metadata": {},
   "outputs": [
    {
     "name": "stdout",
     "output_type": "stream",
     "text": [
      "nlq_annotations_train['version'] 2.0\n",
      "nlq_annotations_train['date'] 230106\n",
      "nlq_annotations_train['description'] NLQ Annotations (train)\n",
      "nlq_annotations_train['metadata'] s3://ego4d-consortium-sharing/public/v2/ego4d.json\n"
     ]
    }
   ],
   "source": [
    "print(\"nlq_annotations_train['version']\", nlq_annotations_train[\"version\"])\n",
    "print(\"nlq_annotations_train['date']\", nlq_annotations_train[\"date\"])\n",
    "print(\"nlq_annotations_train['description']\", nlq_annotations_train[\"description\"])\n",
    "print(\"nlq_annotations_train['metadata']\", nlq_annotations_train[\"metadata\"])"
   ]
  },
  {
   "cell_type": "markdown",
   "id": "13b777bd",
   "metadata": {},
   "source": [
    "Each item of the videos list contains informations about a specific video\n",
    "- video uid: unique identifier of the videos\n",
    "- clips: \n",
    "- split: train as we are working with the train annotations"
   ]
  },
  {
   "cell_type": "code",
   "execution_count": 6,
   "id": "e5c316f7",
   "metadata": {},
   "outputs": [
    {
     "name": "stdout",
     "output_type": "stream",
     "text": [
      "type(nlq_annotations_train_videos): <class 'list'>\n",
      "len(nlq_annotations_train_videos): 933\n"
     ]
    }
   ],
   "source": [
    "# explore videos data\n",
    "nlq_annotations_train_videos = nlq_annotations_train[\"videos\"]\n",
    "\n",
    "print(f\"type(nlq_annotations_train_videos): {type(nlq_annotations_train_videos)}\")\n",
    "print(f\"len(nlq_annotations_train_videos): {len(nlq_annotations_train_videos)}\")"
   ]
  },
  {
   "cell_type": "code",
   "execution_count": 7,
   "id": "95ff788d",
   "metadata": {},
   "outputs": [
    {
     "name": "stdout",
     "output_type": "stream",
     "text": [
      "type(video_0): <class 'dict'>\n",
      "video_0.keys(): dict_keys(['video_uid', 'clips', 'split'])\n"
     ]
    }
   ],
   "source": [
    "# video data structure\n",
    "video_0 = nlq_annotations_train_videos[0]\n",
    "print(f\"type(video_0): {type(video_0)}\")\n",
    "print(f\"video_0.keys(): {video_0.keys()}\")"
   ]
  },
  {
   "cell_type": "code",
   "execution_count": 8,
   "id": "cb9d3036",
   "metadata": {},
   "outputs": [
    {
     "name": "stdout",
     "output_type": "stream",
     "text": [
      "216e3f0e-ccb9-4d54-ba56-d275fedbf52f\n"
     ]
    }
   ],
   "source": [
    "# videop unique identifier\n",
    "video_0_uid = video_0[\"video_uid\"]\n",
    "print(video_0_uid)"
   ]
  },
  {
   "cell_type": "code",
   "execution_count": 9,
   "id": "94ce1e37",
   "metadata": {},
   "outputs": [
    {
     "name": "stdout",
     "output_type": "stream",
     "text": [
      "train\n"
     ]
    }
   ],
   "source": [
    "# video split group\n",
    "video_0_split = video_0[\"split\"]\n",
    "print(video_0_split)"
   ]
  },
  {
   "cell_type": "markdown",
   "id": "79dfd99c",
   "metadata": {},
   "source": [
    "Question:\n",
    "- By how many clips is every video characterized by?"
   ]
  },
  {
   "cell_type": "code",
   "execution_count": 10,
   "id": "578f2b45",
   "metadata": {},
   "outputs": [
    {
     "name": "stdout",
     "output_type": "stream",
     "text": [
      "type(video_0_clips) <class 'list'>\n",
      "len(video_0_clips) 1\n"
     ]
    }
   ],
   "source": [
    "video_0_clips = video_0[\"clips\"]\n",
    "print(\"type(video_0_clips)\", type(video_0_clips))\n",
    "print(\"len(video_0_clips)\", len(video_0_clips))"
   ]
  },
  {
   "cell_type": "code",
   "execution_count": 11,
   "id": "6f46857a",
   "metadata": {},
   "outputs": [
    {
     "name": "stdout",
     "output_type": "stream",
     "text": [
      "type(video_0_clips_0) <class 'dict'>\n",
      "video_0_clips_0.keys() dict_keys(['clip_uid', 'video_start_sec', 'video_end_sec', 'video_start_frame', 'video_end_frame', 'clip_start_sec', 'clip_end_sec', 'clip_start_frame', 'clip_end_frame', 'source_clip_uid', 'annotations'])\n"
     ]
    }
   ],
   "source": [
    "video_0_clips_0 = video_0_clips[0]\n",
    "print(\"type(video_0_clips_0)\", type(video_0_clips_0))\n",
    "print(\"video_0_clips_0.keys()\", video_0_clips_0.keys())"
   ]
  },
  {
   "cell_type": "code",
   "execution_count": 12,
   "id": "aa9dff88",
   "metadata": {},
   "outputs": [
    {
     "name": "stdout",
     "output_type": "stream",
     "text": [
      "video_0_clips_0['clip_uid'] f06d1935-550f-4caa-909c-b2db4c28f599\n",
      "video_0_clips_0['source_clip_uid'] 2cdc7965-9007-48d3-b6d1-d589179f1670\n"
     ]
    }
   ],
   "source": [
    "print(\"video_0_clips_0['clip_uid']\", video_0_clips_0[\"clip_uid\"])\n",
    "print(\"video_0_clips_0['source_clip_uid']\", video_0_clips_0[\"source_clip_uid\"])"
   ]
  },
  {
   "cell_type": "markdown",
   "id": "ffcddaa6",
   "metadata": {},
   "source": [
    "Exploration of video/clips timesteps and frame indices.\n",
    "\n",
    "Interesting fact, there is a delay in the start of the **video**, which is not present in the clip itself.\n",
    "\n",
    "**Question:**\n",
    "- What is this the origin of this delay?"
   ]
  },
  {
   "cell_type": "code",
   "execution_count": 13,
   "id": "cb128f21",
   "metadata": {},
   "outputs": [
    {
     "name": "stdout",
     "output_type": "stream",
     "text": [
      ">> Video timesteps:\n",
      "  >> video_0_clips_0['video_start_sec']: 0.0210286\n",
      "  >> video_0_clips_0['video_end_sec']: 480.0210286\n",
      "\n",
      ">> Clip timesteps:\n",
      "  >> video_0_clips_0['clip_start_sec']: 0\n",
      "  >> video_0_clips_0['clip_end_sec']: 480.0\n"
     ]
    }
   ],
   "source": [
    "print(\">> Video timesteps:\")\n",
    "print(f\"  >> video_0_clips_0['video_start_sec']: {video_0_clips_0[\"video_start_sec\"]}\")\n",
    "print(f\"  >> video_0_clips_0['video_end_sec']: {video_0_clips_0[\"video_end_sec\"]}\\n\")\n",
    "\n",
    "print(\">> Clip timesteps:\")\n",
    "print(f\"  >> video_0_clips_0['clip_start_sec']: {video_0_clips_0[\"clip_start_sec\"]}\")\n",
    "print(f\"  >> video_0_clips_0['clip_end_sec']: {video_0_clips_0[\"clip_end_sec\"]}\")"
   ]
  },
  {
   "cell_type": "code",
   "execution_count": 14,
   "id": "9038e60b",
   "metadata": {},
   "outputs": [
    {
     "name": "stdout",
     "output_type": "stream",
     "text": [
      ">> Video frames:\n",
      "  >> video_0_clips_0['video_start_frame']: 0\n",
      "  >> video_0_clips_0['video_end_frame']: 14400\n",
      "\n",
      ">> Clip frames:\n",
      "  >> video_0_clips_0['clip_start_frame']: 0\n",
      "  >> video_0_clips_0['clip_end_frame']: 14400\n"
     ]
    }
   ],
   "source": [
    "print(\">> Video frames:\")\n",
    "print(f\"  >> video_0_clips_0['video_start_frame']: {video_0_clips_0[\"video_start_frame\"]}\")\n",
    "print(f\"  >> video_0_clips_0['video_end_frame']: {video_0_clips_0[\"video_end_frame\"]}\\n\")\n",
    "\n",
    "print(\">> Clip frames:\")\n",
    "print(f\"  >> video_0_clips_0['clip_start_frame']: {video_0_clips_0[\"clip_start_frame\"]}\")\n",
    "print(f\"  >> video_0_clips_0['clip_end_frame']: {video_0_clips_0[\"clip_end_frame\"]}\")"
   ]
  },
  {
   "cell_type": "markdown",
   "id": "8aeca043",
   "metadata": {},
   "source": [
    "Clips annotations exploration\n",
    "\n",
    "**Question:**\n",
    "- How many annotations per clip?"
   ]
  },
  {
   "cell_type": "code",
   "execution_count": 15,
   "id": "389b286d",
   "metadata": {},
   "outputs": [
    {
     "name": "stdout",
     "output_type": "stream",
     "text": [
      "type(video_0_clips_0_annotations) <class 'list'>\n",
      "len(video_0_clips_0_annotations) 2\n"
     ]
    }
   ],
   "source": [
    "video_0_clips_0_annotations = video_0_clips_0[\"annotations\"]\n",
    "print(\"type(video_0_clips_0_annotations)\", type(video_0_clips_0_annotations))\n",
    "print(\"len(video_0_clips_0_annotations)\", len(video_0_clips_0_annotations))"
   ]
  },
  {
   "cell_type": "code",
   "execution_count": 16,
   "id": "3a1845fe",
   "metadata": {},
   "outputs": [
    {
     "name": "stdout",
     "output_type": "stream",
     "text": [
      "type(video_0_clips_0_annotations_0) <class 'dict'>\n",
      "video_0_clips_0_annotations_0.keys() dict_keys(['language_queries', 'annotation_uid'])\n"
     ]
    }
   ],
   "source": [
    "video_0_clips_0_annotations_0 = video_0_clips_0_annotations[0]\n",
    "print(\"type(video_0_clips_0_annotations_0)\", type(video_0_clips_0_annotations_0))\n",
    "print(\"video_0_clips_0_annotations_0.keys()\", video_0_clips_0_annotations_0.keys())"
   ]
  },
  {
   "cell_type": "code",
   "execution_count": 17,
   "id": "4298d37c",
   "metadata": {},
   "outputs": [
    {
     "name": "stdout",
     "output_type": "stream",
     "text": [
      "type(video_0_clips_0_annotations_0_language_queries) <class 'list'>\n",
      "len(video_0_clips_0_annotations_0_language_queries) 7\n"
     ]
    }
   ],
   "source": [
    "video_0_clips_0_annotations_0_language_queries = video_0_clips_0_annotations_0[\"language_queries\"]\n",
    "print(\"type(video_0_clips_0_annotations_0_language_queries)\", type(video_0_clips_0_annotations_0_language_queries))\n",
    "print(\"len(video_0_clips_0_annotations_0_language_queries)\", len(video_0_clips_0_annotations_0_language_queries))"
   ]
  },
  {
   "cell_type": "code",
   "execution_count": 18,
   "id": "31afe06f",
   "metadata": {},
   "outputs": [
    {
     "data": {
      "text/plain": [
       "{'clip_start_sec': 17.25669,\n",
       " 'clip_end_sec': 27.256,\n",
       " 'video_start_sec': 17.2777186,\n",
       " 'video_end_sec': 27.2770286,\n",
       " 'video_start_frame': 518,\n",
       " 'video_end_frame': 818,\n",
       " 'template': 'Objects: What did I put in X?',\n",
       " 'query': 'what did I pick from the fridge?',\n",
       " 'slot_x': 'fridge',\n",
       " 'verb_x': 'pick',\n",
       " 'raw_tags': ['Objects: What did I put in X?',\n",
       "  'what did I pick from the fridge?',\n",
       "  'fridge',\n",
       "  'pick']}"
      ]
     },
     "execution_count": 18,
     "metadata": {},
     "output_type": "execute_result"
    }
   ],
   "source": [
    "video_0_clips_0_annotations_0_language_queries_0 = video_0_clips_0_annotations_0_language_queries[0]\n",
    "video_0_clips_0_annotations_0_language_queries_0"
   ]
  },
  {
   "cell_type": "markdown",
   "id": "36e7f5b0",
   "metadata": {},
   "source": [
    "#### Validation"
   ]
  },
  {
   "cell_type": "code",
   "execution_count": 19,
   "id": "3976b0d9",
   "metadata": {},
   "outputs": [
    {
     "name": "stdout",
     "output_type": "stream",
     "text": [
      "nlq_annotations_val.keys() dict_keys(['version', 'date', 'description', 'metadata', 'videos'])\n"
     ]
    }
   ],
   "source": [
    "nlq_annotations_val = nlq_annotations[\"val\"]\n",
    "print(\"nlq_annotations_val.keys()\", nlq_annotations_val.keys())"
   ]
  },
  {
   "cell_type": "code",
   "execution_count": 20,
   "id": "d20efbdf",
   "metadata": {},
   "outputs": [
    {
     "name": "stdout",
     "output_type": "stream",
     "text": [
      "nlq_annotations_val['version'] 2.0\n",
      "nlq_annotations_val['date'] 230105\n",
      "nlq_annotations_val['description'] NLQ Annotations (val)\n",
      "nlq_annotations_val['metadata'] s3://ego4d-consortium-sharing/public/v2/ego4d.json\n"
     ]
    }
   ],
   "source": [
    "print(\"nlq_annotations_val['version']\", nlq_annotations_val[\"version\"])\n",
    "print(\"nlq_annotations_val['date']\", nlq_annotations_val[\"date\"])\n",
    "print(\"nlq_annotations_val['description']\", nlq_annotations_val[\"description\"])\n",
    "print(\"nlq_annotations_val['metadata']\", nlq_annotations_val[\"metadata\"])"
   ]
  },
  {
   "cell_type": "code",
   "execution_count": 21,
   "id": "4f4ad753",
   "metadata": {},
   "outputs": [
    {
     "name": "stdout",
     "output_type": "stream",
     "text": [
      "type(nlq_annotations_train_videos): <class 'list'>\n",
      "len(nlq_annotations_train_videos): 303\n"
     ]
    }
   ],
   "source": [
    "# explore videos data\n",
    "nlq_annotations_val_videos = nlq_annotations_val[\"videos\"]\n",
    "\n",
    "print(f\"type(nlq_annotations_train_videos): {type(nlq_annotations_val_videos)}\")\n",
    "print(f\"len(nlq_annotations_train_videos): {len(nlq_annotations_val_videos)}\")"
   ]
  },
  {
   "cell_type": "code",
   "execution_count": 22,
   "id": "2b7b271b",
   "metadata": {},
   "outputs": [
    {
     "name": "stdout",
     "output_type": "stream",
     "text": [
      "type(video_0): <class 'dict'>\n",
      "video_0.keys(): dict_keys(['video_uid', 'clips', 'split'])\n"
     ]
    }
   ],
   "source": [
    "# video data structure\n",
    "video_0 = nlq_annotations_val_videos[0]\n",
    "print(f\"type(video_0): {type(video_0)}\")\n",
    "print(f\"video_0.keys(): {video_0.keys()}\")"
   ]
  },
  {
   "cell_type": "code",
   "execution_count": 23,
   "id": "f5f96c01",
   "metadata": {},
   "outputs": [
    {
     "name": "stdout",
     "output_type": "stream",
     "text": [
      "72295d26-19f7-4c6a-874e-85ba8654861e\n"
     ]
    }
   ],
   "source": [
    "# videop unique identifier\n",
    "video_0_uid = video_0[\"video_uid\"]\n",
    "print(video_0_uid)"
   ]
  },
  {
   "cell_type": "code",
   "execution_count": 24,
   "id": "ab968865",
   "metadata": {},
   "outputs": [
    {
     "name": "stdout",
     "output_type": "stream",
     "text": [
      "val\n"
     ]
    }
   ],
   "source": [
    "# video split group\n",
    "video_0_split = video_0[\"split\"]\n",
    "print(video_0_split)"
   ]
  },
  {
   "cell_type": "code",
   "execution_count": 25,
   "id": "d1d51344",
   "metadata": {},
   "outputs": [
    {
     "name": "stdout",
     "output_type": "stream",
     "text": [
      "type(video_0_clips) <class 'list'>\n",
      "len(video_0_clips) 1\n"
     ]
    }
   ],
   "source": [
    "video_0_clips = video_0[\"clips\"]\n",
    "print(\"type(video_0_clips)\", type(video_0_clips))\n",
    "print(\"len(video_0_clips)\", len(video_0_clips))"
   ]
  },
  {
   "cell_type": "code",
   "execution_count": 26,
   "id": "dbcdbd16",
   "metadata": {},
   "outputs": [
    {
     "name": "stdout",
     "output_type": "stream",
     "text": [
      "type(video_0_clips_0) <class 'dict'>\n",
      "video_0_clips_0.keys() dict_keys(['clip_uid', 'video_start_sec', 'video_end_sec', 'video_start_frame', 'video_end_frame', 'clip_start_sec', 'clip_end_sec', 'clip_start_frame', 'clip_end_frame', 'source_clip_uid', 'annotations'])\n"
     ]
    }
   ],
   "source": [
    "video_0_clips_0 = video_0_clips[0]\n",
    "print(\"type(video_0_clips_0)\", type(video_0_clips_0))\n",
    "print(\"video_0_clips_0.keys()\", video_0_clips_0.keys())"
   ]
  },
  {
   "cell_type": "code",
   "execution_count": 27,
   "id": "d2675103",
   "metadata": {},
   "outputs": [
    {
     "name": "stdout",
     "output_type": "stream",
     "text": [
      "video_0_clips_0['clip_uid'] cc2d7790-67f7-4e52-9fa9-33121c9431a2\n",
      "video_0_clips_0['source_clip_uid'] 806bae1d-3cf4-45b4-b7c1-4230a2929398\n"
     ]
    }
   ],
   "source": [
    "print(\"video_0_clips_0['clip_uid']\", video_0_clips_0[\"clip_uid\"])\n",
    "print(\"video_0_clips_0['source_clip_uid']\", video_0_clips_0[\"source_clip_uid\"])"
   ]
  },
  {
   "cell_type": "code",
   "execution_count": 28,
   "id": "f3481813",
   "metadata": {},
   "outputs": [
    {
     "name": "stdout",
     "output_type": "stream",
     "text": [
      ">> Video timesteps:\n",
      "  >> video_0_clips_0['video_start_sec']: -3.999999999976245e-07\n",
      "  >> video_0_clips_0['video_end_sec']: 480.0366735908854\n",
      "\n",
      ">> Clip timesteps:\n",
      "  >> video_0_clips_0['clip_start_sec']: 0\n",
      "  >> video_0_clips_0['clip_end_sec']: 480.0156449908854\n"
     ]
    }
   ],
   "source": [
    "print(\">> Video timesteps:\")\n",
    "print(f\"  >> video_0_clips_0['video_start_sec']: {video_0_clips_0[\"video_start_sec\"]}\")\n",
    "print(f\"  >> video_0_clips_0['video_end_sec']: {video_0_clips_0[\"video_end_sec\"]}\\n\")\n",
    "\n",
    "print(\">> Clip timesteps:\")\n",
    "print(f\"  >> video_0_clips_0['clip_start_sec']: {video_0_clips_0[\"clip_start_sec\"]}\")\n",
    "print(f\"  >> video_0_clips_0['clip_end_sec']: {video_0_clips_0[\"clip_end_sec\"]}\")"
   ]
  },
  {
   "cell_type": "code",
   "execution_count": 29,
   "id": "b3f0c1a9",
   "metadata": {},
   "outputs": [
    {
     "name": "stdout",
     "output_type": "stream",
     "text": [
      ">> Video frames:\n",
      "  >> video_0_clips_0['video_start_frame']: 0\n",
      "  >> video_0_clips_0['video_end_frame']: 14400\n",
      "\n",
      ">> Clip frames:\n",
      "  >> video_0_clips_0['clip_start_frame']: 0\n",
      "  >> video_0_clips_0['clip_end_frame']: 14400\n"
     ]
    }
   ],
   "source": [
    "print(\">> Video frames:\")\n",
    "print(f\"  >> video_0_clips_0['video_start_frame']: {video_0_clips_0[\"video_start_frame\"]}\")\n",
    "print(f\"  >> video_0_clips_0['video_end_frame']: {video_0_clips_0[\"video_end_frame\"]}\\n\")\n",
    "\n",
    "print(\">> Clip frames:\")\n",
    "print(f\"  >> video_0_clips_0['clip_start_frame']: {video_0_clips_0[\"clip_start_frame\"]}\")\n",
    "print(f\"  >> video_0_clips_0['clip_end_frame']: {video_0_clips_0[\"clip_end_frame\"]}\")"
   ]
  },
  {
   "cell_type": "code",
   "execution_count": 30,
   "id": "8bd65ed3",
   "metadata": {},
   "outputs": [
    {
     "name": "stdout",
     "output_type": "stream",
     "text": [
      "type(video_0_clips_0_annotations) <class 'list'>\n",
      "len(video_0_clips_0_annotations) 2\n"
     ]
    }
   ],
   "source": [
    "video_0_clips_0_annotations = video_0_clips_0[\"annotations\"]\n",
    "print(\"type(video_0_clips_0_annotations)\", type(video_0_clips_0_annotations))\n",
    "print(\"len(video_0_clips_0_annotations)\", len(video_0_clips_0_annotations))"
   ]
  },
  {
   "cell_type": "code",
   "execution_count": 31,
   "id": "2d5604ee",
   "metadata": {},
   "outputs": [
    {
     "name": "stdout",
     "output_type": "stream",
     "text": [
      "type(video_0_clips_0_annotations_0) <class 'dict'>\n",
      "video_0_clips_0_annotations_0.keys() dict_keys(['language_queries', 'annotation_uid', 'request_uid'])\n"
     ]
    }
   ],
   "source": [
    "video_0_clips_0_annotations_0 = video_0_clips_0_annotations[0]\n",
    "print(\"type(video_0_clips_0_annotations_0)\", type(video_0_clips_0_annotations_0))\n",
    "print(\"video_0_clips_0_annotations_0.keys()\", video_0_clips_0_annotations_0.keys())"
   ]
  },
  {
   "cell_type": "code",
   "execution_count": 32,
   "id": "ec932e29",
   "metadata": {},
   "outputs": [
    {
     "name": "stdout",
     "output_type": "stream",
     "text": [
      "type(video_0_clips_0_annotations_0_language_queries) <class 'list'>\n",
      "len(video_0_clips_0_annotations_0_language_queries) 10\n"
     ]
    }
   ],
   "source": [
    "video_0_clips_0_annotations_0_language_queries = video_0_clips_0_annotations_0[\"language_queries\"]\n",
    "print(\"type(video_0_clips_0_annotations_0_language_queries)\", type(video_0_clips_0_annotations_0_language_queries))\n",
    "print(\"len(video_0_clips_0_annotations_0_language_queries)\", len(video_0_clips_0_annotations_0_language_queries))"
   ]
  },
  {
   "cell_type": "code",
   "execution_count": 33,
   "id": "4a3b13a2",
   "metadata": {},
   "outputs": [
    {
     "data": {
      "text/plain": [
       "{'clip_start_sec': 28.60389,\n",
       " 'clip_end_sec': 29.013,\n",
       " 'video_start_sec': 28.603889600000002,\n",
       " 'video_end_sec': 29.012999600000004,\n",
       " 'video_start_frame': 857,\n",
       " 'video_end_frame': 870,\n",
       " 'template': 'Place: Where did I put X?',\n",
       " 'query': 'Where did i put the fire gun ?',\n",
       " 'slot_x': 'fire gun ',\n",
       " 'verb_x': 'put',\n",
       " 'raw_tags': ['Place: Where did I put X?',\n",
       "  'Where did i put the fire gun ?',\n",
       "  'fire gun ',\n",
       "  'put']}"
      ]
     },
     "execution_count": 33,
     "metadata": {},
     "output_type": "execute_result"
    }
   ],
   "source": [
    "video_0_clips_0_annotations_0_language_queries_0 = video_0_clips_0_annotations_0_language_queries[0]\n",
    "video_0_clips_0_annotations_0_language_queries_0"
   ]
  },
  {
   "cell_type": "markdown",
   "id": "5a6c2a6f",
   "metadata": {},
   "source": [
    "#### Test"
   ]
  },
  {
   "cell_type": "code",
   "execution_count": 34,
   "id": "6db0e44f",
   "metadata": {},
   "outputs": [
    {
     "name": "stdout",
     "output_type": "stream",
     "text": [
      "nlq_annotations_test.keys() dict_keys(['version', 'date', 'description', 'manifest', 'videos'])\n"
     ]
    }
   ],
   "source": [
    "nlq_annotations_test = nlq_annotations[\"test\"]\n",
    "print(\"nlq_annotations_test.keys()\", nlq_annotations_test.keys())"
   ]
  },
  {
   "cell_type": "code",
   "execution_count": 35,
   "id": "5ab0502e",
   "metadata": {},
   "outputs": [
    {
     "name": "stdout",
     "output_type": "stream",
     "text": [
      "nlq_annotations_test['version'] 1\n",
      "nlq_annotations_test['date'] 220216\n",
      "nlq_annotations_test['description'] NLQ Annotations (test unannotated)\n",
      "nlq_annotations_test['manifest'] s3://ego4d-consortium-sharing/public/v1/full_scale/manifest.csv\n"
     ]
    }
   ],
   "source": [
    "print(\"nlq_annotations_test['version']\", nlq_annotations_test[\"version\"])\n",
    "print(\"nlq_annotations_test['date']\", nlq_annotations_test[\"date\"])\n",
    "print(\"nlq_annotations_test['description']\", nlq_annotations_test[\"description\"])\n",
    "print(\"nlq_annotations_test['manifest']\", nlq_annotations_test[\"manifest\"])"
   ]
  },
  {
   "cell_type": "code",
   "execution_count": 36,
   "id": "f4eac538",
   "metadata": {},
   "outputs": [
    {
     "name": "stdout",
     "output_type": "stream",
     "text": [
      "type(nlq_annotations_test_videos): <class 'list'>\n",
      "len(nlq_annotations_test_videos): 258\n"
     ]
    }
   ],
   "source": [
    "# explore videos data\n",
    "nlq_annotations_test_videos = nlq_annotations_test[\"videos\"]\n",
    "\n",
    "print(f\"type(nlq_annotations_test_videos): {type(nlq_annotations_test_videos)}\")\n",
    "print(f\"len(nlq_annotations_test_videos): {len(nlq_annotations_test_videos)}\")"
   ]
  },
  {
   "cell_type": "code",
   "execution_count": 37,
   "id": "3aad9354",
   "metadata": {},
   "outputs": [
    {
     "name": "stdout",
     "output_type": "stream",
     "text": [
      "type(video_0): <class 'dict'>\n",
      "video_0.keys(): dict_keys(['video_uid', 'clips', 'split'])\n"
     ]
    }
   ],
   "source": [
    "# video data structure\n",
    "video_0 = nlq_annotations_test_videos[0]\n",
    "print(f\"type(video_0): {type(video_0)}\")\n",
    "print(f\"video_0.keys(): {video_0.keys()}\")"
   ]
  },
  {
   "cell_type": "code",
   "execution_count": 38,
   "id": "1ac868ba",
   "metadata": {},
   "outputs": [
    {
     "name": "stdout",
     "output_type": "stream",
     "text": [
      "c9c44dea-c37b-461d-aa14-20e934126df5\n"
     ]
    }
   ],
   "source": [
    "# videop unique identifier\n",
    "video_0_uid = video_0[\"video_uid\"]\n",
    "print(video_0_uid)"
   ]
  },
  {
   "cell_type": "code",
   "execution_count": 39,
   "id": "506372a1",
   "metadata": {},
   "outputs": [
    {
     "name": "stdout",
     "output_type": "stream",
     "text": [
      "test\n"
     ]
    }
   ],
   "source": [
    "# video split group\n",
    "video_0_split = video_0[\"split\"]\n",
    "print(video_0_split)"
   ]
  },
  {
   "cell_type": "code",
   "execution_count": 40,
   "id": "da1ae466",
   "metadata": {},
   "outputs": [
    {
     "name": "stdout",
     "output_type": "stream",
     "text": [
      "type(video_0_clips) <class 'list'>\n",
      "len(video_0_clips) 3\n"
     ]
    }
   ],
   "source": [
    "video_0_clips = video_0[\"clips\"]\n",
    "print(\"type(video_0_clips)\", type(video_0_clips))\n",
    "print(\"len(video_0_clips)\", len(video_0_clips))"
   ]
  },
  {
   "cell_type": "code",
   "execution_count": 41,
   "id": "ff0737a5",
   "metadata": {},
   "outputs": [
    {
     "name": "stdout",
     "output_type": "stream",
     "text": [
      "type(video_0_clips_0) <class 'dict'>\n",
      "video_0_clips_0.keys() dict_keys(['clip_uid', 'video_start_sec', 'video_end_sec', 'video_start_frame', 'video_end_frame', 'clip_start_sec', 'clip_end_sec', 'clip_start_frame', 'clip_end_frame', 'source_clip_uid', 'annotations'])\n"
     ]
    }
   ],
   "source": [
    "video_0_clips_0 = video_0_clips[0]\n",
    "print(\"type(video_0_clips_0)\", type(video_0_clips_0))\n",
    "print(\"video_0_clips_0.keys()\", video_0_clips_0.keys())"
   ]
  },
  {
   "cell_type": "code",
   "execution_count": 42,
   "id": "eb1e8753",
   "metadata": {},
   "outputs": [
    {
     "name": "stdout",
     "output_type": "stream",
     "text": [
      "video_0_clips_0['clip_uid'] a603669a-57f9-4db4-8a81-0a6720946d45\n",
      "video_0_clips_0['source_clip_uid'] 4ee7dc88-3d7f-4607-a110-9419fb0eb93d\n"
     ]
    }
   ],
   "source": [
    "print(\"video_0_clips_0['clip_uid']\", video_0_clips_0[\"clip_uid\"])\n",
    "print(\"video_0_clips_0['source_clip_uid']\", video_0_clips_0[\"source_clip_uid\"])"
   ]
  },
  {
   "cell_type": "code",
   "execution_count": 43,
   "id": "73d2ecdb",
   "metadata": {},
   "outputs": [
    {
     "name": "stdout",
     "output_type": "stream",
     "text": [
      ">> Video timesteps:\n",
      "  >> video_0_clips_0['video_start_sec']: 1489.0943619333332\n",
      "  >> video_0_clips_0['video_end_sec']: 1969.1310359242186\n",
      "\n",
      ">> Clip timesteps:\n",
      "  >> video_0_clips_0['clip_start_sec']: 0\n",
      "  >> video_0_clips_0['clip_end_sec']: 480.03667399088545\n"
     ]
    }
   ],
   "source": [
    "print(\">> Video timesteps:\")\n",
    "print(f\"  >> video_0_clips_0['video_start_sec']: {video_0_clips_0[\"video_start_sec\"]}\")\n",
    "print(f\"  >> video_0_clips_0['video_end_sec']: {video_0_clips_0[\"video_end_sec\"]}\\n\")\n",
    "\n",
    "print(\">> Clip timesteps:\")\n",
    "print(f\"  >> video_0_clips_0['clip_start_sec']: {video_0_clips_0[\"clip_start_sec\"]}\")\n",
    "print(f\"  >> video_0_clips_0['clip_end_sec']: {video_0_clips_0[\"clip_end_sec\"]}\")"
   ]
  },
  {
   "cell_type": "code",
   "execution_count": 44,
   "id": "33d8d1df",
   "metadata": {},
   "outputs": [
    {
     "name": "stdout",
     "output_type": "stream",
     "text": [
      ">> Video frames:\n",
      "  >> video_0_clips_0['video_start_frame']: 66429\n",
      "  >> video_0_clips_0['video_end_frame']: 66429\n",
      "\n",
      ">> Clip frames:\n",
      "  >> video_0_clips_0['clip_start_frame']: 0\n",
      "  >> video_0_clips_0['clip_end_frame']: 14401\n"
     ]
    }
   ],
   "source": [
    "print(\">> Video frames:\")\n",
    "print(f\"  >> video_0_clips_0['video_start_frame']: {video_0_clips_0[\"video_start_frame\"]}\")\n",
    "print(f\"  >> video_0_clips_0['video_end_frame']: {video_0_clips_0[\"video_end_frame\"]}\\n\")\n",
    "\n",
    "print(\">> Clip frames:\")\n",
    "print(f\"  >> video_0_clips_0['clip_start_frame']: {video_0_clips_0[\"clip_start_frame\"]}\")\n",
    "print(f\"  >> video_0_clips_0['clip_end_frame']: {video_0_clips_0[\"clip_end_frame\"]}\")"
   ]
  },
  {
   "cell_type": "code",
   "execution_count": 45,
   "id": "7dd74ee6",
   "metadata": {},
   "outputs": [
    {
     "name": "stdout",
     "output_type": "stream",
     "text": [
      "type(video_0_clips_0_annotations) <class 'list'>\n",
      "len(video_0_clips_0_annotations) 2\n"
     ]
    }
   ],
   "source": [
    "video_0_clips_0_annotations = video_0_clips_0[\"annotations\"]\n",
    "print(\"type(video_0_clips_0_annotations)\", type(video_0_clips_0_annotations))\n",
    "print(\"len(video_0_clips_0_annotations)\", len(video_0_clips_0_annotations))"
   ]
  },
  {
   "cell_type": "code",
   "execution_count": 46,
   "id": "e8c0d1d3",
   "metadata": {},
   "outputs": [
    {
     "name": "stdout",
     "output_type": "stream",
     "text": [
      "type(video_0_clips_0_annotations_0) <class 'dict'>\n",
      "video_0_clips_0_annotations_0.keys() dict_keys(['language_queries', 'annotation_uid'])\n"
     ]
    }
   ],
   "source": [
    "video_0_clips_0_annotations_0 = video_0_clips_0_annotations[0]\n",
    "print(\"type(video_0_clips_0_annotations_0)\", type(video_0_clips_0_annotations_0))\n",
    "print(\"video_0_clips_0_annotations_0.keys()\", video_0_clips_0_annotations_0.keys())"
   ]
  },
  {
   "cell_type": "code",
   "execution_count": 47,
   "id": "d95e8d41",
   "metadata": {},
   "outputs": [
    {
     "name": "stdout",
     "output_type": "stream",
     "text": [
      "type(video_0_clips_0_annotations_0_language_queries) <class 'list'>\n",
      "len(video_0_clips_0_annotations_0_language_queries) 5\n"
     ]
    }
   ],
   "source": [
    "video_0_clips_0_annotations_0_language_queries = video_0_clips_0_annotations_0[\"language_queries\"]\n",
    "print(\"type(video_0_clips_0_annotations_0_language_queries)\", type(video_0_clips_0_annotations_0_language_queries))\n",
    "print(\"len(video_0_clips_0_annotations_0_language_queries)\", len(video_0_clips_0_annotations_0_language_queries))"
   ]
  },
  {
   "cell_type": "code",
   "execution_count": 48,
   "id": "e15a67bb",
   "metadata": {},
   "outputs": [
    {
     "data": {
      "text/plain": [
       "{'query': 'What did in put in the sack?'}"
      ]
     },
     "execution_count": 48,
     "metadata": {},
     "output_type": "execute_result"
    }
   ],
   "source": [
    "video_0_clips_0_annotations_0_language_queries_0 = video_0_clips_0_annotations_0_language_queries[0]\n",
    "video_0_clips_0_annotations_0_language_queries_0"
   ]
  },
  {
   "cell_type": "markdown",
   "id": "0bd6879f",
   "metadata": {},
   "source": [
    "### Exploratory Data Analysis"
   ]
  },
  {
   "cell_type": "markdown",
   "id": "12d6d33b",
   "metadata": {},
   "source": [
    "#### Distribution of videos across dataset splits"
   ]
  },
  {
   "cell_type": "code",
   "execution_count": 54,
   "id": "c43543d3",
   "metadata": {},
   "outputs": [],
   "source": [
    "nlq_annotations_train = nlq_annotations[\"train\"]\n",
    "nlq_annotations_val = nlq_annotations[\"val\"]\n",
    "nlq_annotations_test = nlq_annotations[\"test\"]"
   ]
  },
  {
   "cell_type": "code",
   "execution_count": 72,
   "id": "29b98954",
   "metadata": {},
   "outputs": [
    {
     "name": "stdout",
     "output_type": "stream",
     "text": [
      "Number of Videos per Split (Total: 1494):\n",
      "  - Train:      933\n",
      "  - Validation: 303\n",
      "  - Test:       258\n"
     ]
    }
   ],
   "source": [
    "n_videos_train = len(nlq_annotations_train[\"videos\"])\n",
    "n_videos_val = len(nlq_annotations_val[\"videos\"])\n",
    "n_videos_test = len(nlq_annotations_test[\"videos\"])\n",
    "\n",
    "tot_n_videos = n_videos_train + n_videos_val + n_videos_test\n",
    "\n",
    "print(f\"Number of Videos per Split (Total: {tot_n_videos}):\")\n",
    "print(f\"  - Train:      {n_videos_train}\")\n",
    "print(f\"  - Validation: {n_videos_val}\")\n",
    "print(f\"  - Test:       {n_videos_test}\")"
   ]
  },
  {
   "cell_type": "code",
   "execution_count": 112,
   "id": "24bb32bd",
   "metadata": {},
   "outputs": [
    {
     "data": {
      "image/png": "[encoded data removed]",
      "text/plain": [
       "<Figure size 640x480 with 1 Axes>"
      ]
     },
     "metadata": {},
     "output_type": "display_data"
    }
   ],
   "source": [
    "splits = np.array([\"Train\", \"Validation\", \"Test\"])\n",
    "percentages = np.array([n_videos_train, n_videos_val, n_videos_test]) / tot_n_videos\n",
    "\n",
    "plt.bar(x=splits, height=percentages)\n",
    "\n",
    "for i, perc in enumerate(percentages):\n",
    "    plt.text(x=i, y=perc, s=f\"{perc*100:.2f}%\", ha=\"center\", va=\"bottom\")\n",
    "\n",
    "plt.ylim((0, 1))\n",
    "plt.title(\"Distribution of Videos Across Dataset Splits\")\n",
    "plt.ylabel(\"Proportion of Videos\")\n",
    "plt.grid(axis=\"y\", alpha=0.5)\n",
    "plt.tight_layout()\n",
    "plt.show()"
   ]
  },
  {
   "cell_type": "markdown",
   "id": "2e8d4062",
   "metadata": {},
   "source": [
    "#### Distribution of clips across dataset splits"
   ]
  },
  {
   "cell_type": "code",
   "execution_count": 81,
   "id": "cf344240",
   "metadata": {},
   "outputs": [],
   "source": [
    "def get_clips_count(annotation_split):\n",
    "    n_clips = 0\n",
    "    for video in annotation_split[\"videos\"]:\n",
    "        clips = len(video[\"clips\"])\n",
    "        n_clips += clips\n",
    "    return n_clips"
   ]
  },
  {
   "cell_type": "code",
   "execution_count": 82,
   "id": "3162e4ca",
   "metadata": {},
   "outputs": [
    {
     "name": "stdout",
     "output_type": "stream",
     "text": [
      "Number of Clips per Split (Total: 2019):\n",
      "  - Train:      1271\n",
      "  - Validation: 415\n",
      "  - Test:       333\n"
     ]
    }
   ],
   "source": [
    "n_clips_train = get_clips_count(nlq_annotations_train)\n",
    "n_clips_val = get_clips_count(nlq_annotations_val)\n",
    "n_clips_test = get_clips_count(nlq_annotations_test)\n",
    "tot_n_clips = n_clips_train + n_clips_val + n_clips_test\n",
    "\n",
    "print(f\"Number of Clips per Split (Total: {tot_n_clips}):\")\n",
    "print(f\"  - Train:      {n_clips_train}\")\n",
    "print(f\"  - Validation: {n_clips_val}\")\n",
    "print(f\"  - Test:       {n_clips_test}\")"
   ]
  },
  {
   "cell_type": "code",
   "execution_count": 111,
   "id": "3bebbbfe",
   "metadata": {},
   "outputs": [
    {
     "data": {
      "image/png": "[encoded data removed]",
      "text/plain": [
       "<Figure size 640x480 with 1 Axes>"
      ]
     },
     "metadata": {},
     "output_type": "display_data"
    }
   ],
   "source": [
    "percentages = np.array([n_clips_train, n_clips_val, n_clips_test]) / tot_n_clips\n",
    "\n",
    "plt.bar(x=splits, height=percentages)\n",
    "\n",
    "for i, perc in enumerate(percentages):\n",
    "    plt.text(x=i, y=perc, s=f\"{perc*100:.2f}%\", ha=\"center\", va=\"bottom\")\n",
    "\n",
    "plt.ylim((0, 1))\n",
    "plt.title(\"Distribution of Clips Across Dataset Splits\")\n",
    "plt.ylabel(\"Proportion of Clips\")\n",
    "plt.grid(axis=\"y\", alpha=0.5)\n",
    "plt.tight_layout()\n",
    "plt.show()"
   ]
  },
  {
   "cell_type": "markdown",
   "id": "6f19de5f",
   "metadata": {},
   "source": [
    "#### Distribution of clips for individual videos"
   ]
  },
  {
   "cell_type": "code",
   "execution_count": 116,
   "id": "03163079",
   "metadata": {},
   "outputs": [
    {
     "data": {
      "image/png": "[encoded data removed]",
      "text/plain": [
       "<Figure size 640x480 with 1 Axes>"
      ]
     },
     "metadata": {},
     "output_type": "display_data"
    }
   ],
   "source": [
    "n_clips_video_train = np.array([len(video[\"clips\"]) for video in nlq_annotations_train[\"videos\"]])\n",
    "n_clips_video_val = np.array([len(video[\"clips\"]) for video in nlq_annotations_val[\"videos\"]])\n",
    "n_clips_video_test = np.array([len(video[\"clips\"]) for video in nlq_annotations_test[\"videos\"]])\n",
    "\n",
    "\n",
    "all_clips = np.concatenate([n_clips_video_train, n_clips_video_val, n_clips_video_test])\n",
    "bins = np.arange(min(all_clips), max(all_clips) + 3)  \n",
    "\n",
    "train_hist, _ = np.histogram(n_clips_video_train, bins=bins)\n",
    "val_hist, _ = np.histogram(n_clips_video_val, bins=bins)\n",
    "test_hist, _ = np.histogram(n_clips_video_test, bins=bins)\n",
    "\n",
    "bar_width = 0.25\n",
    "x = bins[:-1]  \n",
    "x_indices = np.arange(len(x))  \n",
    "\n",
    "plt.bar(x_indices - bar_width, train_hist, width=bar_width, label='Train')\n",
    "plt.bar(x_indices, val_hist, width=bar_width, label='Validation')\n",
    "plt.bar(x_indices + bar_width, test_hist, width=bar_width, label='Test')\n",
    "\n",
    "plt.xticks(x_indices, x, rotation=45)\n",
    "plt.xlabel(\"Number of Clips per Video\")\n",
    "plt.ylabel(\"Frequency\")\n",
    "plt.title(\"Distribution of Clips per Video (Grouped by Split)\")\n",
    "plt.legend()\n",
    "plt.grid(axis=\"y\", alpha=0.5)\n",
    "plt.tight_layout()\n",
    "plt.show()"
   ]
  },
  {
   "cell_type": "markdown",
   "id": "437bb4c5",
   "metadata": {},
   "source": [
    "It appears that some videos have 0 clips, which is unusuale, we shall explore this further"
   ]
  },
  {
   "cell_type": "code",
   "execution_count": 127,
   "id": "e9731dbe",
   "metadata": {},
   "outputs": [
    {
     "name": "stdout",
     "output_type": "stream",
     "text": [
      "Number of videos with 0 clips per split:\n",
      "  Train:      9\n",
      "  Validation: 3\n",
      "  Test:       5\n"
     ]
    }
   ],
   "source": [
    "print(\"Number of videos with 0 clips per split:\")\n",
    "print(f\"  Train:      {np.sum(n_clips_video_train == 0)}\")\n",
    "print(f\"  Validation: {np.sum(n_clips_video_val == 0)}\")\n",
    "print(f\"  Test:       {np.sum(n_clips_video_test == 0)}\")\n"
   ]
  },
  {
   "cell_type": "markdown",
   "id": "32cf2651",
   "metadata": {},
   "source": [
    "#### Distribution of annotations for dataset splits"
   ]
  },
  {
   "cell_type": "code",
   "execution_count": 129,
   "id": "ded7297a",
   "metadata": {},
   "outputs": [],
   "source": [
    "def get_annotations_count(annotation_split):\n",
    "    n_annotations = 0\n",
    "    for video in annotation_split[\"videos\"]:\n",
    "        for clip in video[\"clips\"]:\n",
    "            annotations = len(clip)\n",
    "            n_annotations += annotations\n",
    "    return n_annotations"
   ]
  },
  {
   "cell_type": "code",
   "execution_count": 134,
   "id": "eb3854a8",
   "metadata": {},
   "outputs": [
    {
     "name": "stdout",
     "output_type": "stream",
     "text": [
      "Number of Annotations per Split (Total: 22209):\n",
      "  - Train:      13981\n",
      "  - Validation: 4565\n",
      "  - Test:       3663\n"
     ]
    }
   ],
   "source": [
    "n_annotaions_train = get_annotations_count(nlq_annotations_train)\n",
    "n_annotaions_val = get_annotations_count(nlq_annotations_val)\n",
    "n_annotaions_test = get_annotations_count(nlq_annotations_test)\n",
    "\n",
    "tot_n_annotations = n_annotaions_train + n_annotaions_val + n_annotaions_test\n",
    "\n",
    "print(f\"Number of Annotations per Split (Total: {tot_n_annotations}):\")\n",
    "print(f\"  - Train:      {n_annotaions_train}\")\n",
    "print(f\"  - Validation: {n_annotaions_val}\")\n",
    "print(f\"  - Test:       {n_annotaions_test}\")"
   ]
  },
  {
   "cell_type": "code",
   "execution_count": 135,
   "id": "c49add7e",
   "metadata": {},
   "outputs": [
    {
     "data": {
      "image/png": "[encoded data removed]",
      "text/plain": [
       "<Figure size 640x480 with 1 Axes>"
      ]
     },
     "metadata": {},
     "output_type": "display_data"
    }
   ],
   "source": [
    "percentages = np.array([n_annotaions_train, n_annotaions_val, n_annotaions_test]) / tot_n_annotations\n",
    "\n",
    "plt.bar(x=splits, height=percentages)\n",
    "\n",
    "for i, perc in enumerate(percentages):\n",
    "    plt.text(x=i, y=perc, s=f\"{perc*100:.2f}%\", ha=\"center\", va=\"bottom\")\n",
    "\n",
    "plt.ylim((0, 1))\n",
    "plt.title(\"Distribution of Annotations Across Dataset Splits\")\n",
    "plt.ylabel(\"Proportion of Annotations\")\n",
    "plt.grid(axis=\"y\", alpha=0.5)\n",
    "plt.tight_layout()\n",
    "plt.show()"
   ]
  },
  {
   "cell_type": "markdown",
   "id": "caed392d",
   "metadata": {},
   "source": [
    "#### Distribution of annotations for individual videos"
   ]
  },
  {
   "cell_type": "code",
   "execution_count": 145,
   "id": "c86054d5",
   "metadata": {},
   "outputs": [
    {
     "data": {
      "image/png": "[encoded data removed]",
      "text/plain": [
       "<Figure size 640x480 with 1 Axes>"
      ]
     },
     "metadata": {},
     "output_type": "display_data"
    }
   ],
   "source": [
    "n_annotations_video_train = np.array([sum(len(clip[\"annotations\"]) for clip in video[\"clips\"]) for video in nlq_annotations_train[\"videos\"]])\n",
    "n_annotations_video_val = np.array([sum(len(clip[\"annotations\"]) for clip in video[\"clips\"]) for video in nlq_annotations_val[\"videos\"]])\n",
    "n_annotations_video_test = np.array([sum(len(clip[\"annotations\"]) for clip in video[\"clips\"]) for video in nlq_annotations_test[\"videos\"]])\n",
    "\n",
    "\n",
    "all_annotations = np.concatenate([n_clips_video_train, n_clips_video_val, n_clips_video_test])\n",
    "bins = np.arange(min(all_annotations), max(all_annotations) + 3)  \n",
    "\n",
    "train_hist, _ = np.histogram(n_annotations_video_train, bins=bins)\n",
    "val_hist, _ = np.histogram(n_annotations_video_val, bins=bins)\n",
    "test_hist, _ = np.histogram(n_annotations_video_test, bins=bins)\n",
    "\n",
    "bar_width = 0.25\n",
    "x = bins[:-1]  \n",
    "x_indices = np.arange(len(x))  \n",
    "\n",
    "plt.bar(x_indices - bar_width, train_hist, width=bar_width, label='Train')\n",
    "plt.bar(x_indices, val_hist, width=bar_width, label='Validation')\n",
    "plt.bar(x_indices + bar_width, test_hist, width=bar_width, label='Test')\n",
    "\n",
    "plt.xticks(x_indices, x, rotation=45)\n",
    "plt.xlabel(\"Number of Annotations per Video\")\n",
    "plt.ylabel(\"Frequency\")\n",
    "plt.title(\"Distribution of Annotations per Video (Grouped by Split)\")\n",
    "plt.legend()\n",
    "plt.grid(axis=\"y\", alpha=0.5)\n",
    "plt.tight_layout()\n",
    "plt.show()"
   ]
  },
  {
   "cell_type": "markdown",
   "id": "07b70d5a",
   "metadata": {},
   "source": [
    "#### Distribution of annotations for individual clips"
   ]
  },
  {
   "cell_type": "code",
   "execution_count": 146,
   "id": "e02a8c75",
   "metadata": {},
   "outputs": [
    {
     "data": {
      "image/png": "[encoded data removed]",
      "text/plain": [
       "<Figure size 640x480 with 1 Axes>"
      ]
     },
     "metadata": {},
     "output_type": "display_data"
    }
   ],
   "source": [
    "n_annotations_clip_train = np.array([len(clip[\"annotations\"]) for video in nlq_annotations_train[\"videos\"] for clip in video[\"clips\"]])\n",
    "n_annotations_clip_val = np.array([len(clip[\"annotations\"]) for video in nlq_annotations_val[\"videos\"] for clip in video[\"clips\"]])\n",
    "n_annotations_clip_test = np.array([len(clip[\"annotations\"]) for video in nlq_annotations_test[\"videos\"] for clip in video[\"clips\"]])\n",
    "\n",
    "all_annotations = np.concatenate([n_annotations_clip_train, n_annotations_clip_val, n_annotations_clip_test])\n",
    "bins = np.arange(min(all_annotations), max(all_annotations) + 3) \n",
    "\n",
    "train_hist, _ = np.histogram(n_annotations_video_train, bins=bins)\n",
    "val_hist, _ = np.histogram(n_annotations_video_val, bins=bins)\n",
    "test_hist, _ = np.histogram(n_annotations_video_test, bins=bins)\n",
    "\n",
    "bar_width = 0.25\n",
    "x = bins[:-1]  \n",
    "x_indices = np.arange(len(x))  \n",
    "\n",
    "plt.bar(x_indices - bar_width, train_hist, width=bar_width, label='Train')\n",
    "plt.bar(x_indices, val_hist, width=bar_width, label='Validation')\n",
    "plt.bar(x_indices + bar_width, test_hist, width=bar_width, label='Test')\n",
    "\n",
    "plt.xticks(x_indices, x, rotation=45)\n",
    "plt.xlabel(\"Number of Annotations per Clip\")\n",
    "plt.ylabel(\"Frequency\")\n",
    "plt.title(\"Distribution of Annotations per Clip (Grouped by Split)\")\n",
    "plt.legend()\n",
    "plt.grid(axis=\"y\", alpha=0.5)\n",
    "plt.tight_layout()\n",
    "plt.show()"
   ]
  },
  {
   "cell_type": "code",
   "execution_count": 165,
   "id": "db494235",
   "metadata": {},
   "outputs": [
    {
     "name": "stdout",
     "output_type": "stream",
     "text": [
      "Number of Annotations per Split (Total: 22408):\n",
      "  - Train:      13849\n",
      "  - Validation: 4554\n",
      "  - Test:       4005\n"
     ]
    }
   ],
   "source": [
    "# Count language queries per split (Train, Validation, Test)\n",
    "n_language_queries_train_split = np.sum([\n",
    "    sum(len(annotation[\"language_queries\"]) for annotation in clip[\"annotations\"])\n",
    "    for video in nlq_annotations_train[\"videos\"]\n",
    "    for clip in video[\"clips\"]\n",
    "])\n",
    "\n",
    "n_language_queries_val_split = np.sum([\n",
    "    sum(len(annotation[\"language_queries\"]) for annotation in clip[\"annotations\"])\n",
    "    for video in nlq_annotations_val[\"videos\"]\n",
    "    for clip in video[\"clips\"]\n",
    "])\n",
    "\n",
    "n_language_queries_test_split = np.sum([\n",
    "    sum(len(annotation[\"language_queries\"]) for annotation in clip[\"annotations\"])\n",
    "    for video in nlq_annotations_test[\"videos\"]\n",
    "    for clip in video[\"clips\"]\n",
    "])\n",
    "\n",
    "tot_language_queries = n_language_queries_train_split + n_language_queries_val_split + n_language_queries_test_split\n",
    "\n",
    "\n",
    "print(f\"Number of Annotations per Split (Total: {tot_language_queries}):\")\n",
    "print(f\"  - Train:      {n_language_queries_train_split}\")\n",
    "print(f\"  - Validation: {n_language_queries_val_split}\")\n",
    "print(f\"  - Test:       {n_language_queries_test_split}\")"
   ]
  },
  {
   "cell_type": "code",
   "execution_count": 169,
   "id": "2eb97d8d",
   "metadata": {},
   "outputs": [
    {
     "data": {
      "image/png": "[encoded data removed]",
      "text/plain": [
       "<Figure size 640x480 with 1 Axes>"
      ]
     },
     "metadata": {},
     "output_type": "display_data"
    }
   ],
   "source": [
    "percentages = np.array([n_language_queries_train_split, n_language_queries_val_split, n_language_queries_test_split]) / tot_language_queries\n",
    "\n",
    "plt.bar(splits, percentages)\n",
    "\n",
    "for i, perc in enumerate(percentages):\n",
    "    plt.text(x=i, y=perc, s=f\"{perc*100:.2f}%\", ha=\"center\", va=\"bottom\")\n",
    "\n",
    "plt.ylim((0, 1))\n",
    "plt.xlabel(\"Data Split\")\n",
    "plt.ylabel(\"Total Number of Language Queries\")\n",
    "plt.title(\"Total Number of Language Queries per Data Split\")\n",
    "plt.grid(axis=\"y\", alpha=0.5)\n",
    "plt.tight_layout()\n",
    "plt.show()"
   ]
  },
  {
   "cell_type": "markdown",
   "id": "5470d556",
   "metadata": {},
   "source": [
    "#### Template distributions"
   ]
  },
  {
   "cell_type": "code",
   "execution_count": null,
   "id": "6967f0c3",
   "metadata": {},
   "outputs": [
    {
     "data": {
      "text/plain": [
       "7"
      ]
     },
     "execution_count": 154,
     "metadata": {},
     "output_type": "execute_result"
    }
   ],
   "source": [
    "len(nlq_annotations_train[\"videos\"][0][\"clips\"][0][\"annotations\"][0][\"language_queries\"])"
   ]
  },
  {
   "cell_type": "markdown",
   "id": "a6e0cf8b",
   "metadata": {},
   "source": [
    "## Omnivore"
   ]
  },
  {
   "cell_type": "code",
   "execution_count": 50,
   "id": "4214b569",
   "metadata": {},
   "outputs": [],
   "source": [
    "OMNIVORE_DATA_PATH = os.path.join(EGO4D_DATA_PATH, \"omnivore_video_swinl_fp16\")"
   ]
  },
  {
   "cell_type": "markdown",
   "id": "6a1cd7cf",
   "metadata": {},
   "source": [
    "# EgoVLP Data"
   ]
  },
  {
   "cell_type": "code",
   "execution_count": 51,
   "id": "a3bd4fbb",
   "metadata": {},
   "outputs": [],
   "source": [
    "EGOVLP_DATA = os.path.join(\"egovlp_data\")"
   ]
  }
 ],
 "metadata": {
  "kernelspec": {
   "display_name": ".venv",
   "language": "python",
   "name": "python3"
  },
  "language_info": {
   "codemirror_mode": {
    "name": "ipython",
    "version": 3
   },
   "file_extension": ".py",
   "mimetype": "text/x-python",
   "name": "python",
   "nbconvert_exporter": "python",
   "pygments_lexer": "ipython3",
   "version": "3.13.2"
  }
 },
 "nbformat": 4,
 "nbformat_minor": 5
}
