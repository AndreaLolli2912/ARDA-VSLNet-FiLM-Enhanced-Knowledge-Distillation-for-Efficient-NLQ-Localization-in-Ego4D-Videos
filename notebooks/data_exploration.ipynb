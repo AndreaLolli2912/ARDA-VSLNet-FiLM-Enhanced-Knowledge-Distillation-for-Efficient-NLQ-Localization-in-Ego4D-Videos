{
 "cells": [
  {
   "cell_type": "code",
   "execution_count": 5,
   "id": "9e727401",
   "metadata": {},
   "outputs": [],
   "source": [
    "import os\n",
    "import json"
   ]
  },
  {
   "cell_type": "markdown",
   "id": "f5b374e1",
   "metadata": {},
   "source": [
    "# Ego4D Data"
   ]
  },
  {
   "cell_type": "code",
   "execution_count": 3,
   "id": "eb03cce1",
   "metadata": {},
   "outputs": [],
   "source": [
    "EGO4D_DATA_PATH = os.path.join(\"..\", \"ego4d_data\", \"v1\")"
   ]
  },
  {
   "cell_type": "markdown",
   "id": "7eca77f4",
   "metadata": {},
   "source": [
    "## NLQ Annotations"
   ]
  },
  {
   "cell_type": "code",
   "execution_count": 26,
   "id": "d47379a2",
   "metadata": {},
   "outputs": [
    {
     "name": "stdout",
     "output_type": "stream",
     "text": [
      "File name: nlq_test_unannotated.json\n",
      "File name: nlq_train.json\n",
      "File name: nlq_val.json\n",
      "Annotations split: dict_keys(['test', 'train', 'val'])\n"
     ]
    }
   ],
   "source": [
    "nlq_annotations = dict()\n",
    "\n",
    "NLQ_ANNOTATIONS_PATH = os.path.join(EGO4D_DATA_PATH, \"annotations\")\n",
    "\n",
    "for file_name in os.listdir(NLQ_ANNOTATIONS_PATH):\n",
    "    if file_name.startswith(\"nlq\"):\n",
    "        print(\"File name:\", file_name)\n",
    "        split = \"train\" if \"train\" in file_name else \"test\" if \"test\" in file_name else \"val\"\n",
    "        \n",
    "        file_path = os.path.join(NLQ_ANNOTATIONS_PATH, file_name)\n",
    "        \n",
    "        with open(file_path, \"r\") as f:\n",
    "            raw_data = json.load(f)\n",
    "        \n",
    "        nlq_annotations[split] = raw_data\n",
    "\n",
    "print(\"Annotations split:\", nlq_annotations.keys())"
   ]
  },
  {
   "cell_type": "markdown",
   "id": "f1759154",
   "metadata": {},
   "source": [
    "### Train\n"
   ]
  },
  {
   "cell_type": "markdown",
   "id": "0f29187d",
   "metadata": {},
   "source": [
    "Train annotations are characterized by:\n",
    "- version: which in this case is v1 as we have chosen \n",
    "- date: date of the data last revision (I guess)\n",
    "- description: refers to the data benchmark (NLQ) and split (train)\n",
    "- manifest: path to the split manifest"
   ]
  },
  {
   "cell_type": "code",
   "execution_count": 45,
   "id": "bf626d0c",
   "metadata": {},
   "outputs": [
    {
     "data": {
      "text/plain": [
       "(dict_keys(['version', 'date', 'description', 'manifest', 'videos']), 3)"
      ]
     },
     "execution_count": 45,
     "metadata": {},
     "output_type": "execute_result"
    }
   ],
   "source": [
    "nlq_annotations_train = nlq_annotations[\"train\"]\n",
    "nlq_annotations_train.keys(), len(nlq_annotations)"
   ]
  },
  {
   "cell_type": "code",
   "execution_count": 49,
   "id": "c755e5da",
   "metadata": {},
   "outputs": [
    {
     "name": "stdout",
     "output_type": "stream",
     "text": [
      "nlq_annotations_train['version'] 1\n",
      "nlq_annotations_train['date'] 220216\n",
      "nlq_annotations_train['description'] NLQ Annotations (train)\n",
      "nlq_annotations_train['manifest'] s3://ego4d-consortium-sharing/public/v1/full_scale/manifest.csv\n"
     ]
    }
   ],
   "source": [
    "print(\"nlq_annotations_train['version']\", nlq_annotations_train[\"version\"])\n",
    "print(\"nlq_annotations_train['date']\", nlq_annotations_train[\"date\"])\n",
    "print(\"nlq_annotations_train['description']\", nlq_annotations_train[\"description\"])\n",
    "print(\"nlq_annotations_train['manifest']\", nlq_annotations_train[\"manifest\"])"
   ]
  },
  {
   "cell_type": "code",
   "execution_count": 38,
   "id": "e5c316f7",
   "metadata": {},
   "outputs": [
    {
     "name": "stdout",
     "output_type": "stream",
     "text": [
      "type(nlq_annotations_train_videos): <class 'list'>\n",
      "len(nlq_annotations_train_videos): 754\n"
     ]
    }
   ],
   "source": [
    "# explore videos data\n",
    "nlq_annotations_train_videos = nlq_annotations_train[\"videos\"]\n",
    "\n",
    "print(f\"type(nlq_annotations_train_videos): {type(nlq_annotations_train_videos)}\")\n",
    "print(f\"len(nlq_annotations_train_videos): {len(nlq_annotations_train_videos)}\")"
   ]
  },
  {
   "cell_type": "code",
   "execution_count": 41,
   "id": "95ff788d",
   "metadata": {},
   "outputs": [
    {
     "name": "stdout",
     "output_type": "stream",
     "text": [
      "type(video_0): <class 'dict'>\n",
      "video_0.keys(): dict_keys(['video_uid', 'clips', 'split'])\n"
     ]
    }
   ],
   "source": [
    "video_0 = nlq_annotations_train_videos[0]\n",
    "print(f\"type(video_0): {type(video_0)}\")\n",
    "print(f\"video_0.keys(): {video_0.keys()}\")"
   ]
  },
  {
   "cell_type": "code",
   "execution_count": 44,
   "id": "cb9d3036",
   "metadata": {},
   "outputs": [
    {
     "name": "stdout",
     "output_type": "stream",
     "text": [
      "d250521e-5197-44aa-8baa-2f42b24444d2\n"
     ]
    }
   ],
   "source": [
    "video_0_uid = video_0[\"video_uid\"]\n",
    "print(video_0_uid)"
   ]
  },
  {
   "cell_type": "markdown",
   "id": "36e7f5b0",
   "metadata": {},
   "source": [
    "### Validation"
   ]
  },
  {
   "cell_type": "markdown",
   "id": "2b968bbc",
   "metadata": {},
   "source": [
    "### Test"
   ]
  },
  {
   "cell_type": "code",
   "execution_count": null,
   "id": "d20efbdf",
   "metadata": {},
   "outputs": [],
   "source": []
  },
  {
   "cell_type": "markdown",
   "id": "a6e0cf8b",
   "metadata": {},
   "source": [
    "## Omnivore"
   ]
  },
  {
   "cell_type": "code",
   "execution_count": null,
   "id": "4214b569",
   "metadata": {},
   "outputs": [],
   "source": [
    "OMNIVORE_DATA_PATH = os.path.join(EGO4D_DATA_PATH, \"omnivore_video_swinl_fp16\")"
   ]
  },
  {
   "cell_type": "markdown",
   "id": "6a1cd7cf",
   "metadata": {},
   "source": [
    "# EgoVLP Data"
   ]
  },
  {
   "cell_type": "code",
   "execution_count": null,
   "id": "a3bd4fbb",
   "metadata": {},
   "outputs": [],
   "source": [
    "EGOVLP_DATA = os.path.join(\"egovlp_data\")"
   ]
  }
 ],
 "metadata": {
  "kernelspec": {
   "display_name": ".venv",
   "language": "python",
   "name": "python3"
  },
  "language_info": {
   "codemirror_mode": {
    "name": "ipython",
    "version": 3
   },
   "file_extension": ".py",
   "mimetype": "text/x-python",
   "name": "python",
   "nbconvert_exporter": "python",
   "pygments_lexer": "ipython3",
   "version": "3.13.2"
  }
 },
 "nbformat": 4,
 "nbformat_minor": 5
}
